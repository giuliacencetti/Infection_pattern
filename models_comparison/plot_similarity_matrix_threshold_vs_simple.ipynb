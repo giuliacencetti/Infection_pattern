{
 "cells": [
  {
   "cell_type": "code",
   "execution_count": null,
   "metadata": {},
   "outputs": [],
   "source": [
    "import numpy as np\n",
    "import seaborn as sns\n",
    "import matplotlib.pyplot as plt\n",
    "import csv\n",
    "import networkx as nx\n",
    "import pickle\n",
    "import os\n",
    "import sys\n",
    "sys.path.insert(1, '../')\n",
    "from utils import *"
   ]
  },
  {
   "cell_type": "code",
   "execution_count": null,
   "metadata": {},
   "outputs": [],
   "source": [
    "plt.rcParams.update({'font.size': 15})"
   ]
  },
  {
   "cell_type": "markdown",
   "metadata": {},
   "source": [
    "## Functions:"
   ]
  },
  {
   "cell_type": "code",
   "execution_count": null,
   "metadata": {},
   "outputs": [],
   "source": [
    "def load_C_mean(filename):\n",
    "    with open(filename, 'r') as csvfile:\n",
    "        spamreader = csv.reader(csvfile, delimiter=',', quotechar='|')\n",
    "        for row in spamreader:\n",
    "            C = np.array([float(i) for i in row])\n",
    "    return C"
   ]
  },
  {
   "cell_type": "code",
   "execution_count": null,
   "metadata": {},
   "outputs": [],
   "source": [
    "# cosine similarity between vectors\n",
    "def similarity(v1,v2):\n",
    "    \n",
    "    return np.sum(v1*v2) / (np.sqrt((np.sum(v1*v1))*np.sum(v2*v2)))"
   ]
  },
  {
   "cell_type": "code",
   "execution_count": null,
   "metadata": {},
   "outputs": [],
   "source": [
    "dataset = 'pr_school'"
   ]
  },
  {
   "cell_type": "code",
   "execution_count": null,
   "metadata": {},
   "outputs": [],
   "source": [
    "weighted = True"
   ]
  },
  {
   "cell_type": "code",
   "execution_count": null,
   "metadata": {},
   "outputs": [],
   "source": [
    "edgelist_name = '../data/pairwise/' + dataset + '_strength_edgelist_pairwise_sorted_norm.pkl'\n",
    "with open(edgelist_name, 'rb') as f:\n",
    "    edgelist = pickle.load(f)\n",
    "\n",
    "nodes_list = np.unique(list(edgelist.keys()))"
   ]
  },
  {
   "cell_type": "code",
   "execution_count": null,
   "metadata": {},
   "outputs": [],
   "source": [
    "nb_nodes = len(nodes_list)\n",
    "#seed_size = int(round(nb_nodes/10))\n",
    "seed_size = 1"
   ]
  },
  {
   "cell_type": "markdown",
   "metadata": {},
   "source": [
    "# Comparison matrices"
   ]
  },
  {
   "cell_type": "code",
   "execution_count": null,
   "metadata": {},
   "outputs": [],
   "source": [
    "mu = 0.1"
   ]
  },
  {
   "cell_type": "markdown",
   "metadata": {},
   "source": [
    "Load all simple results"
   ]
  },
  {
   "cell_type": "code",
   "execution_count": null,
   "metadata": {},
   "outputs": [],
   "source": [
    "mu = 0.1\n",
    "betaT = 0\n",
    "if dataset == 'hospital':\n",
    "    beta_range = [0.2,0.3,0.4,0.5,0.6,0.7,0.8,0.9]\n",
    "    R0_range = [1.20,1.53,1.77,2,2.22,2.38,2.56,2.7]\n",
    "\n",
    "elif dataset == 'high_school':\n",
    "    beta_range = [0.5,0.6,0.7,0.8,0.9,1.0]\n",
    "    R0_range = [1.25,1.40,1.55,1.71,1.83,1.88]\n",
    "\n",
    "elif dataset == 'workplace':\n",
    "    beta_range = [0.3,0.4,0.5,0.6,0.7,0.8]\n",
    "    R0_range = [1.26,1.55,1.82,2.06,2.22,2.40]\n",
    "\n",
    "elif dataset == 'conference':\n",
    "    beta_range = [0.6,0.7,0.8,0.9,1]\n",
    "    R0_range = [1.21,1.37,1.49,1.60,1.74]\n",
    "    \n",
    "elif dataset == 'pr_school':\n",
    "    beta_range = [0.12,0.15,0.18,0.21,0.24,0.27,0.3,0.33,0.36]\n",
    "    R0_range = [1.40,1.65,1.97,2.11,2.31,2.48,2.68,2.84,3.01]\n"
   ]
  },
  {
   "cell_type": "code",
   "execution_count": null,
   "metadata": {},
   "outputs": [],
   "source": [
    "C_list_simple = []\n",
    "for beta in beta_range:\n",
    "    filename = \"../Simple_model/code/results/inf_treeSIR/CL_mean_weighted_%s_beta_%.3f_betaT_0.000_mu_%.2f_init_%d.csv\"%(dataset,beta,mu,seed_size)\n",
    "    C = load_C_mean(filename)\n",
    "    C_list_simple.append(C)"
   ]
  },
  {
   "cell_type": "code",
   "execution_count": null,
   "metadata": {},
   "outputs": [],
   "source": [
    "len(C_list_simple)"
   ]
  },
  {
   "cell_type": "markdown",
   "metadata": {},
   "source": [
    "Load all threshold results"
   ]
  },
  {
   "cell_type": "code",
   "execution_count": null,
   "metadata": {},
   "outputs": [],
   "source": [
    "thresholds = [0.04, 0.06, 0.08, 0.10, 0.12, 0.14, 0.16, 0.18, 0.20, 0.22]\n",
    "if dataset == 'pr_school':\n",
    "    thresholds = [0.02, 0.04, 0.06, 0.08, 0.10, 0.12, 0.14, 0.16]\n",
    "\n",
    "mu = 0.1"
   ]
  },
  {
   "cell_type": "code",
   "execution_count": null,
   "metadata": {},
   "outputs": [],
   "source": [
    "C_list_thresh = []\n",
    "for theta in thresholds:\n",
    "    filename = \"../Threshold_model/code/results/inf_treeSIR/C_mean_weighted_%s_th_%.2f_mu_%.3f.csv\"%(dataset,theta,mu)\n",
    "    C = load_C_mean(filename)\n",
    "    C_list_thresh.append(C)"
   ]
  },
  {
   "cell_type": "code",
   "execution_count": null,
   "metadata": {},
   "outputs": [],
   "source": [
    "len(C_list_thresh)"
   ]
  },
  {
   "cell_type": "markdown",
   "metadata": {},
   "source": [
    "Compute similarity and put in matrix sim$\\\\$ (each row is a different $\\theta$, each column a different $\\beta_|$)"
   ]
  },
  {
   "cell_type": "code",
   "execution_count": null,
   "metadata": {},
   "outputs": [],
   "source": [
    "sim = np.full((len(thresholds),len(beta_range)),0.0)\n",
    "for i in range(len(thresholds)):\n",
    "    for j in range(len(beta_range)): \n",
    "        #print('riga',i,'theta',thresholds[i],'colonna',j,'R0',R0_range[j])\n",
    "        sim[i,j] = similarity(C_list_thresh[i],C_list_simple[j])"
   ]
  },
  {
   "cell_type": "code",
   "execution_count": null,
   "metadata": {},
   "outputs": [],
   "source": [
    "folder = '../figs/'\n",
    "if not os.path.exists(folder):\n",
    "    os.makedirs(folder)"
   ]
  },
  {
   "cell_type": "code",
   "execution_count": null,
   "metadata": {
    "scrolled": true
   },
   "outputs": [],
   "source": [
    "plot_sim_different_axes(sim, \n",
    "                        R0_range, \n",
    "                        thresholds, \n",
    "                        '$R_0$', \n",
    "                        r'$\\theta$',\n",
    "                        folder + 'sim_threshold_simple_%s_mu_%.3f.pdf'%(dataset,mu),\n",
    "                        save=True)"
   ]
  },
  {
   "cell_type": "code",
   "execution_count": null,
   "metadata": {},
   "outputs": [],
   "source": []
  }
 ],
 "metadata": {
  "kernelspec": {
   "display_name": "Python 3",
   "language": "python",
   "name": "python3"
  },
  "language_info": {
   "codemirror_mode": {
    "name": "ipython",
    "version": 3
   },
   "file_extension": ".py",
   "mimetype": "text/x-python",
   "name": "python",
   "nbconvert_exporter": "python",
   "pygments_lexer": "ipython3",
   "version": "3.7.0"
  }
 },
 "nbformat": 4,
 "nbformat_minor": 2
}
