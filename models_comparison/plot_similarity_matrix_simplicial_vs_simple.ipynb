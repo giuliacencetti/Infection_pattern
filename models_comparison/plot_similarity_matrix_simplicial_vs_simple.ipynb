{
 "cells": [
  {
   "cell_type": "code",
   "execution_count": 1,
   "metadata": {},
   "outputs": [],
   "source": [
    "import numpy as np\n",
    "import seaborn as sns\n",
    "import matplotlib.pyplot as plt\n",
    "import csv\n",
    "import networkx as nx\n",
    "import pickle\n",
    "\n",
    "import sys\n",
    "sys.path.insert(1, '../')\n",
    "from utils import *"
   ]
  },
  {
   "cell_type": "code",
   "execution_count": 2,
   "metadata": {},
   "outputs": [],
   "source": [
    "plt.rcParams.update({'font.size': 13})"
   ]
  },
  {
   "cell_type": "markdown",
   "metadata": {},
   "source": [
    "## Functions:"
   ]
  },
  {
   "cell_type": "code",
   "execution_count": 3,
   "metadata": {},
   "outputs": [],
   "source": [
    "def load_C_mean(filename):\n",
    "    with open(filename, 'r') as csvfile:\n",
    "        spamreader = csv.reader(csvfile, delimiter=',', quotechar='|')\n",
    "        for row in spamreader:\n",
    "            C = np.array([float(i) for i in row])\n",
    "    return C"
   ]
  },
  {
   "cell_type": "code",
   "execution_count": 4,
   "metadata": {},
   "outputs": [],
   "source": [
    "# cosine similarity between vectors\n",
    "def similarity(v1,v2):\n",
    "    \n",
    "    return np.sum(v1*v2) / (np.sqrt((np.sum(v1*v1))*np.sum(v2*v2)))"
   ]
  },
  {
   "cell_type": "code",
   "execution_count": 5,
   "metadata": {},
   "outputs": [],
   "source": [
    "#dataset = 'hospital'\n",
    "#dataset = 'high_school'\n",
    "#dataset = 'conference'\n",
    "dataset = 'workplace'\n",
    "#dataset = 'pr_school'"
   ]
  },
  {
   "cell_type": "code",
   "execution_count": 6,
   "metadata": {},
   "outputs": [],
   "source": [
    "weighted = True"
   ]
  },
  {
   "cell_type": "code",
   "execution_count": 7,
   "metadata": {},
   "outputs": [],
   "source": [
    "seed_size = 1"
   ]
  },
  {
   "cell_type": "markdown",
   "metadata": {},
   "source": [
    "# Comparison matrices"
   ]
  },
  {
   "cell_type": "markdown",
   "metadata": {},
   "source": [
    "## Varying $\\beta_{|}$"
   ]
  },
  {
   "cell_type": "code",
   "execution_count": 8,
   "metadata": {},
   "outputs": [],
   "source": [
    "mu = 0.1"
   ]
  },
  {
   "cell_type": "markdown",
   "metadata": {},
   "source": [
    "Load all simplicial results"
   ]
  },
  {
   "cell_type": "code",
   "execution_count": 9,
   "metadata": {},
   "outputs": [],
   "source": [
    "if dataset == 'hospital':\n",
    "    beta_betaT_range = [(0.6,0.8),\n",
    "                        (0.2,0.8),\n",
    "                        (0.3,5),\n",
    "                        (0.4,7.5),\n",
    "                        (0.15,5),\n",
    "                        (0.3,10),\n",
    "                        (0.1,10),\n",
    "                        (0.06,10),\n",
    "                        (0.05,15),\n",
    "                        (0.05,19)]\n",
    "#elif dataset == 'high_school':\n",
    "    \n",
    "elif dataset == 'conference':\n",
    "    beta_betaT_range = [(1,12),\n",
    "                        (0.9,12),\n",
    "                        (0.8,12),\n",
    "                        (0.7,12),\n",
    "                        (0.6,12),\n",
    "                        (0.5,12),\n",
    "                        (0.4,12)]   \n",
    "elif dataset == 'pr_school':\n",
    "    beta_betaT_range = [(0.07,7),\n",
    "                        #(0.08,7),\n",
    "                        (0.1,7),\n",
    "                        #(0.11,6),\n",
    "                        (0.1,5),\n",
    "                        (0.2,7),\n",
    "                        (0.15,5),\n",
    "                        #(0.14,5),\n",
    "                        (0.2,5),\n",
    "                        #(0.17,4),\n",
    "                        (0.2,3),\n",
    "                        #(0.23,2),\n",
    "                        (0.2,1),\n",
    "                        #(0.26,1)\n",
    "                        ]\n",
    "elif dataset == 'workplace': \n",
    "    beta_betaT_range = [(0.5,7),\n",
    "                        (0.4,7.3),\n",
    "                        (0.3,6.5),\n",
    "                        (0.25,6.5),\n",
    "                        (0.25,7),\n",
    "                        (0.2,7),\n",
    "                        (0.2,7.3)]"
   ]
  },
  {
   "cell_type": "code",
   "execution_count": 10,
   "metadata": {},
   "outputs": [],
   "source": [
    "C_list_simplicial = []\n",
    "for (beta,betaT) in beta_betaT_range:\n",
    "    filenameL = \"../Simplicial_model/code/results/inf_treeSIR/CL_mean_weighted_%s_beta_%.3f_betaT_%.3f_mu_%.2f_init_1.csv\"%(dataset,beta,betaT,mu)\n",
    "    filenameT = \"../Simplicial_model/code/results/inf_treeSIR/CT_mean_weighted_%s_beta_%.3f_betaT_%.3f_mu_%.2f_init_1.csv\"%(dataset,beta,betaT,mu)\n",
    "    CL = load_C_mean(filenameL)\n",
    "    CT = load_C_mean(filenameT)\n",
    "    C_list_simplicial.append(CL+CT)"
   ]
  },
  {
   "cell_type": "code",
   "execution_count": 11,
   "metadata": {},
   "outputs": [
    {
     "data": {
      "text/plain": [
       "7"
      ]
     },
     "execution_count": 11,
     "metadata": {},
     "output_type": "execute_result"
    }
   ],
   "source": [
    "len(C_list_simplicial)"
   ]
  },
  {
   "cell_type": "markdown",
   "metadata": {},
   "source": [
    "Load all simple results"
   ]
  },
  {
   "cell_type": "code",
   "execution_count": 12,
   "metadata": {},
   "outputs": [],
   "source": [
    "if dataset == 'hospital':\n",
    "    beta_range = [0.2,0.3,0.4,0.5,0.6,0.7,0.8,0.9]\n",
    "    R0_range = [1.20,1.53,1.77,2,2.22,2.38,2.56,2.7]\n",
    "\n",
    "elif dataset == 'high_school':\n",
    "    beta_range = [0.5,0.6,0.7,0.8,0.9,1.0]\n",
    "    R0_range = [1.25,1.40,1.55,1.71,1.83,1.88]\n",
    "\n",
    "elif dataset == 'workplace':\n",
    "    beta_range = [0.3,0.4,0.5,0.6,0.7,0.8]\n",
    "    R0_range = [1.26,1.55,1.82,2.06,2.22,2.40]\n",
    "\n",
    "elif dataset == 'conference':\n",
    "    beta_range = [0.6,0.7,0.8,0.9,1]\n",
    "    R0_range = [1.21,1.37,1.49,1.60,1.74]\n",
    "    \n",
    "elif dataset == 'pr_school':\n",
    "    beta_range = [0.12,0.15,0.18,0.21,0.24,0.27,0.3,0.33,0.36]\n",
    "    R0_range = [1.40,1.65,1.97,2.11,2.31,2.48,2.68,2.84,3.01]"
   ]
  },
  {
   "cell_type": "code",
   "execution_count": null,
   "metadata": {},
   "outputs": [],
   "source": []
  },
  {
   "cell_type": "code",
   "execution_count": 13,
   "metadata": {},
   "outputs": [],
   "source": [
    "C_list_simple = []\n",
    "for beta in beta_range:\n",
    "    filename = \"../Simple_model/code/results/inf_treeSIR/CL_mean_weighted_%s_beta_%.3f_betaT_0.000_mu_%.2f_init_%d.csv\"%(dataset,beta,mu,seed_size)\n",
    "    C = load_C_mean(filename)\n",
    "    C_list_simple.append(C)"
   ]
  },
  {
   "cell_type": "code",
   "execution_count": 14,
   "metadata": {},
   "outputs": [
    {
     "data": {
      "text/plain": [
       "6"
      ]
     },
     "execution_count": 14,
     "metadata": {},
     "output_type": "execute_result"
    }
   ],
   "source": [
    "len(C_list_simple)"
   ]
  },
  {
   "cell_type": "markdown",
   "metadata": {},
   "source": [
    "Compute similarity and put in matrix sim$\\\\$ (each row is a different $\\theta$, each column a different $\\beta_|$)"
   ]
  },
  {
   "cell_type": "code",
   "execution_count": 15,
   "metadata": {},
   "outputs": [],
   "source": [
    "sim = np.full((len(beta_range),len(beta_betaT_range)),0.0)\n",
    "for i in range(len(beta_range)):\n",
    "    for j in range(len(beta_betaT_range)):            \n",
    "        sim[i,j] = similarity(C_list_simple[i],C_list_simplicial[j])\n",
    "        #print('riga',i,'col',j,'R0',R0_range[i],'beta betaT',beta_betaT_range[j])"
   ]
  },
  {
   "cell_type": "code",
   "execution_count": 16,
   "metadata": {},
   "outputs": [],
   "source": [
    "def plot_sim_different_axes(sim, x_range, y_range, x_label, y_label, minValue_dataset, maxValue_dataset,save,scale):\n",
    "    fig,ax = plt.subplots(1,1,figsize=(4.13,4))\n",
    "    if scale == 'independent':\n",
    "        maxValue = max([max(sim[n]) for n in range(len(sim))])\n",
    "        minValue = min([min(sim[n][np.nonzero(sim[n])]) for n in range(len(sim)-1)])\n",
    "    elif scale == 'fixed':\n",
    "        minValue = minValue_dataset\n",
    "        maxValue = maxValue_dataset\n",
    "\n",
    "    print(minValue,maxValue)\n",
    "    plt.rcParams.update({'font.size': 13})\n",
    "    sns.heatmap(sim,\n",
    "                xticklabels=x_range,\n",
    "                yticklabels=y_range,\n",
    "                annot=False,\n",
    "                vmin=minValue,\n",
    "                vmax=maxValue,\n",
    "                cmap=\"viridis\")\n",
    "    plt.xlabel(x_label)\n",
    "    plt.ylabel(y_label)\n",
    "    #ax.set_title(title)\n",
    "    plt.tight_layout()\n",
    "    if save:\n",
    "        if scale == 'independent':\n",
    "            figname = 'figs/sim_simplicial_simple_%s_mu_%.3f.pdf'%(dataset,mu)\n",
    "        elif scale == 'fixed':\n",
    "            figname = 'figs/sim_simplicial_simple_%s_mu_%.3f_colorscale.pdf'%(dataset,mu)\n",
    "        print(figname)\n",
    "        plt.savefig(figname)\n",
    "    plt.show()"
   ]
  },
  {
   "cell_type": "code",
   "execution_count": 20,
   "metadata": {},
   "outputs": [],
   "source": [
    "if dataset == 'pr_school':\n",
    "    minValue_dataset = 0.8708926301573268\n",
    "    maxValue_dataset = 0.9930384288788436\n",
    "elif dataset == 'hospital':\n",
    "    minValue_dataset = 0.8191292897877029\n",
    "    maxValue_dataset = 0.9978018310214777\n",
    "elif dataset == 'workplace':\n",
    "    minValue_dataset = 0.8918053167997326\n",
    "    maxValue_dataset = 0.9911296969962261\n",
    "elif dataset == 'high_school':\n",
    "    minValue_dataset = 0.4273770824044987 \n",
    "    maxValue_dataset = 0.940444458075442\n",
    "elif dataset == 'conference':\n",
    "    minValue_dataset = 0.9103281021232588 \n",
    "    maxValue_dataset = 0.9968363331263105"
   ]
  },
  {
   "cell_type": "code",
   "execution_count": 18,
   "metadata": {},
   "outputs": [
    {
     "name": "stdout",
     "output_type": "stream",
     "text": [
      "0.8918053167997326 0.9891379460414468\n",
      "figs/sim_simplicial_simple_workplace_mu_0.100.pdf\n"
     ]
    },
    {
     "data": {
      "image/png": "[encoded data removed]",
      "text/plain": [
       "<Figure size 297.36x288 with 2 Axes>"
      ]
     },
     "metadata": {},
     "output_type": "display_data"
    }
   ],
   "source": [
    "plot_sim_different_axes(sim, \n",
    "                        beta_betaT_range,\n",
    "                        R0_range, \n",
    "                        r'($\\beta_{|}$,$\\beta_{\\Delta}$)',\n",
    "                        '$R_0$', \n",
    "                        minValue_dataset,\n",
    "                        maxValue_dataset,\n",
    "                        save=True,\n",
    "                        scale='independent')"
   ]
  },
  {
   "cell_type": "code",
   "execution_count": 21,
   "metadata": {},
   "outputs": [
    {
     "name": "stdout",
     "output_type": "stream",
     "text": [
      "0.8918053167997326 0.9911296969962261\n",
      "figs/sim_simplicial_simple_workplace_mu_0.100_colorscale.pdf\n"
     ]
    },
    {
     "data": {
      "image/png": "[encoded data removed]",
      "text/plain": [
       "<Figure size 297.36x288 with 2 Axes>"
      ]
     },
     "metadata": {},
     "output_type": "display_data"
    }
   ],
   "source": [
    "plot_sim_different_axes(sim, \n",
    "                        beta_betaT_range,\n",
    "                        R0_range, \n",
    "                        r'($\\beta_{|}$,$\\beta_{\\Delta}$)',\n",
    "                        '$R_0$', \n",
    "                        minValue_dataset,\n",
    "                        maxValue_dataset,\n",
    "                        save=True,\n",
    "                        scale='fixed')"
   ]
  },
  {
   "cell_type": "code",
   "execution_count": null,
   "metadata": {},
   "outputs": [],
   "source": []
  },
  {
   "cell_type": "code",
   "execution_count": null,
   "metadata": {},
   "outputs": [],
   "source": []
  }
 ],
 "metadata": {
  "kernelspec": {
   "display_name": "Python 3",
   "language": "python",
   "name": "python3"
  },
  "language_info": {
   "codemirror_mode": {
    "name": "ipython",
    "version": 3
   },
   "file_extension": ".py",
   "mimetype": "text/x-python",
   "name": "python",
   "nbconvert_exporter": "python",
   "pygments_lexer": "ipython3",
   "version": "3.7.0"
  }
 },
 "nbformat": 4,
 "nbformat_minor": 2
}
