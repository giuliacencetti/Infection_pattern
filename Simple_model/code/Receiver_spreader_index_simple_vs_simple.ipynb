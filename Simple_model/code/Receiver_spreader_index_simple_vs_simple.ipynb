{
 "cells": [
  {
   "cell_type": "code",
   "execution_count": 1,
   "metadata": {},
   "outputs": [],
   "source": [
    "import numpy as np\n",
    "#import seaborn as sns\n",
    "#import matplotlib.pyplot as plt\n",
    "import csv\n",
    "import pickle\n",
    "from scipy import stats\n",
    "\n",
    "import sys\n",
    "sys.path.insert(1, '../../')\n",
    "from utils import *"
   ]
  },
  {
   "cell_type": "code",
   "execution_count": 11,
   "metadata": {},
   "outputs": [],
   "source": [
    "plt.rcParams.update({'font.size': 13})"
   ]
  },
  {
   "cell_type": "code",
   "execution_count": 2,
   "metadata": {},
   "outputs": [],
   "source": [
    "#dataset = 'hospital'\n",
    "#dataset = 'high_school'\n",
    "#dataset = 'conference'\n",
    "#dataset = 'workplace'\n",
    "dataset = 'pr_school'"
   ]
  },
  {
   "cell_type": "code",
   "execution_count": 3,
   "metadata": {},
   "outputs": [],
   "source": [
    "weighted = True"
   ]
  },
  {
   "cell_type": "code",
   "execution_count": 4,
   "metadata": {},
   "outputs": [],
   "source": [
    "mu = 0.1\n",
    "betaT = 0\n",
    "if dataset == 'hospital':\n",
    "    beta_range = [0.2,0.3,0.4,0.5,0.6,0.7,0.8,0.9]\n",
    "    R0_range = [1.20,1.53,1.77,2,2.22,2.38,2.56,2.7]\n",
    "\n",
    "elif dataset == 'high_school':\n",
    "    beta_range = [0.5,0.6,0.7,0.8,0.9,1.0]\n",
    "    R0_range = [1.25,1.40,1.55,1.71,1.83,1.88]\n",
    "\n",
    "elif dataset == 'workplace':\n",
    "    beta_range = [0.3,0.4,0.5,0.6,0.7,0.8]\n",
    "    R0_range = [1.26,1.55,1.82,2.06,2.22,2.40]\n",
    "\n",
    "elif dataset == 'conference':\n",
    "    beta_range = [0.6,0.7,0.8,0.9,1]\n",
    "    R0_range = [1.21,1.37,1.49,1.60,1.74]\n",
    "    \n",
    "elif dataset == 'pr_school':\n",
    "    beta_range = [0.12,0.15,0.18,0.21,0.24,0.27,0.3,0.33,0.36]\n",
    "    R0_range = [1.40,1.65,1.97,2.11,2.31,2.48,2.68,2.84,3.01]"
   ]
  },
  {
   "cell_type": "markdown",
   "metadata": {},
   "source": [
    "# Load C and obtain r and s:"
   ]
  },
  {
   "cell_type": "markdown",
   "metadata": {},
   "source": [
    "C is an array of weights, I need to put it in a matrix shape to compute r and s"
   ]
  },
  {
   "cell_type": "code",
   "execution_count": 5,
   "metadata": {},
   "outputs": [],
   "source": [
    "def obtain_r_s_indices(C,edgelist):\n",
    "    # put C in dict:\n",
    "    C_dict = {}\n",
    "    n = 0\n",
    "    for edge in edgelist:\n",
    "        C_dict[tuple(edge)] = C[n]\n",
    "        C_dict[tuple(edge[::-1])] = C[n+1]\n",
    "        n += 2\n",
    "    # verify:\n",
    "    if list(C_dict.values()) != list(C):\n",
    "        print('error')\n",
    "    nb_nodes = max(np.unique(list(C_dict.keys()))) + 1\n",
    "    # put C_dict in matrix:\n",
    "    C_mat = np.zeros((nb_nodes,nb_nodes))\n",
    "    for link in C_dict:\n",
    "        C_mat[link[0],link[1]] = C_dict[link]\n",
    "\n",
    "    # receiver index:\n",
    "    r = C_mat.sum(axis=0) # somma di ogni colonna\n",
    "    # spreader index:\n",
    "    s = C_mat.sum(axis=1) # somma di ogni riga\n",
    "\n",
    "    return r, s"
   ]
  },
  {
   "cell_type": "code",
   "execution_count": 6,
   "metadata": {},
   "outputs": [],
   "source": [
    "with open('../../data/pairwise/' + dataset + '_strength_edgelist_pairwise_sorted.pkl', 'rb') as f:\n",
    "    edgelist = pickle.load(f)"
   ]
  },
  {
   "cell_type": "code",
   "execution_count": 7,
   "metadata": {},
   "outputs": [],
   "source": [
    "r_list = []\n",
    "s_list = []\n",
    "for beta in beta_range:\n",
    "    filename = \"results/inf_treeSIR/CL_mean_weighted_%s_beta_%.3f_betaT_%.3f_mu_%.2f_init_1.csv\"%(dataset,beta,betaT,mu)\n",
    "    C = load_C_mean(filename)\n",
    "    # verify:\n",
    "    if 2*len(edgelist) != len(C):\n",
    "        print('errore')\n",
    "    r, s = obtain_r_s_indices(C,edgelist)\n",
    "    r_list.append(r)\n",
    "    s_list.append(s)\n",
    "    "
   ]
  },
  {
   "cell_type": "code",
   "execution_count": 8,
   "metadata": {},
   "outputs": [],
   "source": [
    "#r_list[0]"
   ]
  },
  {
   "cell_type": "markdown",
   "metadata": {},
   "source": [
    "# Cosine similarity"
   ]
  },
  {
   "cell_type": "markdown",
   "metadata": {},
   "source": [
    "### Receiver index"
   ]
  },
  {
   "cell_type": "code",
   "execution_count": 9,
   "metadata": {},
   "outputs": [],
   "source": [
    "sim_r = np.full((len(beta_range),len(beta_range)),0.0)\n",
    "for i in range(len(beta_range)-1):\n",
    "    for j in range(i+1,len(beta_range)):\n",
    "        sim_r[i,j] = cos_sim(r_list[i],r_list[j] )"
   ]
  },
  {
   "cell_type": "code",
   "execution_count": 12,
   "metadata": {},
   "outputs": [
    {
     "name": "stdout",
     "output_type": "stream",
     "text": [
      "0.957989498165823 0.9997690061901607\n",
      "../figs/simple_cos_sim_receiver_pr_school_mu_0.10.pdf.pdf\n"
     ]
    },
    {
     "data": {
      "image/png": "[encoded data removed]",
      "text/plain": [
       "<Figure size 324x288 with 2 Axes>"
      ]
     },
     "metadata": {},
     "output_type": "display_data"
    }
   ],
   "source": [
    "title='$r_i$ cosine sim.'\n",
    "figname = '../figs/receiver_cos_sim_%s_mu_%.2f.pdf'%(dataset,mu)\n",
    "\n",
    "plot_sim(sim_r, \n",
    "         mu, \n",
    "         R0_range,\n",
    "         '$R_0$',\n",
    "         save=True, \n",
    "         figname=figname, \n",
    "         scale='independent',\n",
    "         min_scale=0, \n",
    "         max_scale=1)"
   ]
  },
  {
   "cell_type": "markdown",
   "metadata": {},
   "source": [
    "### Spreader index"
   ]
  },
  {
   "cell_type": "code",
   "execution_count": 14,
   "metadata": {},
   "outputs": [],
   "source": [
    "sim_s = np.full((len(beta_range),len(beta_range)),0.0)\n",
    "for i in range(len(beta_range)-1):\n",
    "    for j in range(i+1,len(beta_range)):\n",
    "        sim_s[i,j] = cos_sim(s_list[i],s_list[j] )"
   ]
  },
  {
   "cell_type": "code",
   "execution_count": 15,
   "metadata": {},
   "outputs": [
    {
     "name": "stdout",
     "output_type": "stream",
     "text": [
      "0.9769079839906738 0.9992571505585242\n",
      "../figs/simple_cos_sim_spreader_pr_school_mu_0.10.pdf.pdf\n"
     ]
    },
    {
     "data": {
      "image/png": "[encoded data removed]",
      "text/plain": [
       "<Figure size 324x288 with 2 Axes>"
      ]
     },
     "metadata": {},
     "output_type": "display_data"
    }
   ],
   "source": [
    "title='$s_i$ cosine sim.'\n",
    "figname = '../figs/spreader_cos_sim_%s_mu_%.2f.pdf'%(dataset,mu)\n",
    "\n",
    "plot_sim(sim_s, \n",
    "         mu, \n",
    "         R0_range,\n",
    "         '$R_0$',\n",
    "         save=True, \n",
    "         figname=figname, \n",
    "         scale='independent',\n",
    "         min_scale=0, \n",
    "         max_scale=1)"
   ]
  },
  {
   "cell_type": "markdown",
   "metadata": {},
   "source": [
    "# Ranking correlation"
   ]
  },
  {
   "cell_type": "markdown",
   "metadata": {},
   "source": [
    "### Receiver index"
   ]
  },
  {
   "cell_type": "code",
   "execution_count": 17,
   "metadata": {},
   "outputs": [],
   "source": [
    "corr_r = np.full((len(beta_range),len(beta_range)),0.0)\n",
    "for i in range(len(beta_range)-1):\n",
    "    for j in range(i+1,len(beta_range)):\n",
    "        corr_r[i,j] = stats.spearmanr(np.array(r_list[i]),np.array(r_list[j])).correlation\n",
    "        #corr_r[i,j] = stats.kendalltau(np.array(r_list[i]),np.array(r_list[j]))[0]"
   ]
  },
  {
   "cell_type": "code",
   "execution_count": 18,
   "metadata": {},
   "outputs": [
    {
     "name": "stdout",
     "output_type": "stream",
     "text": [
      "0.9312425129932278 0.9889065244649842\n",
      "../figs/simple_rank_corr_receiver_pr_school_mu_0.10.pdf.pdf\n"
     ]
    },
    {
     "data": {
      "image/png": "[encoded data removed]",
      "text/plain": [
       "<Figure size 324x288 with 2 Axes>"
      ]
     },
     "metadata": {},
     "output_type": "display_data"
    }
   ],
   "source": [
    "title='$r_i$ ranking corr.'\n",
    "figname = '../figs/receiver_rank_corr_%s_mu_%.2f.pdf'%(dataset,mu)\n",
    "\n",
    "plot_sim(corr_r, \n",
    "         mu, \n",
    "         R0_range,\n",
    "         '$R_0$',\n",
    "         save=True, \n",
    "         figname=figname, \n",
    "         scale='independent',\n",
    "         min_scale=0, \n",
    "         max_scale=1)"
   ]
  },
  {
   "cell_type": "markdown",
   "metadata": {},
   "source": [
    "### Spreader index"
   ]
  },
  {
   "cell_type": "code",
   "execution_count": 19,
   "metadata": {},
   "outputs": [],
   "source": [
    "corr_s = np.full((len(beta_range),len(beta_range)),0.0)\n",
    "for i in range(len(beta_range)-1):\n",
    "    for j in range(i+1,len(beta_range)):\n",
    "        corr_s[i,j] = stats.spearmanr(np.array(s_list[i]),np.array(s_list[j])).correlation\n",
    "        #corr_s[i,j] = stats.kendalltau(np.array(s_list[i]),np.array(s_list[j]))[0]"
   ]
  },
  {
   "cell_type": "code",
   "execution_count": 20,
   "metadata": {},
   "outputs": [
    {
     "name": "stdout",
     "output_type": "stream",
     "text": [
      "0.9422228487989837 0.9969729568623069\n",
      "../figs/simple_rank_corr_spreader_pr_school_mu_0.10.pdf.pdf\n"
     ]
    },
    {
     "data": {
      "image/png": "[encoded data removed]",
      "text/plain": [
       "<Figure size 324x288 with 2 Axes>"
      ]
     },
     "metadata": {},
     "output_type": "display_data"
    }
   ],
   "source": [
    "title='$s_i$ ranking corr.'\n",
    "figname = '../figs/spreader_rank_corr_%s_mu_%.2f.pdf'%(dataset,mu)\n",
    "\n",
    "plot_sim(corr_s, \n",
    "         mu, \n",
    "         R0_range,\n",
    "         '$R_0$',\n",
    "         save=True, \n",
    "         figname=figname, \n",
    "         scale='independent',\n",
    "         min_scale=0, \n",
    "         max_scale=1)"
   ]
  },
  {
   "cell_type": "markdown",
   "metadata": {},
   "source": [
    "# Receiver vs. spreader"
   ]
  },
  {
   "cell_type": "code",
   "execution_count": 26,
   "metadata": {},
   "outputs": [
    {
     "data": {
      "image/png": "[encoded data removed]",
      "text/plain": [
       "<Figure size 288x288 with 1 Axes>"
      ]
     },
     "metadata": {},
     "output_type": "display_data"
    }
   ],
   "source": [
    "fig, ax = plt.subplots(nrows = 1, ncols = 1,figsize=(4,4))\n",
    "\n",
    "colors = plt.cm.plasma(np.linspace(0,1,len(beta_range)))\n",
    "for i in range(len(beta_range)):\n",
    "    plt.plot(np.array(s_list[i]),\n",
    "             np.array(r_list[i]),\n",
    "             'o',\n",
    "             c=colors[i],\n",
    "             label=r'%.2f'%beta_range[i])\n",
    "plt.xlabel('Spreader index')\n",
    "plt.ylabel('Receiver index')\n",
    "plt.tight_layout()\n",
    "#plt.legend(title='$R_0$',ncol=2)\n",
    "plt.savefig('../figs/r_s_simple_%s.pdf'%(dataset))\n",
    "#plt.savefig('../figs/legend_r_s.pdf')\n",
    "plt.show()"
   ]
  },
  {
   "cell_type": "code",
   "execution_count": null,
   "metadata": {},
   "outputs": [],
   "source": []
  }
 ],
 "metadata": {
  "kernelspec": {
   "display_name": "Python 3",
   "language": "python",
   "name": "python3"
  },
  "language_info": {
   "codemirror_mode": {
    "name": "ipython",
    "version": 3
   },
   "file_extension": ".py",
   "mimetype": "text/x-python",
   "name": "python",
   "nbconvert_exporter": "python",
   "pygments_lexer": "ipython3",
   "version": "3.7.0"
  }
 },
 "nbformat": 4,
 "nbformat_minor": 2
}
