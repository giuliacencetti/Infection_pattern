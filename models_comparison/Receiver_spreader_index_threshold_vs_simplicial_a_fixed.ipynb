{
 "cells": [
  {
   "cell_type": "code",
   "execution_count": 1,
   "metadata": {},
   "outputs": [],
   "source": [
    "import numpy as np\n",
    "#import seaborn as sns\n",
    "#import matplotlib.pyplot as plt\n",
    "import csv\n",
    "#import networkx as nx\n",
    "import pickle\n",
    "from scipy import stats\n",
    "\n",
    "import sys\n",
    "sys.path.insert(1, '../')\n",
    "from utils import *"
   ]
  },
  {
   "cell_type": "code",
   "execution_count": 2,
   "metadata": {},
   "outputs": [],
   "source": [
    "dataset = 'hospital'\n",
    "#dataset = 'high_school'\n",
    "#dataset = 'conference'\n",
    "#dataset = 'workplace'"
   ]
  },
  {
   "cell_type": "code",
   "execution_count": 3,
   "metadata": {},
   "outputs": [],
   "source": [
    "weighted = True"
   ]
  },
  {
   "cell_type": "code",
   "execution_count": 4,
   "metadata": {},
   "outputs": [],
   "source": [
    "mu = 0.1"
   ]
  },
  {
   "cell_type": "code",
   "execution_count": 5,
   "metadata": {},
   "outputs": [],
   "source": [
    "thresholds = [0.04, 0.06, 0.08, 0.10, 0.12, 0.14, 0.16, 0.18, 0.20, 0.22]"
   ]
  },
  {
   "cell_type": "code",
   "execution_count": 10,
   "metadata": {},
   "outputs": [],
   "source": [
    "if dataset == 'hospital':\n",
    "    beta_betaT_range = [(0.6,0.8),\n",
    "                        (0.2,0.8),\n",
    "                        (0.4,7.5),\n",
    "                        (0.3,5),\n",
    "                        (0.15,5),\n",
    "                        (0.3,10),\n",
    "                        (0.1,10),\n",
    "                        (0.06,10),\n",
    "                        (0.05,15),\n",
    "                        (0.05,19)]\n",
    "    a_inf = 0.6\n",
    "    a_sup = 0.7\n",
    "#elif dataset == 'high_school':\n",
    "    \n",
    "#elif dataset == 'conference':\n",
    "    \n",
    "#elif dataset == 'workplace':\n",
    "    "
   ]
  },
  {
   "cell_type": "markdown",
   "metadata": {},
   "source": [
    "# Load C and obtain r and s:"
   ]
  },
  {
   "cell_type": "markdown",
   "metadata": {},
   "source": [
    "C is an array of weights, I need to put it in a matrix shape to compute r and s"
   ]
  },
  {
   "cell_type": "code",
   "execution_count": 7,
   "metadata": {},
   "outputs": [],
   "source": [
    "def obtain_r_s_indices(C,edgelist):\n",
    "    # put C in dict:\n",
    "    C_dict = {}\n",
    "    n = 0\n",
    "    for edge in edgelist:\n",
    "        C_dict[tuple(edge)] = C[n]\n",
    "        C_dict[tuple(edge[::-1])] = C[n+1]\n",
    "        n += 2\n",
    "    # verify:\n",
    "    if list(C_dict.values()) != list(C):\n",
    "        print('error')\n",
    "    nb_nodes = max(np.unique(list(C_dict.keys()))) + 1\n",
    "    # put C_dict in matrix:\n",
    "    C_mat = np.zeros((nb_nodes,nb_nodes))\n",
    "    for link in C_dict:\n",
    "        C_mat[link[0],link[1]] = C_dict[link]\n",
    "\n",
    "    # receiver index:\n",
    "    r = C_mat.sum(axis=0) # somma di ogni colonna\n",
    "    # spreader index:\n",
    "    s = C_mat.sum(axis=1) # somma di ogni riga\n",
    "\n",
    "    return r, s"
   ]
  },
  {
   "cell_type": "code",
   "execution_count": 8,
   "metadata": {},
   "outputs": [],
   "source": [
    "with open('../data/pairwise/' + dataset + '_strength_edgelist_pairwise_sorted.pkl', 'rb') as f:\n",
    "    edgelist = pickle.load(f)"
   ]
  },
  {
   "cell_type": "markdown",
   "metadata": {},
   "source": [
    "Load simplicial"
   ]
  },
  {
   "cell_type": "code",
   "execution_count": 11,
   "metadata": {},
   "outputs": [],
   "source": [
    "r_simplicial_list = []\n",
    "s_simplicial_list = []\n",
    "for (beta,betaT) in beta_betaT_range:\n",
    "    filenameL = \"../Simplicial_model/code/results/inf_treeSIR_all/a_%.1f_%.1f_final/CL_weighted_%s_beta_%.3f_betaT_%.3f_mu_%.3f.csv\"%(a_inf,a_sup,dataset,beta,betaT,mu)\n",
    "    filenameT = \"../Simplicial_model/code/results/inf_treeSIR_all/a_%.1f_%.1f_final/CT_weighted_%s_beta_%.3f_betaT_%.3f_mu_%.3f.csv\"%(a_inf,a_sup,dataset,beta,betaT,mu)\n",
    "    CL = load_C_mean(filenameL)\n",
    "    CT = load_C_mean(filenameT)\n",
    "    C = CL + CT\n",
    "    # verify:\n",
    "    if 2*len(edgelist) != len(C):\n",
    "        print('errore')\n",
    "    r, s = obtain_r_s_indices(C,edgelist)\n",
    "    r_simplicial_list.append(r)\n",
    "    s_simplicial_list.append(s)\n",
    "    "
   ]
  },
  {
   "cell_type": "markdown",
   "metadata": {},
   "source": [
    "Load threshold"
   ]
  },
  {
   "cell_type": "code",
   "execution_count": 12,
   "metadata": {},
   "outputs": [],
   "source": [
    "r_thresh_list = []\n",
    "s_thresh_list = []\n",
    "for th in thresholds:\n",
    "    filename = \"../Threshold_model/code/results/inf_treeSIR/C_mean_weighted_%s_th_%.2f_mu_%.3f.csv\"%(dataset,th,mu)\n",
    "  \n",
    "    C = load_C_mean(filename)\n",
    "    # verify:\n",
    "    if 2*len(edgelist) != len(C):\n",
    "        print('errore')\n",
    "    r, s = obtain_r_s_indices(C,edgelist)\n",
    "    r_thresh_list.append(r)\n",
    "    s_thresh_list.append(s)\n",
    "    "
   ]
  },
  {
   "cell_type": "markdown",
   "metadata": {},
   "source": [
    "# Cosine similarity"
   ]
  },
  {
   "cell_type": "code",
   "execution_count": 13,
   "metadata": {},
   "outputs": [],
   "source": [
    "sim_r = np.full((len(thresholds),len(beta_betaT_range)),0.0)\n",
    "for i in range(len(thresholds)):\n",
    "    for j in range(len(beta_betaT_range)):\n",
    "        sim_r[i,j] = cos_sim(r_thresh_list[i],r_simplicial_list[j] )"
   ]
  },
  {
   "cell_type": "code",
   "execution_count": 14,
   "metadata": {},
   "outputs": [
    {
     "name": "stdout",
     "output_type": "stream",
     "text": [
      "0.7104535496849548 0.8224930513014699\n"
     ]
    },
    {
     "data": {
      "image/png": "[encoded data removed]",
      "text/plain": [
       "<Figure size 324x288 with 2 Axes>"
      ]
     },
     "metadata": {},
     "output_type": "display_data"
    }
   ],
   "source": [
    "title='$r_i$ cosine sim.'\n",
    "figname = 'figs/simplicial_thresh_cos_sim_receiver_%s_mu_%.2f_a_%.1f_%.1f.pdf'%(dataset,mu,a_inf,a_sup)\n",
    "\n",
    "plot_sim_different_axes(sim_r, beta_betaT_range,thresholds,r'($\\beta$,$\\beta_{\\Delta}$)',r'$\\theta$',title,figname,save=True)"
   ]
  },
  {
   "cell_type": "code",
   "execution_count": 15,
   "metadata": {},
   "outputs": [],
   "source": [
    "sim_s = np.full((len(thresholds),len(beta_betaT_range)),0.0)\n",
    "for i in range(len(thresholds)):\n",
    "    for j in range(len(beta_betaT_range)):\n",
    "        sim_s[i,j] = cos_sim(s_thresh_list[i],s_simplicial_list[j] )"
   ]
  },
  {
   "cell_type": "code",
   "execution_count": 16,
   "metadata": {},
   "outputs": [
    {
     "name": "stdout",
     "output_type": "stream",
     "text": [
      "0.560578540714114 0.8755397405502329\n"
     ]
    },
    {
     "data": {
      "image/png": "[encoded data removed]",
      "text/plain": [
       "<Figure size 324x288 with 2 Axes>"
      ]
     },
     "metadata": {},
     "output_type": "display_data"
    }
   ],
   "source": [
    "title='$s_i$ cosine sim.'\n",
    "figname = 'figs/simplicial_thresh_cos_sim_spreader_%s_mu_%.2f_a_%.1f_%.1f.pdf'%(dataset,mu,a_inf,a_sup)\n",
    "\n",
    "plot_sim_different_axes(sim_s, beta_betaT_range,thresholds,r'($\\beta$,$\\beta_{\\Delta}$)',r'$\\theta$',title,figname,save=True)"
   ]
  },
  {
   "cell_type": "markdown",
   "metadata": {},
   "source": [
    "# Ranking correlation"
   ]
  },
  {
   "cell_type": "code",
   "execution_count": 17,
   "metadata": {},
   "outputs": [],
   "source": [
    "corr_r = np.full((len(thresholds),len(beta_betaT_range)),0.0)\n",
    "for i in range(len(thresholds)):\n",
    "    for j in range(len(beta_betaT_range)):\n",
    "        corr_r[i,j] = stats.spearmanr(np.array(r_thresh_list[i]),np.array(r_simplicial_list[j])).correlation"
   ]
  },
  {
   "cell_type": "code",
   "execution_count": 18,
   "metadata": {},
   "outputs": [
    {
     "name": "stdout",
     "output_type": "stream",
     "text": [
      "-0.5611756643331044 -0.11429298544225946\n"
     ]
    },
    {
     "data": {
      "image/png": "[encoded data removed]",
      "text/plain": [
       "<Figure size 324x288 with 2 Axes>"
      ]
     },
     "metadata": {},
     "output_type": "display_data"
    }
   ],
   "source": [
    "title='$r_i$ cosine sim.'\n",
    "figname = 'figs/simplicial_thresh_rank_corr_receiver_%s_mu_%.2f_a_%.1f_%.1f.pdf'%(dataset,mu,a_inf,a_sup)\n",
    "\n",
    "plot_sim_different_axes(corr_r, beta_betaT_range,thresholds,r'($\\beta$,$\\beta_{\\Delta}$)',r'$\\theta$',title,figname,save=True)"
   ]
  },
  {
   "cell_type": "code",
   "execution_count": 19,
   "metadata": {},
   "outputs": [],
   "source": [
    "corr_s = np.full((len(thresholds),len(beta_betaT_range)),0.0)\n",
    "for i in range(len(thresholds)):\n",
    "    for j in range(len(beta_betaT_range)):\n",
    "        corr_s[i,j] = stats.spearmanr(np.array(s_thresh_list[i]),np.array(s_simplicial_list[j])).correlation"
   ]
  },
  {
   "cell_type": "code",
   "execution_count": 20,
   "metadata": {},
   "outputs": [
    {
     "name": "stdout",
     "output_type": "stream",
     "text": [
      "0.6281537425519289 0.8217326463032917\n"
     ]
    },
    {
     "data": {
      "image/png": "[encoded data removed]",
      "text/plain": [
       "<Figure size 324x288 with 2 Axes>"
      ]
     },
     "metadata": {},
     "output_type": "display_data"
    }
   ],
   "source": [
    "title='$s_i$ cosine sim.'\n",
    "figname = 'figs/simplicial_thresh_rank_corr_spreader_%s_mu_%.2f_a_%.1f_%.1f.pdf'%(dataset,mu,a_inf,a_sup)\n",
    "\n",
    "plot_sim_different_axes(corr_s, beta_betaT_range,thresholds,r'($\\beta$,$\\beta_{\\Delta}$)',r'$\\theta$',title,figname,save=True)"
   ]
  },
  {
   "cell_type": "code",
   "execution_count": null,
   "metadata": {},
   "outputs": [],
   "source": [
    "figname"
   ]
  },
  {
   "cell_type": "code",
   "execution_count": null,
   "metadata": {},
   "outputs": [],
   "source": []
  }
 ],
 "metadata": {
  "kernelspec": {
   "display_name": "Python 3",
   "language": "python",
   "name": "python3"
  },
  "language_info": {
   "codemirror_mode": {
    "name": "ipython",
    "version": 3
   },
   "file_extension": ".py",
   "mimetype": "text/x-python",
   "name": "python",
   "nbconvert_exporter": "python",
   "pygments_lexer": "ipython3",
   "version": "3.7.0"
  }
 },
 "nbformat": 4,
 "nbformat_minor": 2
}
