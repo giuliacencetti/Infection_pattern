{
 "cells": [
  {
   "cell_type": "code",
   "execution_count": null,
   "metadata": {},
   "outputs": [],
   "source": [
    "import numpy as np\n",
    "#import seaborn as sns\n",
    "#import matplotlib.pyplot as plt\n",
    "import csv\n",
    "#import networkx as nx\n",
    "import pickle\n",
    "from scipy import stats\n",
    "\n",
    "import sys\n",
    "sys.path.insert(1, '../../')\n",
    "from utils import *"
   ]
  },
  {
   "cell_type": "code",
   "execution_count": null,
   "metadata": {},
   "outputs": [],
   "source": [
    "dataset = 'pr_school'"
   ]
  },
  {
   "cell_type": "code",
   "execution_count": null,
   "metadata": {},
   "outputs": [],
   "source": [
    "a_inf = 0.6\n",
    "a_sup = 0.7"
   ]
  },
  {
   "cell_type": "code",
   "execution_count": null,
   "metadata": {},
   "outputs": [],
   "source": [
    "mu = 0.1\n",
    "\n",
    "if dataset == 'hospital':\n",
    "    beta_betaT_range = [(0.6,0.8),\n",
    "                        (0.2,0.8),\n",
    "                        (0.3,5),\n",
    "                        (0.4,7.5),\n",
    "                        (0.15,5),\n",
    "                        (0.3,10),\n",
    "                        (0.1,10),\n",
    "                        (0.06,10),\n",
    "                        (0.05,15),\n",
    "                        (0.05,19)]\n",
    "#elif dataset == 'high_school':\n",
    "#    beta_betaT_range = [(0.7,5),(0.9,5),(0.7,7),(1,7),(0.7,1),(1,1)]\n",
    "elif dataset == 'conference':\n",
    "    beta_betaT_range = [(1,12),\n",
    "                        (0.9,12),\n",
    "                        (0.8,12),\n",
    "                        (0.7,12),\n",
    "                        (0.6,12),\n",
    "                        (0.5,12)]\n",
    "elif dataset == 'workplace':\n",
    "    beta_betaT_range = [(0.5,6),\n",
    "                        (0.3,6),\n",
    "                        (0.3,7),\n",
    "                        (0.5,7),\n",
    "                        (0.3,7.3),\n",
    "                        (0.4,7.3),\n",
    "                        (0.3,6.5)]\n",
    "elif dataset == 'pr_school':\n",
    "    beta_betaT_range = [(0.07,7),\n",
    "                        (0.1,7),\n",
    "                        (0.1,5),\n",
    "                        (0.2,7),\n",
    "                        (0.15,5),\n",
    "                        (0.2,5),\n",
    "                        (0.2,3),\n",
    "                        (0.2,1),\n",
    "                        "
   ]
  },
  {
   "cell_type": "markdown",
   "metadata": {},
   "source": [
    "# Load C and obtain r and s:"
   ]
  },
  {
   "cell_type": "markdown",
   "metadata": {},
   "source": [
    "C is an array of weights, I need to put it in a matrix shape to compute r and s"
   ]
  },
  {
   "cell_type": "code",
   "execution_count": null,
   "metadata": {},
   "outputs": [],
   "source": [
    "def obtain_r_s_indices(C,edgelist):\n",
    "    # put C in dict:\n",
    "    C_dict = {}\n",
    "    n = 0\n",
    "    for edge in edgelist:\n",
    "        C_dict[tuple(edge)] = C[n]\n",
    "        C_dict[tuple(edge[::-1])] = C[n+1]\n",
    "        n += 2\n",
    "    # verify:\n",
    "    if list(C_dict.values()) != list(C):\n",
    "        print('error')\n",
    "    nb_nodes = max(np.unique(list(C_dict.keys()))) + 1\n",
    "    # put C_dict in matrix:\n",
    "    C_mat = np.zeros((nb_nodes,nb_nodes))\n",
    "    for link in C_dict:\n",
    "        C_mat[link[0],link[1]] = C_dict[link]\n",
    "\n",
    "    # receiver index:\n",
    "    r = C_mat.sum(axis=0) # sum of every column\n",
    "    # spreader index:\n",
    "    s = C_mat.sum(axis=1) # sum of every row\n",
    "\n",
    "    return r, s"
   ]
  },
  {
   "cell_type": "code",
   "execution_count": null,
   "metadata": {},
   "outputs": [],
   "source": [
    "with open('../../data/pairwise/' + dataset + '_strength_edgelist_pairwise_sorted_norm.pkl', 'rb') as f:\n",
    "    edgelist = pickle.load(f)"
   ]
  },
  {
   "cell_type": "code",
   "execution_count": null,
   "metadata": {},
   "outputs": [],
   "source": [
    "r_list = []\n",
    "s_list = []\n",
    "for (beta,betaT) in beta_betaT_range:\n",
    "    filename = \"results/inf_treeSIR_a_fixed/a_%.1f_%.1f_final/CL_weighted_%s_beta_%.3f_betaT_%.3f_mu_%.3f.csv\"%(a_inf,a_sup,dataset,beta,betaT,mu)\n",
    "    CL_list_tmp = load_C_list(filename)\n",
    "    CL_mean = np.mean(CL_list_tmp,axis=0)\n",
    "    #CL_list.append(CL_mean)\n",
    "    filename = \"results/inf_treeSIR_a_fixed/a_%.1f_%.1f_final/CT_weighted_%s_beta_%.3f_betaT_%.3f_mu_%.3f.csv\"%(a_inf,a_sup,dataset,beta,betaT,mu)\n",
    "    CT_list_tmp = load_C_list(filename)\n",
    "    CT_mean = np.mean(CT_list_tmp,axis=0)\n",
    "    #CT_list.append(CT_mean)\n",
    "    #C_list.append(CL_mean+CT_mean)\n",
    "    C_mean = CL_mean+CT_mean\n",
    "    # verify:\n",
    "    #if 2*len(edgelist) != len(C):\n",
    "    #    print('errore')\n",
    "    r, s = obtain_r_s_indices(C_mean,edgelist)\n",
    "    r_list.append(r)\n",
    "    s_list.append(s)\n",
    "    "
   ]
  },
  {
   "cell_type": "code",
   "execution_count": null,
   "metadata": {},
   "outputs": [],
   "source": [
    "import os\n",
    "folder = '../figs'\n",
    "if not os.path.exists(folder):\n",
    "    os.makedirs(folder)"
   ]
  },
  {
   "cell_type": "markdown",
   "metadata": {},
   "source": [
    "# Cosine similarity"
   ]
  },
  {
   "cell_type": "markdown",
   "metadata": {},
   "source": [
    "### Receiver index"
   ]
  },
  {
   "cell_type": "code",
   "execution_count": null,
   "metadata": {},
   "outputs": [],
   "source": [
    "sim_r = np.full((len(beta_betaT_range),len(beta_betaT_range)),0.0)\n",
    "for i in range(len(beta_betaT_range)-1):\n",
    "    for j in range(i+1,len(beta_betaT_range)):\n",
    "        sim_r[i,j] = cos_sim(r_list[i],r_list[j] )"
   ]
  },
  {
   "cell_type": "code",
   "execution_count": null,
   "metadata": {},
   "outputs": [],
   "source": [
    "title='$r_i$ cosine sim.'\n",
    "figname = '../figs/receiver_cos_sim_%s_mu_%.2f_fixed_a_%.1f_%.1f.pdf'%(dataset,mu,a_inf,a_sup)\n",
    "\n",
    "plot_sim(sim_r, \n",
    "         mu, \n",
    "         beta_betaT_range,\n",
    "         r'($\\beta$,$\\beta_{\\Delta}$)',\n",
    "         save=True, \n",
    "         figname=figname)"
   ]
  },
  {
   "cell_type": "markdown",
   "metadata": {},
   "source": [
    "### Spreader index"
   ]
  },
  {
   "cell_type": "code",
   "execution_count": null,
   "metadata": {},
   "outputs": [],
   "source": [
    "sim_s = np.full((len(beta_betaT_range),len(beta_betaT_range)),0.0)\n",
    "for i in range(len(beta_betaT_range)-1):\n",
    "    for j in range(i+1,len(beta_betaT_range)):\n",
    "        sim_s[i,j] = cos_sim(s_list[i],s_list[j] )"
   ]
  },
  {
   "cell_type": "code",
   "execution_count": null,
   "metadata": {},
   "outputs": [],
   "source": [
    "title='$s_i$ cosine sim.'\n",
    "figname = '../figs/spreader_cos_sim_%s_mu_%.2f_fixed_a_%.1f_%.1f.pdf'%(dataset,mu,a_inf,a_sup)\n",
    "\n",
    "plot_sim(sim_s, \n",
    "         mu, \n",
    "         beta_betaT_range,\n",
    "         r'($\\beta$,$\\beta_{\\Delta}$)',\n",
    "         save=True, \n",
    "         figname=figname)"
   ]
  },
  {
   "cell_type": "markdown",
   "metadata": {},
   "source": [
    "# Ranking correlation"
   ]
  },
  {
   "cell_type": "markdown",
   "metadata": {},
   "source": [
    "### Receiver index"
   ]
  },
  {
   "cell_type": "code",
   "execution_count": null,
   "metadata": {},
   "outputs": [],
   "source": [
    "corr_r = np.full((len(beta_betaT_range),len(beta_betaT_range)),0.0)\n",
    "for i in range(len(beta_betaT_range)-1):\n",
    "    for j in range(i+1,len(beta_betaT_range)):\n",
    "        corr_r[i,j] = stats.spearmanr(np.array(r_list[i]),np.array(r_list[j])).correlation"
   ]
  },
  {
   "cell_type": "code",
   "execution_count": null,
   "metadata": {},
   "outputs": [],
   "source": [
    "title='$r_i$ ranking corr.'\n",
    "figname = '../figs/receiver_rank_corr_%s_mu_%.2f_fixed_a_%.1f_%.1f.pdf'%(dataset,mu,a_inf,a_sup)\n",
    "\n",
    "plot_sim(corr_r, \n",
    "         mu, \n",
    "         beta_betaT_range,\n",
    "         r'($\\beta$,$\\beta_{\\Delta}$)',\n",
    "         save=True, \n",
    "         figname=figname)"
   ]
  },
  {
   "cell_type": "markdown",
   "metadata": {},
   "source": [
    "### Spreader index"
   ]
  },
  {
   "cell_type": "code",
   "execution_count": null,
   "metadata": {},
   "outputs": [],
   "source": [
    "corr_s = np.full((len(beta_betaT_range),len(beta_betaT_range)),0.0)\n",
    "for i in range(len(beta_betaT_range)-1):\n",
    "    for j in range(i+1,len(beta_betaT_range)):\n",
    "        corr_s[i,j] = stats.spearmanr(np.array(s_list[i]),np.array(s_list[j])).correlation"
   ]
  },
  {
   "cell_type": "code",
   "execution_count": null,
   "metadata": {},
   "outputs": [],
   "source": [
    "title='$s_i$ ranking corr.'\n",
    "figname = '../figs/spreader_rank_corr_%s_mu_%.2f_fixed_a_%.1f_%.1f.pdf'%(dataset,mu,a_inf,a_sup)\n",
    "\n",
    "plot_sim(corr_s, \n",
    "         mu, \n",
    "         beta_betaT_range,\n",
    "         r'($\\beta$,$\\beta_{\\Delta}$)',\n",
    "         save=True, \n",
    "         figname=figname)"
   ]
  },
  {
   "cell_type": "markdown",
   "metadata": {},
   "source": [
    "# Receiver vs. spreader"
   ]
  },
  {
   "cell_type": "code",
   "execution_count": null,
   "metadata": {},
   "outputs": [],
   "source": [
    "fig, ax = plt.subplots(nrows = 1, ncols = 1,figsize=(4,4))\n",
    "\n",
    "colors = plt.cm.plasma(np.linspace(0,1,len(beta_betaT_range)))\n",
    "for i in range(len(beta_betaT_range)):\n",
    "    plt.plot(np.array(s_list[i]),\n",
    "             np.array(r_list[i]),\n",
    "             'o',\n",
    "             c=colors[i],\n",
    "             label=r'%.2f,%d'%(beta_betaT_range[i][0],beta_betaT_range[i][1]))\n",
    "plt.xlabel('Spreader index')\n",
    "plt.ylabel('Receiver index')\n",
    "plt.tight_layout()\n",
    "plt.savefig('../figs/r_s_simplicial_%s_fixed_a_%.1f_%.1f.pdf'%(dataset,a_inf,a_sup))\n"
   ]
  },
  {
   "cell_type": "code",
   "execution_count": null,
   "metadata": {},
   "outputs": [],
   "source": []
  }
 ],
 "metadata": {
  "kernelspec": {
   "display_name": "Python 3",
   "language": "python",
   "name": "python3"
  },
  "language_info": {
   "codemirror_mode": {
    "name": "ipython",
    "version": 3
   },
   "file_extension": ".py",
   "mimetype": "text/x-python",
   "name": "python",
   "nbconvert_exporter": "python",
   "pygments_lexer": "ipython3",
   "version": "3.7.0"
  }
 },
 "nbformat": 4,
 "nbformat_minor": 2
}
