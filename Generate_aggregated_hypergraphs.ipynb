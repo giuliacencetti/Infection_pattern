{
 "cells": [
  {
   "cell_type": "code",
   "execution_count": 10,
   "metadata": {},
   "outputs": [],
   "source": [
    "import networkx as nx\n",
    "import matplotlib.pyplot as plt\n",
    "import numpy as np\n",
    "import matplotlib.mlab as mlab\n",
    "from collections import Counter\n",
    "import pickle\n",
    "import itertools\n",
    "import os"
   ]
  },
  {
   "cell_type": "markdown",
   "metadata": {},
   "source": [
    "Choose the dataset"
   ]
  },
  {
   "cell_type": "code",
   "execution_count": 11,
   "metadata": {},
   "outputs": [],
   "source": [
    "dataset = 'pr_school'\n",
    "filename = 'data/primaryschool.csv'"
   ]
  },
  {
   "cell_type": "markdown",
   "metadata": {},
   "source": [
    "filename is the path to the datsset, like \"data/primaryschool.csv\""
   ]
  },
  {
   "cell_type": "code",
   "execution_count": 12,
   "metadata": {},
   "outputs": [],
   "source": [
    "time_list = []\n",
    "person1_list = []\n",
    "person2_list = []\n",
    "for line in open(filename):\n",
    "    csv_row = line.split()\n",
    "    time_list.append(int(csv_row[0]))\n",
    "    person1_list.append(int(csv_row[1]))\n",
    "    person2_list.append(int(csv_row[2]))"
   ]
  },
  {
   "cell_type": "markdown",
   "metadata": {},
   "source": [
    "Reassign nodes identities such that they start from 0 and go up to N:"
   ]
  },
  {
   "cell_type": "code",
   "execution_count": 13,
   "metadata": {},
   "outputs": [
    {
     "data": {
      "text/plain": [
       "array([1426, 1427, 1428, 1429, 1430, 1431, 1434, 1435, 1437, 1439, 1441,\n",
       "       1443, 1451, 1452, 1453, 1457, 1458, 1459, 1461, 1465, 1468, 1471,\n",
       "       1475, 1477, 1479, 1480, 1482, 1483, 1486, 1489, 1493, 1495, 1498,\n",
       "       1500, 1501, 1502, 1503, 1504, 1511, 1516, 1519, 1520, 1521, 1522,\n",
       "       1524, 1525, 1528, 1532, 1533, 1538, 1539, 1545, 1546, 1548, 1549,\n",
       "       1551, 1552, 1555, 1558, 1560, 1562, 1563, 1564, 1567, 1570, 1572,\n",
       "       1574, 1578, 1579, 1580, 1585, 1592, 1594, 1601, 1603, 1604, 1606,\n",
       "       1609, 1613, 1616, 1617, 1618, 1625, 1628, 1630, 1632, 1637, 1641,\n",
       "       1643, 1647, 1648, 1649, 1650, 1653, 1656, 1661, 1663, 1664, 1665,\n",
       "       1666, 1668, 1670, 1673, 1674, 1675, 1680, 1681, 1682, 1684, 1685,\n",
       "       1687, 1688, 1695, 1696, 1697, 1698, 1700, 1702, 1704, 1705, 1706,\n",
       "       1707, 1708, 1709, 1710, 1711, 1712, 1713, 1714, 1715, 1718, 1719,\n",
       "       1720, 1722, 1723, 1727, 1730, 1731, 1732, 1735, 1737, 1738, 1739,\n",
       "       1741, 1743, 1744, 1745, 1746, 1748, 1749, 1750, 1751, 1752, 1753,\n",
       "       1757, 1759, 1760, 1761, 1763, 1764, 1765, 1766, 1767, 1768, 1770,\n",
       "       1772, 1774, 1775, 1778, 1779, 1780, 1782, 1783, 1787, 1789, 1790,\n",
       "       1792, 1795, 1796, 1797, 1798, 1799, 1800, 1801, 1802, 1803, 1805,\n",
       "       1807, 1809, 1815, 1818, 1819, 1820, 1821, 1822, 1824, 1831, 1833,\n",
       "       1835, 1836, 1837, 1838, 1843, 1847, 1851, 1852, 1854, 1855, 1857,\n",
       "       1858, 1859, 1861, 1863, 1865, 1866, 1872, 1877, 1880, 1883, 1885,\n",
       "       1887, 1888, 1889, 1890, 1892, 1895, 1897, 1898, 1902, 1906, 1907,\n",
       "       1908, 1909, 1910, 1911, 1912, 1913, 1916, 1917, 1919, 1920, 1922])"
      ]
     },
     "execution_count": 13,
     "metadata": {},
     "output_type": "execute_result"
    },
    {
     "data": {
      "text/plain": [
       "array([1426, 1427, 1428, 1429, 1430, 1431, 1434, 1435, 1437, 1439, 1441,\n",
       "       1443, 1451, 1452, 1453, 1457, 1458, 1459, 1461, 1465, 1468, 1471,\n",
       "       1475, 1477, 1479, 1480, 1482, 1483, 1486, 1489, 1493, 1495, 1498,\n",
       "       1500, 1501, 1502, 1503, 1504, 1511, 1516, 1519, 1520, 1521, 1522,\n",
       "       1524, 1525, 1528, 1532, 1533, 1538, 1539, 1545, 1546, 1548, 1549,\n",
       "       1551, 1552, 1555, 1558, 1560, 1562, 1563, 1564, 1567, 1570, 1572,\n",
       "       1574, 1578, 1579, 1580, 1585, 1592, 1594, 1601, 1603, 1604, 1606,\n",
       "       1609, 1613, 1616, 1617, 1618, 1625, 1628, 1630, 1632, 1637, 1641,\n",
       "       1643, 1647, 1648, 1649, 1650, 1653, 1656, 1661, 1663, 1664, 1665,\n",
       "       1666, 1668, 1670, 1673, 1674, 1675, 1680, 1681, 1682, 1684, 1685,\n",
       "       1687, 1688, 1695, 1696, 1697, 1698, 1700, 1702, 1704, 1705, 1706,\n",
       "       1707, 1708, 1709, 1710, 1711, 1712, 1713, 1714, 1715, 1718, 1719,\n",
       "       1720, 1722, 1723, 1727, 1730, 1731, 1732, 1735, 1737, 1738, 1739,\n",
       "       1741, 1743, 1744, 1745, 1746, 1748, 1749, 1750, 1751, 1752, 1753,\n",
       "       1757, 1759, 1760, 1761, 1763, 1764, 1765, 1766, 1767, 1768, 1770,\n",
       "       1772, 1774, 1775, 1778, 1779, 1780, 1782, 1783, 1787, 1789, 1790,\n",
       "       1792, 1795, 1796, 1797, 1798, 1799, 1800, 1801, 1802, 1803, 1805,\n",
       "       1807, 1809, 1815, 1818, 1819, 1820, 1821, 1822, 1824, 1831, 1833,\n",
       "       1835, 1836, 1837, 1838, 1843, 1847, 1851, 1852, 1854, 1855, 1857,\n",
       "       1858, 1859, 1861, 1863, 1865, 1866, 1872, 1877, 1880, 1883, 1885,\n",
       "       1887, 1888, 1889, 1890, 1892, 1895, 1897, 1898, 1902, 1906, 1907,\n",
       "       1908, 1909, 1910, 1911, 1912, 1913, 1916, 1917, 1919, 1920, 1922])"
      ]
     },
     "execution_count": 13,
     "metadata": {},
     "output_type": "execute_result"
    }
   ],
   "source": [
    "nodes = np.unique(person1_list+person2_list)\n",
    "nodes"
   ]
  },
  {
   "cell_type": "code",
   "execution_count": 14,
   "metadata": {},
   "outputs": [
    {
     "data": {
      "text/plain": [
       "array([  0,   1,   2,   3,   4,   5,   6,   7,   8,   9,  10,  11,  12,\n",
       "        13,  14,  15,  16,  17,  18,  19,  20,  21,  22,  23,  24,  25,\n",
       "        26,  27,  28,  29,  30,  31,  32,  33,  34,  35,  36,  37,  38,\n",
       "        39,  40,  41,  42,  43,  44,  45,  46,  47,  48,  49,  50,  51,\n",
       "        52,  53,  54,  55,  56,  57,  58,  59,  60,  61,  62,  63,  64,\n",
       "        65,  66,  67,  68,  69,  70,  71,  72,  73,  74,  75,  76,  77,\n",
       "        78,  79,  80,  81,  82,  83,  84,  85,  86,  87,  88,  89,  90,\n",
       "        91,  92,  93,  94,  95,  96,  97,  98,  99, 100, 101, 102, 103,\n",
       "       104, 105, 106, 107, 108, 109, 110, 111, 112, 113, 114, 115, 116,\n",
       "       117, 118, 119, 120, 121, 122, 123, 124, 125, 126, 127, 128, 129,\n",
       "       130, 131, 132, 133, 134, 135, 136, 137, 138, 139, 140, 141, 142,\n",
       "       143, 144, 145, 146, 147, 148, 149, 150, 151, 152, 153, 154, 155,\n",
       "       156, 157, 158, 159, 160, 161, 162, 163, 164, 165, 166, 167, 168,\n",
       "       169, 170, 171, 172, 173, 174, 175, 176, 177, 178, 179, 180, 181,\n",
       "       182, 183, 184, 185, 186, 187, 188, 189, 190, 191, 192, 193, 194,\n",
       "       195, 196, 197, 198, 199, 200, 201, 202, 203, 204, 205, 206, 207,\n",
       "       208, 209, 210, 211, 212, 213, 214, 215, 216, 217, 218, 219, 220,\n",
       "       221, 222, 223, 224, 225, 226, 227, 228, 229, 230, 231, 232, 233,\n",
       "       234, 235, 236, 237, 238, 239, 240, 241])"
      ]
     },
     "execution_count": 14,
     "metadata": {},
     "output_type": "execute_result"
    },
    {
     "data": {
      "text/plain": [
       "array([  0,   1,   2,   3,   4,   5,   6,   7,   8,   9,  10,  11,  12,\n",
       "        13,  14,  15,  16,  17,  18,  19,  20,  21,  22,  23,  24,  25,\n",
       "        26,  27,  28,  29,  30,  31,  32,  33,  34,  35,  36,  37,  38,\n",
       "        39,  40,  41,  42,  43,  44,  45,  46,  47,  48,  49,  50,  51,\n",
       "        52,  53,  54,  55,  56,  57,  58,  59,  60,  61,  62,  63,  64,\n",
       "        65,  66,  67,  68,  69,  70,  71,  72,  73,  74,  75,  76,  77,\n",
       "        78,  79,  80,  81,  82,  83,  84,  85,  86,  87,  88,  89,  90,\n",
       "        91,  92,  93,  94,  95,  96,  97,  98,  99, 100, 101, 102, 103,\n",
       "       104, 105, 106, 107, 108, 109, 110, 111, 112, 113, 114, 115, 116,\n",
       "       117, 118, 119, 120, 121, 122, 123, 124, 125, 126, 127, 128, 129,\n",
       "       130, 131, 132, 133, 134, 135, 136, 137, 138, 139, 140, 141, 142,\n",
       "       143, 144, 145, 146, 147, 148, 149, 150, 151, 152, 153, 154, 155,\n",
       "       156, 157, 158, 159, 160, 161, 162, 163, 164, 165, 166, 167, 168,\n",
       "       169, 170, 171, 172, 173, 174, 175, 176, 177, 178, 179, 180, 181,\n",
       "       182, 183, 184, 185, 186, 187, 188, 189, 190, 191, 192, 193, 194,\n",
       "       195, 196, 197, 198, 199, 200, 201, 202, 203, 204, 205, 206, 207,\n",
       "       208, 209, 210, 211, 212, 213, 214, 215, 216, 217, 218, 219, 220,\n",
       "       221, 222, 223, 224, 225, 226, 227, 228, 229, 230, 231, 232, 233,\n",
       "       234, 235, 236, 237, 238, 239, 240, 241])"
      ]
     },
     "execution_count": 14,
     "metadata": {},
     "output_type": "execute_result"
    }
   ],
   "source": [
    "new_nodes = np.arange(len(nodes))\n",
    "new_nodes"
   ]
  },
  {
   "cell_type": "code",
   "execution_count": 15,
   "metadata": {},
   "outputs": [],
   "source": [
    "conversion = {}\n",
    "for i in range(len(nodes)):\n",
    "    conversion[nodes[i]] = new_nodes[i]"
   ]
  },
  {
   "cell_type": "code",
   "execution_count": 16,
   "metadata": {},
   "outputs": [],
   "source": [
    "new_person1_list = []\n",
    "for node in person1_list:\n",
    "    new_person1_list.append(conversion[node])\n",
    "    \n",
    "new_person2_list = []\n",
    "for node in person2_list:\n",
    "    new_person2_list.append(conversion[node])"
   ]
  },
  {
   "cell_type": "markdown",
   "metadata": {},
   "source": [
    "Find interactions at every time:"
   ]
  },
  {
   "cell_type": "code",
   "execution_count": 17,
   "metadata": {},
   "outputs": [],
   "source": [
    "def interaction_network_at_given_time(instant):\n",
    "    edge_list = []\n",
    "    for t in range(len(time_list)):\n",
    "        if time_list[t] == instant:\n",
    "            edge_list.append([new_person1_list[t],new_person2_list[t]])\n",
    "    G=nx.Graph()\n",
    "    G.add_edges_from(edge_list)\n",
    "    return G"
   ]
  },
  {
   "cell_type": "code",
   "execution_count": 18,
   "metadata": {},
   "outputs": [],
   "source": [
    "Dpairwise = {}\n",
    "D2 = {}\n",
    "D3 = {}\n",
    "D4 = {}\n",
    "D5 = {}\n",
    "\n",
    "time = 0\n",
    "while time < max(time_list):\n",
    "    G0 = interaction_network_at_given_time(time)\n",
    "    cliques = list(nx.find_cliques(G0))\n",
    "\n",
    "    for clique in cliques:\n",
    "        clique = list(np.sort(clique))\n",
    "        size = len(clique)\n",
    "        if size == 2:\n",
    "            if tuple(clique) in D2:\n",
    "                D2[tuple(clique)] += 1\n",
    "            else:\n",
    "                D2[tuple(clique)] = 1\n",
    "        elif size == 3:\n",
    "            if tuple(clique) in D3:\n",
    "                D3[tuple(clique)] += 1\n",
    "            else:\n",
    "                D3[tuple(clique)] = 1\n",
    "        elif size == 4:\n",
    "            if tuple(clique) in D4:\n",
    "                D4[tuple(clique)] += 1\n",
    "            else:\n",
    "                D4[tuple(clique)] = 1\n",
    "        elif size == 5:\n",
    "            if tuple(clique) in D5:\n",
    "                D5[tuple(clique)] += 1\n",
    "            else:\n",
    "                D5[tuple(clique)] = 1\n",
    "        elif size > 5:\n",
    "            print(clique)\n",
    "            \n",
    "    pairwise_links = list(G0.edges)\n",
    "    for edge in pairwise_links:\n",
    "        edge = list(np.sort(edge))\n",
    "        if tuple(edge) in Dpairwise:\n",
    "            Dpairwise[tuple(edge)] += 1\n",
    "        else:\n",
    "            Dpairwise[tuple(edge)] = 1\n",
    "            \n",
    "    time += 20"
   ]
  },
  {
   "cell_type": "markdown",
   "metadata": {},
   "source": [
    "Normalize pairwise:"
   ]
  },
  {
   "cell_type": "code",
   "execution_count": 19,
   "metadata": {},
   "outputs": [],
   "source": [
    "Dpairwise_n = {}\n",
    "for key in Dpairwise:\n",
    "    Dpairwise_n[key] = Dpairwise[key]/max(Dpairwise.values())"
   ]
  },
  {
   "cell_type": "markdown",
   "metadata": {},
   "source": [
    "Save all pairwise:"
   ]
  },
  {
   "cell_type": "code",
   "execution_count": 20,
   "metadata": {},
   "outputs": [],
   "source": [
    "folder = 'data/pairwise/'\n",
    "if not os.path.exists(folder):\n",
    "    os.makedirs(folder)\n",
    "dict_name = folder + '%s_strength_edgelist_pairwise_sorted_norm.pkl'%dataset\n",
    "with open(dict_name, 'wb') as f:\n",
    "    pickle.dump(Dpairwise_n, f)"
   ]
  },
  {
   "cell_type": "markdown",
   "metadata": {},
   "source": [
    "I build another dictionary which includes all higher orders interactions as triangles:"
   ]
  },
  {
   "cell_type": "code",
   "execution_count": 21,
   "metadata": {},
   "outputs": [],
   "source": [
    "D3ho = D3.copy()"
   ]
  },
  {
   "cell_type": "code",
   "execution_count": 22,
   "metadata": {},
   "outputs": [],
   "source": [
    "for clique in D4.keys():\n",
    "    for triplet in itertools.combinations(clique,3): #all possible triplets in clique\n",
    "        triplet = list(np.sort(triplet))\n",
    "        if tuple(triplet) in D3ho:\n",
    "            D3ho[tuple(triplet)] += 1\n",
    "        else:\n",
    "            D3ho[tuple(triplet)] = 1\n",
    "\n",
    "for clique in D5.keys():\n",
    "    for triplet in itertools.combinations(clique,3): #all possible triplets in clique\n",
    "        triplet = list(np.sort(triplet))\n",
    "        if tuple(triplet) in D3ho:\n",
    "            D3ho[tuple(triplet)] += 1\n",
    "        else:\n",
    "            D3ho[tuple(triplet)] = 1\n"
   ]
  },
  {
   "cell_type": "markdown",
   "metadata": {},
   "source": [
    "Normalize second order:"
   ]
  },
  {
   "cell_type": "code",
   "execution_count": 23,
   "metadata": {},
   "outputs": [],
   "source": [
    "D3ho_n = {}\n",
    "for key in D3ho:\n",
    "    D3ho_n[key] = D3ho[key]/max(Dpairwise.values())"
   ]
  },
  {
   "cell_type": "markdown",
   "metadata": {},
   "source": [
    "Save second order:"
   ]
  },
  {
   "cell_type": "code",
   "execution_count": 24,
   "metadata": {},
   "outputs": [],
   "source": [
    "folder = 'data/only_triangles/'\n",
    "if not os.path.exists(folder):\n",
    "    os.makedirs(folder)\n",
    "\n",
    "dict_name = folder + '%s_strength_edgelist3_sorted_norm.pkl'%dataset\n",
    "with open(dict_name, 'wb') as f:\n",
    "    pickle.dump(D3ho_n, f)"
   ]
  },
  {
   "cell_type": "code",
   "execution_count": null,
   "metadata": {},
   "outputs": [],
   "source": []
  }
 ],
 "metadata": {
  "kernelspec": {
   "display_name": "Python 3",
   "language": "python",
   "name": "python3"
  },
  "language_info": {
   "codemirror_mode": {
    "name": "ipython",
    "version": 3
   },
   "file_extension": ".py",
   "mimetype": "text/x-python",
   "name": "python",
   "nbconvert_exporter": "python",
   "pygments_lexer": "ipython3",
   "version": "3.7.0"
  }
 },
 "nbformat": 4,
 "nbformat_minor": 2
}
