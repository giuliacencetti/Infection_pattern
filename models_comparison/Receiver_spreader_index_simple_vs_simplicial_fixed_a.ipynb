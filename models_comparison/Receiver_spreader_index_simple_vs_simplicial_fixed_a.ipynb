{
 "cells": [
  {
   "cell_type": "code",
   "execution_count": 1,
   "metadata": {},
   "outputs": [],
   "source": [
    "import numpy as np\n",
    "import csv\n",
    "import pickle\n",
    "from scipy import stats\n",
    "\n",
    "import sys\n",
    "sys.path.insert(1, '../')\n",
    "from utils import *"
   ]
  },
  {
   "cell_type": "code",
   "execution_count": 2,
   "metadata": {},
   "outputs": [],
   "source": [
    "plt.rcParams.update({'font.size': 13})"
   ]
  },
  {
   "cell_type": "code",
   "execution_count": 3,
   "metadata": {},
   "outputs": [],
   "source": [
    "#dataset = 'hospital'\n",
    "#dataset = 'high_school'\n",
    "#dataset = 'conference'\n",
    "#dataset = 'workplace'\n",
    "dataset = 'pr_school'"
   ]
  },
  {
   "cell_type": "code",
   "execution_count": 4,
   "metadata": {},
   "outputs": [],
   "source": [
    "weighted = True"
   ]
  },
  {
   "cell_type": "code",
   "execution_count": 5,
   "metadata": {},
   "outputs": [],
   "source": [
    "mu = 0.1"
   ]
  },
  {
   "cell_type": "code",
   "execution_count": 6,
   "metadata": {},
   "outputs": [],
   "source": [
    "if dataset == 'hospital':\n",
    "    beta_range = [0.2,0.3,0.4,0.5,0.6,0.7,0.8,0.9]\n",
    "    R0_range = [1.20,1.53,1.77,2,2.22,2.38,2.56,2.7]\n",
    "\n",
    "elif dataset == 'high_school':\n",
    "    beta_range = [0.5,0.6,0.7,0.8,0.9,1.0]\n",
    "    R0_range = [1.25,1.40,1.55,1.71,1.83,1.88]\n",
    "\n",
    "elif dataset == 'workplace':\n",
    "    beta_range = [0.3,0.4,0.5,0.6,0.7,0.8]\n",
    "    R0_range = [1.26,1.55,1.82,2.06,2.22,2.40]\n",
    "\n",
    "elif dataset == 'conference':\n",
    "    beta_range = [0.6,0.7,0.8,0.9,1]\n",
    "    R0_range = [1.21,1.37,1.49,1.60,1.74]\n",
    "    \n",
    "elif dataset == 'pr_school':\n",
    "    a_inf = 0.8\n",
    "    a_sup = 0.9\n",
    "    beta_range = [0.12,0.15,0.18,0.21,0.24,0.27,0.3,0.33,0.36]\n",
    "    R0_range = [1.40,1.65,1.97,2.11,2.31,2.48,2.68,2.84,3.01]"
   ]
  },
  {
   "cell_type": "code",
   "execution_count": 7,
   "metadata": {},
   "outputs": [],
   "source": [
    "if dataset == 'hospital':\n",
    "    beta_betaT_range = [(0.6,0.8),\n",
    "                        (0.2,0.8),\n",
    "                        (0.4,7.5),\n",
    "                        (0.3,5),\n",
    "                        (0.15,5),\n",
    "                        (0.3,10),\n",
    "                        (0.1,10),\n",
    "                        (0.06,10),\n",
    "                        (0.05,15),\n",
    "                        (0.05,19)]\n",
    "#elif dataset == 'high_school':\n",
    "    \n",
    "elif dataset == 'conference':\n",
    "    beta_betaT_range = [#(1,12),\n",
    "                        #(0.9,12),\n",
    "                        (0.8,12),\n",
    "                        (0.7,12),\n",
    "                        (0.6,12),\n",
    "                        (0.5,12),\n",
    "                        (0.4,12),\n",
    "                        (0.4,10),\n",
    "                        (0.3,12)]  \n",
    "elif dataset == 'workplace':\n",
    "    beta_betaT_range = [#(0.5,6),\n",
    "                        (0.5,7),\n",
    "                        (0.4,7.3),\n",
    "                        (0.3,6.5),\n",
    "                        (0.25,6.5),\n",
    "                        (0.25,7),\n",
    "                        (0.2,7),\n",
    "                        (0.2,7.3)]\n",
    "elif dataset == 'pr_school':\n",
    "    beta_betaT_range = [(0.07,7),\n",
    "                        (0.1,7),\n",
    "                        (0.1,5),\n",
    "                        (0.2,7),\n",
    "                        (0.15,5),\n",
    "                        (0.2,5),\n",
    "                        (0.2,3),\n",
    "                        (0.2,1),\n",
    "                        ]"
   ]
  },
  {
   "cell_type": "markdown",
   "metadata": {},
   "source": [
    "# Load C and obtain r and s:"
   ]
  },
  {
   "cell_type": "markdown",
   "metadata": {},
   "source": [
    "C is an array of weights, I need to put it in a matrix shape to compute r and s"
   ]
  },
  {
   "cell_type": "code",
   "execution_count": 8,
   "metadata": {},
   "outputs": [],
   "source": [
    "def obtain_r_s_indices(C,edgelist):\n",
    "    # put C in dict:\n",
    "    C_dict = {}\n",
    "    n = 0\n",
    "    for edge in edgelist:\n",
    "        C_dict[tuple(edge)] = C[n]\n",
    "        C_dict[tuple(edge[::-1])] = C[n+1]\n",
    "        n += 2\n",
    "    # verify:\n",
    "    if list(C_dict.values()) != list(C):\n",
    "        print('error')\n",
    "    nb_nodes = max(np.unique(list(C_dict.keys()))) + 1\n",
    "    # put C_dict in matrix:\n",
    "    C_mat = np.zeros((nb_nodes,nb_nodes))\n",
    "    for link in C_dict:\n",
    "        C_mat[link[0],link[1]] = C_dict[link]\n",
    "\n",
    "    # receiver index:\n",
    "    r = C_mat.sum(axis=0) # somma di ogni colonna\n",
    "    # spreader index:\n",
    "    s = C_mat.sum(axis=1) # somma di ogni riga\n",
    "\n",
    "    return r, s"
   ]
  },
  {
   "cell_type": "code",
   "execution_count": 9,
   "metadata": {},
   "outputs": [],
   "source": [
    "with open('../data/pairwise/' + dataset + '_strength_edgelist_pairwise_sorted_norm.pkl', 'rb') as f:\n",
    "    edgelist = pickle.load(f)"
   ]
  },
  {
   "cell_type": "markdown",
   "metadata": {},
   "source": [
    "Load simplicial"
   ]
  },
  {
   "cell_type": "code",
   "execution_count": 10,
   "metadata": {},
   "outputs": [],
   "source": [
    "r_simplicial_list = []\n",
    "s_simplicial_list = []\n",
    "for (beta,betaT) in beta_betaT_range:\n",
    "    filename = \"../Simplicial_model/code/results/inf_treeSIR_all/a_%.1f_%.1f_final/CL_weighted_%s_beta_%.3f_betaT_%.3f_mu_%.3f.csv\"%(a_inf,a_sup,dataset,beta,betaT,mu)\n",
    "    CL = load_C_mean(filename)\n",
    "    filename = \"../Simplicial_model/code/results/inf_treeSIR_all/a_%.1f_%.1f_final/CT_weighted_%s_beta_%.3f_betaT_%.3f_mu_%.3f.csv\"%(a_inf,a_sup,dataset,beta,betaT,mu)\n",
    "    CT = load_C_mean(filename)\n",
    "    C = CL + CT\n",
    "    # verify:\n",
    "    if 2*len(edgelist) != len(C):\n",
    "        print('errore')\n",
    "    r, s = obtain_r_s_indices(C,edgelist)\n",
    "    r_simplicial_list.append(r)\n",
    "    s_simplicial_list.append(s)\n",
    "    "
   ]
  },
  {
   "cell_type": "markdown",
   "metadata": {},
   "source": [
    "Load simple"
   ]
  },
  {
   "cell_type": "code",
   "execution_count": 11,
   "metadata": {},
   "outputs": [],
   "source": [
    "r_simple_list = []\n",
    "s_simple_list = []\n",
    "betaT = 0\n",
    "for beta in beta_range:\n",
    "    filename = \"../Simple_model/code/results/inf_treeSIR/CL_mean_weighted_%s_beta_%.3f_betaT_%.3f_mu_%.2f_init_1.csv\"%(dataset,beta,betaT,mu)\n",
    "    C = load_C_mean(filename)\n",
    "    # verify:\n",
    "    if 2*len(edgelist) != len(C):\n",
    "        print('errore')\n",
    "    r, s = obtain_r_s_indices(C,edgelist)\n",
    "    r_simple_list.append(r)\n",
    "    s_simple_list.append(s)\n",
    "    "
   ]
  },
  {
   "cell_type": "markdown",
   "metadata": {},
   "source": [
    "# Cosine similarity"
   ]
  },
  {
   "cell_type": "markdown",
   "metadata": {},
   "source": [
    "### Receiver index"
   ]
  },
  {
   "cell_type": "code",
   "execution_count": 12,
   "metadata": {},
   "outputs": [],
   "source": [
    "sim_r = np.full((len(beta_range),len(beta_betaT_range)),0.0)\n",
    "for i in range(len(beta_range)):\n",
    "    for j in range(len(beta_betaT_range)):\n",
    "        sim_r[i,j] = cos_sim(r_simple_list[i],r_simplicial_list[j] )"
   ]
  },
  {
   "cell_type": "code",
   "execution_count": 13,
   "metadata": {},
   "outputs": [
    {
     "name": "stdout",
     "output_type": "stream",
     "text": [
      "0.9030358295841547 0.9588987001036463\n"
     ]
    },
    {
     "data": {
      "image/png": "[encoded data removed]",
      "text/plain": [
       "<Figure size 324x288 with 2 Axes>"
      ]
     },
     "metadata": {},
     "output_type": "display_data"
    }
   ],
   "source": [
    "title='$r_i$ cosine sim.'\n",
    "figname = 'figs/simplicial_simple_cos_sim_receiver_%s_mu_%.2f_fixed_a_%.1f_%.1f.pdf'%(dataset,mu,a_inf,a_sup)\n",
    "\n",
    "plot_sim_different_axes(sim_r, \n",
    "                        beta_betaT_range,\n",
    "                        R0_range,\n",
    "                        r'($\\beta$,$\\beta_{\\Delta}$)',\n",
    "                        '$R_0$',\n",
    "                        figname=figname,\n",
    "                        save=True)\n"
   ]
  },
  {
   "cell_type": "markdown",
   "metadata": {},
   "source": [
    "### Spreader index"
   ]
  },
  {
   "cell_type": "code",
   "execution_count": 14,
   "metadata": {},
   "outputs": [],
   "source": [
    "sim_s = np.full((len(beta_range),len(beta_betaT_range)),0.0)\n",
    "for i in range(len(beta_range)):\n",
    "    for j in range(len(beta_betaT_range)):\n",
    "        sim_s[i,j] = cos_sim(s_simple_list[i],s_simplicial_list[j] )"
   ]
  },
  {
   "cell_type": "code",
   "execution_count": 15,
   "metadata": {},
   "outputs": [
    {
     "name": "stdout",
     "output_type": "stream",
     "text": [
      "0.6904208561106107 0.812455941637208\n"
     ]
    },
    {
     "data": {
      "image/png": "[encoded data removed]",
      "text/plain": [
       "<Figure size 324x288 with 2 Axes>"
      ]
     },
     "metadata": {},
     "output_type": "display_data"
    }
   ],
   "source": [
    "title='$s_i$ cosine sim.'\n",
    "figname = 'figs/simplicial_simple_cos_sim_spreader_%s_mu_%.2f_fixed_a_%.1f_%.1f.pdf'%(dataset,mu,a_inf,a_sup)\n",
    "\n",
    "plot_sim_different_axes(sim_s, \n",
    "                        beta_betaT_range,\n",
    "                        R0_range,\n",
    "                        r'($\\beta$,$\\beta_{\\Delta}$)',\n",
    "                        '$R_0$',\n",
    "                        figname,\n",
    "                        save=True)"
   ]
  },
  {
   "cell_type": "markdown",
   "metadata": {},
   "source": [
    "# Ranking correlation"
   ]
  },
  {
   "cell_type": "markdown",
   "metadata": {},
   "source": [
    "### Receiver index"
   ]
  },
  {
   "cell_type": "code",
   "execution_count": 16,
   "metadata": {},
   "outputs": [],
   "source": [
    "corr_r = np.full((len(beta_range),len(beta_betaT_range)),0.0)\n",
    "for i in range(len(beta_range)):\n",
    "    for j in range(len(beta_betaT_range)):\n",
    "        corr_r[i,j] = stats.spearmanr(np.array(r_simple_list[i]),np.array(r_simplicial_list[j])).correlation"
   ]
  },
  {
   "cell_type": "code",
   "execution_count": 17,
   "metadata": {},
   "outputs": [
    {
     "name": "stdout",
     "output_type": "stream",
     "text": [
      "0.06072555334131748 0.3400067319526038\n"
     ]
    },
    {
     "data": {
      "image/png": "[encoded data removed]",
      "text/plain": [
       "<Figure size 324x288 with 2 Axes>"
      ]
     },
     "metadata": {},
     "output_type": "display_data"
    }
   ],
   "source": [
    "title='$r_i$ rank corr.'\n",
    "figname = 'figs/simplicial_simple_rank_corr_receiver_%s_mu_%.2f_fixed_a_%.1f_%.1f.pdf'%(dataset,mu,a_inf,a_sup)\n",
    "\n",
    "plot_sim_different_axes(corr_r, \n",
    "                        beta_betaT_range,\n",
    "                        R0_range,\n",
    "                        r'($\\beta$,$\\beta_{\\Delta}$)',\n",
    "                        '$R_0$',\n",
    "                        figname,\n",
    "                        save=True)"
   ]
  },
  {
   "cell_type": "markdown",
   "metadata": {},
   "source": [
    "### Spreader index"
   ]
  },
  {
   "cell_type": "code",
   "execution_count": 18,
   "metadata": {},
   "outputs": [],
   "source": [
    "corr_s = np.full((len(beta_range),len(beta_betaT_range)),0.0)\n",
    "for i in range(len(beta_range)):\n",
    "    for j in range(len(beta_betaT_range)):\n",
    "        corr_s[i,j] = stats.spearmanr(np.array(s_simple_list[i]),np.array(s_simplicial_list[j])).correlation"
   ]
  },
  {
   "cell_type": "code",
   "execution_count": 19,
   "metadata": {},
   "outputs": [
    {
     "name": "stdout",
     "output_type": "stream",
     "text": [
      "0.4806784075947329 0.6878374517462283\n"
     ]
    },
    {
     "data": {
      "image/png": "[encoded data removed]",
      "text/plain": [
       "<Figure size 324x288 with 2 Axes>"
      ]
     },
     "metadata": {},
     "output_type": "display_data"
    }
   ],
   "source": [
    "title='$s_i$ rank corr.'\n",
    "figname = 'figs/simplicial_simple_rank_corr_spreader_%s_mu_%.2f_fixed_a_%.1f_%.1f.pdf'%(dataset,mu,a_inf,a_sup)\n",
    "\n",
    "plot_sim_different_axes(corr_s, \n",
    "                        beta_betaT_range,\n",
    "                        R0_range,\n",
    "                        r'($\\beta$,$\\beta_{\\Delta}$)',\n",
    "                        '$R_0$',\n",
    "                        figname,\n",
    "                        save=True)"
   ]
  },
  {
   "cell_type": "code",
   "execution_count": null,
   "metadata": {},
   "outputs": [],
   "source": []
  }
 ],
 "metadata": {
  "kernelspec": {
   "display_name": "Python 3",
   "language": "python",
   "name": "python3"
  },
  "language_info": {
   "codemirror_mode": {
    "name": "ipython",
    "version": 3
   },
   "file_extension": ".py",
   "mimetype": "text/x-python",
   "name": "python",
   "nbconvert_exporter": "python",
   "pygments_lexer": "ipython3",
   "version": "3.7.0"
  }
 },
 "nbformat": 4,
 "nbformat_minor": 2
}
