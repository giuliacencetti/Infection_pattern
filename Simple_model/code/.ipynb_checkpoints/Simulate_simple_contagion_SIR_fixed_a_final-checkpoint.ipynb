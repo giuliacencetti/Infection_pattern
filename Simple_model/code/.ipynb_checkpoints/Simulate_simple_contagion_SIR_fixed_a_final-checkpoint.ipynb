{
 "cells": [
  {
   "cell_type": "code",
   "execution_count": 1,
   "metadata": {},
   "outputs": [],
   "source": [
    "import numpy as np\n",
    "from tqdm.notebook import tqdm\n",
    "#import seaborn as sns\n",
    "import matplotlib.pyplot as plt\n",
    "import csv\n",
    "import networkx as nx\n",
    "import random\n",
    "import pickle\n",
    "\n",
    "%load_ext autoreload\n",
    "%autoreload 2\n",
    "\n",
    "import sys\n",
    "sys.path.insert(1, '../../Simplicial_model/code/')\n",
    "import Simplagion_functions_SIR as SM"
   ]
  },
  {
   "cell_type": "code",
   "execution_count": 2,
   "metadata": {},
   "outputs": [],
   "source": [
    "weighted = True"
   ]
  },
  {
   "cell_type": "code",
   "execution_count": 14,
   "metadata": {},
   "outputs": [
    {
     "name": "stdout",
     "output_type": "stream",
     "text": [
      "[  0   1   2   3   4   5   6   7   8   9  10  11  12  13  14  15  16  17\n",
      "  18  19  20  21  22  23  24  25  26  27  28  29  30  31  32  33  34  35\n",
      "  36  37  38  39  40  41  42  43  44  45  46  47  48  49  50  51  52  53\n",
      "  54  55  56  57  58  59  60  61  62  63  64  65  66  67  68  69  70  71\n",
      "  72  73  74  75  76  77  78  79  80  81  82  83  84  85  86  87  88  89\n",
      "  90  91  92  93  94  95  96  97  98  99 100 101 102 103 104 105 106 107\n",
      " 108 109 110 111 112 113 114 115 116 117 118 119 120 121 122 123 124 125\n",
      " 126 127 128 129 130 131 132 133 134 135 136 137 138 139 140 141 142 143\n",
      " 144 145 146 147 148 149 150 151 152 153 154 155 156 157 158 159 160 161\n",
      " 162 163 164 165 166 167 168 169 170 171 172 173 174 175 176 177 178 179\n",
      " 180 181 182 183 184 185 186 187 188 189 190 191 192 193 194 195 196 197\n",
      " 198 199 200 201 202 203 204 205 206 207 208 209 210 211 212 213 214 215\n",
      " 216 217 218 219 220 221 222 223 224 225 226 227 228 229 230 231 232 233\n",
      " 234 235 236 237 238 239 240 241]\n"
     ]
    }
   ],
   "source": [
    "dataset = 'pr_school'\n",
    "\n",
    "edgelist_name = '../../data/pairwise/' + dataset + '_strength_edgelist_pairwise_sorted_norm.pkl'\n",
    "with open(edgelist_name, 'rb') as f:\n",
    "    edgelist = pickle.load(f)\n",
    "\n",
    "edgelist3 = []\n",
    "\n",
    "nodes_list = np.unique(list(edgelist.keys()))\n",
    "\n",
    "print(nodes_list)"
   ]
  },
  {
   "cell_type": "code",
   "execution_count": 4,
   "metadata": {},
   "outputs": [],
   "source": [
    "def save_on_csv(filename, variable_list, writing_operation):\n",
    "    with open(filename, writing_operation) as csvfile:\n",
    "        writer = csv.writer(csvfile)\n",
    "        try:\n",
    "            [writer.writerow(s) for s in variable_list]\n",
    "        except:\n",
    "            writer.writerow(variable_list)"
   ]
  },
  {
   "cell_type": "code",
   "execution_count": 5,
   "metadata": {},
   "outputs": [],
   "source": [
    "G = nx.Graph()\n",
    "for edge in list(edgelist.keys()):\n",
    "    G.add_weighted_edges_from([tuple((edge[0],edge[1],edgelist[edge]))])\n",
    "nb_nodes = len(list(G.nodes))"
   ]
  },
  {
   "cell_type": "markdown",
   "metadata": {},
   "source": [
    "### Simulate:"
   ]
  },
  {
   "cell_type": "markdown",
   "metadata": {},
   "source": [
    "Salvo solo la media sui run dei pesi:"
   ]
  },
  {
   "cell_type": "code",
   "execution_count": 6,
   "metadata": {},
   "outputs": [],
   "source": [
    "mu = 0.1\n",
    "betaT = 0\n",
    "if dataset == 'hospital':\n",
    "    beta_range = [0.2,0.3,0.4,0.5,0.6]\n",
    "    a_inf = 0.6\n",
    "    a_sup = 0.7\n",
    "elif dataset == 'high_school':\n",
    "    beta_range = [0.85,0.95]\n",
    "    a_inf = 0.6\n",
    "    a_sup = 0.7\n",
    "elif dataset == 'workplace':\n",
    "    beta_range = [0.4,0.5,0.6,0.7]\n",
    "    a_inf = 0.7\n",
    "    a_sup = 0.8\n",
    "elif dataset == 'conference':\n",
    "    beta_range = [0.9,1,1.1,1.2]\n",
    "    a_inf = 0.6\n",
    "    a_sup = 0.7\n",
    "elif dataset == 'pr_school':\n",
    "    beta_range = [0.15,0.18,0.21,0.24,0.27,0.3,0.33,0.36]\n",
    "    a_inf = 0.5\n",
    "    a_sup = 0.6"
   ]
  },
  {
   "cell_type": "code",
   "execution_count": 7,
   "metadata": {},
   "outputs": [
    {
     "data": {
      "text/plain": [
       "1"
      ]
     },
     "execution_count": 7,
     "metadata": {},
     "output_type": "execute_result"
    }
   ],
   "source": [
    "#seed_size = int(round(nb_nodes/10))\n",
    "seed_size = 1\n",
    "seed_size"
   ]
  },
  {
   "cell_type": "code",
   "execution_count": 8,
   "metadata": {},
   "outputs": [],
   "source": [
    "final_result = 'inf_tree'\n",
    "save_temp_ev = False"
   ]
  },
  {
   "cell_type": "code",
   "execution_count": 9,
   "metadata": {},
   "outputs": [
    {
     "name": "stdout",
     "output_type": "stream",
     "text": [
      "121.0 145.2\n"
     ]
    }
   ],
   "source": [
    "lim_inf = a_inf*nb_nodes\n",
    "lim_sup = a_sup*nb_nodes\n",
    "print(lim_inf,lim_sup)"
   ]
  },
  {
   "cell_type": "markdown",
   "metadata": {},
   "source": [
    "# If final_result = 'inf_tree'"
   ]
  },
  {
   "cell_type": "code",
   "execution_count": 10,
   "metadata": {},
   "outputs": [],
   "source": [
    "times = 30000"
   ]
  },
  {
   "cell_type": "code",
   "execution_count": 11,
   "metadata": {},
   "outputs": [],
   "source": [
    "pat0 = -1 "
   ]
  },
  {
   "cell_type": "code",
   "execution_count": 12,
   "metadata": {},
   "outputs": [],
   "source": [
    "\n",
    "import os\n",
    "folder = 'results/inf_treeSIR_a_fixed/a_%.2f_%.2f_final/'%(a_inf,a_sup)\n",
    "if not os.path.exists(folder):\n",
    "    os.makedirs(folder)"
   ]
  },
  {
   "cell_type": "code",
   "execution_count": 16,
   "metadata": {},
   "outputs": [
    {
     "name": "stdout",
     "output_type": "stream",
     "text": [
      "pr_school\n",
      "beta =  0.12 betaT =  0 mu =  0.1 seed_size = 1\n"
     ]
    },
    {
     "data": {
      "application/vnd.jupyter.widget-view+json": {
       "model_id": "7903f5131cec4b8badf15563374ee694",
       "version_major": 2,
       "version_minor": 0
      },
      "text/plain": [
       "  0%|          | 0/30000 [00:00<?, ?it/s]"
      ]
     },
     "metadata": {},
     "output_type": "display_data"
    },
    {
     "name": "stdout",
     "output_type": "stream",
     "text": [
      "nb_good_sim 1\n"
     ]
    }
   ],
   "source": [
    "print(dataset)\n",
    "sm = SM.Simplagion_model(edgelist,edgelist3,nodes_list,weighted,final_result)\n",
    "for beta in beta_range:\n",
    "    nb_good_sim = 0           \n",
    "    print('beta = ',beta,'betaT = ',betaT,'mu = ',mu,'seed_size =',seed_size)\n",
    "    C_L_list = np.full(len(edgelist)*2,0)\n",
    "    t_i = [[] for i in range(nb_nodes)]\n",
    "    for n in tqdm(range(times)):\n",
    "        sm.initialize_time0(seed_size)\n",
    "        C_L_list_tmp, _, t_i, aN = sm.simulate(beta,betaT,mu, save_temp_ev,t_i)\n",
    "        a = aN/nb_nodes\n",
    "        \n",
    "        #print('Soglia superata: ', flag_nb_inf)\n",
    "        if a_inf<=a<=a_sup:\n",
    "            C_L_list = C_L_list + C_L_list_tmp\n",
    "            nb_good_sim += 1\n",
    "            if nb_good_sim == 1000:\n",
    "                break\n",
    "    print('nb_good_sim',nb_good_sim)\n",
    "\n",
    "    # save infection pattern:\n",
    "    C_L_list = C_L_list/nb_good_sim\n",
    "    if mu > 0:\n",
    "        file_nameL = folder + \"CL_mean_weighted_%s_beta_%.3f_betaT_%.3f_mu_%.2f_init_%d.csv\"%(dataset,beta,betaT,mu,seed_size)\n",
    "        save_on_csv(file_nameL,C_L_list,'a+')\n"
   ]
  },
  {
   "cell_type": "code",
   "execution_count": null,
   "metadata": {},
   "outputs": [],
   "source": []
  }
 ],
 "metadata": {
  "kernelspec": {
   "display_name": "Python 3",
   "language": "python",
   "name": "python3"
  },
  "language_info": {
   "codemirror_mode": {
    "name": "ipython",
    "version": 3
   },
   "file_extension": ".py",
   "mimetype": "text/x-python",
   "name": "python",
   "nbconvert_exporter": "python",
   "pygments_lexer": "ipython3",
   "version": "3.7.0"
  }
 },
 "nbformat": 4,
 "nbformat_minor": 2
}
