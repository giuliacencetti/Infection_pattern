{
 "cells": [
  {
   "cell_type": "code",
   "execution_count": 1,
   "metadata": {},
   "outputs": [],
   "source": [
    "import numpy as np\n",
    "import seaborn as sns\n",
    "import matplotlib.pyplot as plt\n",
    "import csv\n",
    "import pickle\n",
    "\n",
    "import sys\n",
    "sys.path.insert(1, '../../')\n",
    "from utils import *"
   ]
  },
  {
   "cell_type": "code",
   "execution_count": 2,
   "metadata": {},
   "outputs": [],
   "source": [
    "plt.rcParams.update({'font.size': 13})"
   ]
  },
  {
   "cell_type": "markdown",
   "metadata": {},
   "source": [
    "## Functions:"
   ]
  },
  {
   "cell_type": "code",
   "execution_count": null,
   "metadata": {},
   "outputs": [],
   "source": []
  },
  {
   "cell_type": "markdown",
   "metadata": {},
   "source": [
    "## Parameters"
   ]
  },
  {
   "cell_type": "code",
   "execution_count": 3,
   "metadata": {},
   "outputs": [],
   "source": [
    "#dataset = 'hospital'\n",
    "dataset = 'high_school'\n",
    "#dataset = 'conference'\n",
    "#dataset = 'workplace'\n",
    "#dataset = 'pr_school'"
   ]
  },
  {
   "cell_type": "code",
   "execution_count": 4,
   "metadata": {},
   "outputs": [],
   "source": [
    "weighted = True"
   ]
  },
  {
   "cell_type": "code",
   "execution_count": 5,
   "metadata": {},
   "outputs": [],
   "source": [
    "mu = 0.1"
   ]
  },
  {
   "cell_type": "code",
   "execution_count": 6,
   "metadata": {},
   "outputs": [],
   "source": [
    "mu = 0.1\n",
    "betaT = 0\n",
    "if dataset == 'hospital':\n",
    "    #beta_range = [0.2,0.3,0.4,0.5,0.6,0.7,0.8,0.9]\n",
    "    #R0_range = [1.20,1.53,1.77,2,2.22,2.38,2.56,2.7]\n",
    "    beta_range = [0.3,0.4,0.5,0.6,0.7,0.8,0.9]\n",
    "    R0_range = [1.53,1.77,2,2.22,2.38,2.56,2.7]\n",
    "    \n",
    "elif dataset == 'high_school':\n",
    "    beta_range = [0.7,0.75,0.8,0.85,0.9,0.95,1.0]\n",
    "    R0_range = [1.55,1.63,1.71,1.79,1.83,1.86,1.89]\n",
    "\n",
    "elif dataset == 'workplace':\n",
    "    beta_range = [0.3,0.4,0.5,0.6,0.7,0.8,0.9]\n",
    "    R0_range = [1.26,1.55,1.82,2.06,2.22,2.40,2.62]\n",
    "\n",
    "elif dataset == 'conference':\n",
    "    beta_range = [0.6,0.7,0.75,0.8,0.85,0.9,1]\n",
    "    R0_range = [1.21,1.37,1.46,1.49,1.60,1.66,1.74]\n",
    "    \n",
    "elif dataset == 'pr_school':\n",
    "    beta_range = [0.12,0.15,0.18,0.21,0.24,0.27,0.3,0.33,0.36]\n",
    "    R0_range = [1.40,1.65,1.97,2.11,2.31,2.48,2.68,2.84,3.01]\n",
    "    #beta_range = [0.21,0.24,0.27,0.3,0.33,0.36]\n",
    "    #R0_range = [2.11,2.31,2.48,2.68,2.84,3.01]"
   ]
  },
  {
   "cell_type": "code",
   "execution_count": 7,
   "metadata": {},
   "outputs": [],
   "source": [
    "if dataset == 'pr_school':\n",
    "    minValue_dataset = 0.9358202971633636\n",
    "    maxValue_dataset = 0.9980819653892196\n",
    "elif dataset == 'hospital':\n",
    "    minValue_dataset = 0.9598073270715547\n",
    "    maxValue_dataset = 0.9977529359030632\n",
    "elif dataset == 'workplace':\n",
    "    minValue_dataset = 0.9385573029069428\n",
    "    maxValue_dataset = 0.9993494022439595\n",
    "elif dataset == 'high_school':\n",
    "    minValue_dataset = 0.9773412083701526 \n",
    "    maxValue_dataset = 0.9969046147793836\n",
    "elif dataset == 'conference':\n",
    "    minValue_dataset = 0.9686355970282393 \n",
    "    maxValue_dataset = 0.9967021042518226"
   ]
  },
  {
   "cell_type": "code",
   "execution_count": 8,
   "metadata": {},
   "outputs": [],
   "source": [
    "C_list = []\n",
    "for beta in beta_range:\n",
    "    filename = \"results/inf_treeSIR/CL_mean_weighted_%s_beta_%.3f_betaT_0.000_mu_%.2f_init_1.csv\"%(dataset,beta,mu)\n",
    "    C = load_C_mean(filename)\n",
    "    C_list.append(C)"
   ]
  },
  {
   "cell_type": "code",
   "execution_count": 9,
   "metadata": {},
   "outputs": [],
   "source": [
    "S = np.full((len(beta_range),len(beta_range)),0.0)\n",
    "for i in range(len(beta_range)-1):\n",
    "    for j in range(i+1,len(beta_range)):\n",
    "        S[i,j] = cos_sim(C_list[i],C_list[j])"
   ]
  },
  {
   "cell_type": "code",
   "execution_count": 10,
   "metadata": {},
   "outputs": [],
   "source": [
    "figname = '../figs/cos_sim_%s_mu_%.2f.pdf'%(dataset,mu)"
   ]
  },
  {
   "cell_type": "code",
   "execution_count": 11,
   "metadata": {},
   "outputs": [
    {
     "name": "stdout",
     "output_type": "stream",
     "text": [
      "0.9773412083701526 0.9936763824313891\n",
      "../figs/cos_sim_high_school_mu_0.10.pdf.pdf\n"
     ]
    },
    {
     "data": {
      "image/png": "[encoded data removed]",
      "text/plain": [
       "<Figure size 324x288 with 2 Axes>"
      ]
     },
     "metadata": {},
     "output_type": "display_data"
    }
   ],
   "source": [
    "plot_sim(S, mu, R0_range, ax_label='$R_0$', save=True, figname=figname,\n",
    "         scale='independent',min_scale = minValue_dataset,max_scale = maxValue_dataset)"
   ]
  },
  {
   "cell_type": "code",
   "execution_count": 12,
   "metadata": {},
   "outputs": [
    {
     "name": "stdout",
     "output_type": "stream",
     "text": [
      "0.9773412083701526 0.9969046147793836\n",
      "../figs/cos_sim_high_school_mu_0.10.pdf_colorscale.pdf\n"
     ]
    },
    {
     "data": {
      "image/png": "[encoded data removed]",
      "text/plain": [
       "<Figure size 324x288 with 2 Axes>"
      ]
     },
     "metadata": {},
     "output_type": "display_data"
    }
   ],
   "source": [
    "plot_sim(S, mu, R0_range, ax_label='$R_0$', save=True, figname=figname,\n",
    "         scale='fixed',min_scale = minValue_dataset,max_scale = maxValue_dataset)"
   ]
  },
  {
   "cell_type": "code",
   "execution_count": null,
   "metadata": {},
   "outputs": [],
   "source": []
  },
  {
   "cell_type": "code",
   "execution_count": null,
   "metadata": {},
   "outputs": [],
   "source": []
  }
 ],
 "metadata": {
  "kernelspec": {
   "display_name": "Python 3",
   "language": "python",
   "name": "python3"
  },
  "language_info": {
   "codemirror_mode": {
    "name": "ipython",
    "version": 3
   },
   "file_extension": ".py",
   "mimetype": "text/x-python",
   "name": "python",
   "nbconvert_exporter": "python",
   "pygments_lexer": "ipython3",
   "version": "3.7.0"
  }
 },
 "nbformat": 4,
 "nbformat_minor": 2
}
