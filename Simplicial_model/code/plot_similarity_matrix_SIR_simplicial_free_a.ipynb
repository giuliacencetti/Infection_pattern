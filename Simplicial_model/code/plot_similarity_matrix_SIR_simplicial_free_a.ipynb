{
 "cells": [
  {
   "cell_type": "code",
   "execution_count": 1,
   "metadata": {},
   "outputs": [],
   "source": [
    "import numpy as np\n",
    "import seaborn as sns\n",
    "import matplotlib.pyplot as plt\n",
    "import csv\n",
    "import pickle\n",
    "import sys\n",
    "\n",
    "sys.path.insert(1, '../../')\n",
    "from utils import *"
   ]
  },
  {
   "cell_type": "code",
   "execution_count": 2,
   "metadata": {},
   "outputs": [],
   "source": [
    "plt.rcParams.update({'font.size': 13})"
   ]
  },
  {
   "cell_type": "markdown",
   "metadata": {},
   "source": [
    "## Functions:"
   ]
  },
  {
   "cell_type": "code",
   "execution_count": null,
   "metadata": {},
   "outputs": [],
   "source": []
  },
  {
   "cell_type": "markdown",
   "metadata": {},
   "source": [
    "## Parameters"
   ]
  },
  {
   "cell_type": "code",
   "execution_count": 3,
   "metadata": {},
   "outputs": [],
   "source": [
    "#dataset = 'hospital'\n",
    "#dataset = 'high_school'\n",
    "#dataset = 'conference'\n",
    "dataset = 'workplace'\n",
    "#dataset = 'pr_school'"
   ]
  },
  {
   "cell_type": "code",
   "execution_count": 4,
   "metadata": {},
   "outputs": [],
   "source": [
    "weighted = True"
   ]
  },
  {
   "cell_type": "code",
   "execution_count": 5,
   "metadata": {},
   "outputs": [],
   "source": [
    "mu = 0.1"
   ]
  },
  {
   "cell_type": "code",
   "execution_count": 6,
   "metadata": {},
   "outputs": [],
   "source": [
    "if dataset == 'hospital':    \n",
    "    beta_betaT_range = [(0.6,0.8),\n",
    "                        (0.2,0.8),\n",
    "                        (0.3,5),\n",
    "                        (0.4,7.5),\n",
    "                        (0.15,5),\n",
    "                        (0.3,10),\n",
    "                        (0.1,10),\n",
    "                        (0.06,10),\n",
    "                        (0.05,15),\n",
    "                        (0.05,19)]\n",
    "elif dataset == 'workplace': \n",
    "    beta_betaT_range = [(0.5,7),\n",
    "                        (0.4,7.3),\n",
    "                        (0.3,6.5),\n",
    "                        (0.25,6.5),\n",
    "                        (0.25,7),\n",
    "                        (0.2,7),\n",
    "                        (0.2,7.3)]\n",
    "elif dataset == 'conference':\n",
    "    beta_betaT_range = [(1,12),\n",
    "                        (0.9,12),\n",
    "                        (0.8,12),\n",
    "                        (0.7,12),\n",
    "                        (0.6,12),\n",
    "                        (0.5,12),\n",
    "                        (0.4,12)]\n",
    "\n",
    "if dataset == 'pr_school':\n",
    "    beta_betaT_range = [(0.07,7),\n",
    "                        #(0.08,7),\n",
    "                        (0.1,7),\n",
    "                        #(0.11,6),\n",
    "                        (0.1,5),\n",
    "                        (0.2,7),\n",
    "                        (0.15,5),\n",
    "                        #(0.14,5),\n",
    "                        (0.2,5),\n",
    "                        #(0.17,4),\n",
    "                        (0.2,3),\n",
    "                        #(0.23,2),\n",
    "                        (0.2,1),\n",
    "                        #(0.26,1)\n",
    "                        ]"
   ]
  },
  {
   "cell_type": "code",
   "execution_count": 7,
   "metadata": {},
   "outputs": [],
   "source": [
    "if dataset == 'pr_school':\n",
    "    minValue_dataset = 0.8708926301573268\n",
    "    maxValue_dataset = 0.9930384288788436\n",
    "elif dataset == 'hospital':\n",
    "    minValue_dataset = 0.8191292897877029\n",
    "    maxValue_dataset = 0.9978018310214777\n",
    "elif dataset == 'workplace':\n",
    "    minValue_dataset = 0.8918053167997326\n",
    "    maxValue_dataset = 0.9911296969962261\n",
    "elif dataset == 'high_school':\n",
    "    minValue_dataset = 0.4273770824044987 \n",
    "    maxValue_dataset = 0.940444458075442\n",
    "elif dataset == 'conference':\n",
    "    minValue_dataset = 0.9103281021232588 \n",
    "    maxValue_dataset = 0.9968363331263105"
   ]
  },
  {
   "cell_type": "code",
   "execution_count": 8,
   "metadata": {},
   "outputs": [],
   "source": [
    "CL_list = []\n",
    "CT_list = []\n",
    "C_list = []\n",
    "for (beta,betaT) in beta_betaT_range:\n",
    "    filename = \"results/inf_treeSIR/CL_mean_weighted_%s_beta_%.3f_betaT_%.3f_mu_%.2f_init_1.csv\"%(dataset,beta,betaT,mu)\n",
    "    CL = load_C_mean(filename)\n",
    "    CL_list.append(CL)\n",
    "    filename = \"results/inf_treeSIR/CT_mean_weighted_%s_beta_%.3f_betaT_%.3f_mu_%.2f_init_1.csv\"%(dataset,beta,betaT,mu)\n",
    "    CT = load_C_mean(filename)\n",
    "    CT_list.append(CT)\n",
    "    C_list.append(CL+CT)"
   ]
  },
  {
   "cell_type": "code",
   "execution_count": 9,
   "metadata": {},
   "outputs": [
    {
     "data": {
      "text/plain": [
       "(8.401343004980905, 1.6616569950190943)"
      ]
     },
     "execution_count": 9,
     "metadata": {},
     "output_type": "execute_result"
    }
   ],
   "source": [
    "np.sum(CL),np.sum(CT)"
   ]
  },
  {
   "cell_type": "code",
   "execution_count": 10,
   "metadata": {},
   "outputs": [
    {
     "name": "stdout",
     "output_type": "stream",
     "text": [
      "../figs/CL_CT_mean_weighted_workplace_mu_0.10.pdf\n"
     ]
    },
    {
     "data": {
      "image/png": "[encoded data removed]",
      "text/plain": [
       "<Figure size 212.4x182.059 with 1 Axes>"
      ]
     },
     "metadata": {},
     "output_type": "display_data"
    }
   ],
   "source": [
    "fig,ax = plt.subplots(1,1,figsize=(2.95,2.5286))\n",
    "plt.plot(np.sum(CL_list,axis=1),'o-',label='$|C_1|$',color='orange',markersize=10)\n",
    "plt.plot(np.sum(CT_list,axis=1),'v-',label='$|C_2|$',color='#ac19d2',markersize=10)\n",
    "#plt.plot(np.sum(CL_list,axis=1)/np.sum(CT_list,axis=1),'o',label='CL/CT')\n",
    "plt.xlabel(r'($\\beta_|$,$\\beta_{\\Delta}$)')\n",
    "#plt.ylabel('$|C|$')\n",
    "plt.xticks([i for i in range(len(beta_betaT_range))],beta_betaT_range,rotation='vertical')\n",
    "if dataset== 'pr_school':\n",
    "    plt.ylim([-5,150])\n",
    "elif dataset == 'hospital':\n",
    "    plt.ylim([-5,45])\n",
    "elif dataset == 'conference':\n",
    "    plt.ylim([10,120])\n",
    "elif dataset == 'workplace':\n",
    "    plt.ylim([-5,100])\n",
    "plt.tight_layout()\n",
    "ax.spines['top'].set_visible(False)\n",
    "ax.spines['right'].set_visible(False)\n",
    "ax.spines['bottom'].set_visible(False)\n",
    "ax.spines['left'].set_visible(True)\n",
    "\n",
    "figname = '../figs/CL_CT_mean_weighted_%s_mu_%.2f.pdf'%(dataset,mu)\n",
    "print(figname)\n",
    "plt.savefig(figname)\n",
    "plt.show()"
   ]
  },
  {
   "cell_type": "code",
   "execution_count": 11,
   "metadata": {},
   "outputs": [
    {
     "data": {
      "text/plain": [
       "\"\\nfig,ax = plt.subplots(1,1,figsize=(2.95,2.5286))\\nplt.plot(np.sum(CL_list,axis=1)[0],'o-',label='$|C_1|$',color='orange',markersize=10)\\nplt.plot(np.sum(CT_list,axis=1)[0],'v-',label='$|C_2|$',color='#ac19d2',markersize=10)\\n#plt.plot(np.sum(CL_list,axis=1)/np.sum(CT_list,axis=1),'o',label='CL/CT')\\nplt.xlabel(r'($\\x08eta_|$,$\\x08eta_{\\\\Delta}$)')\\n#plt.ylabel('$|C|$')\\nplt.xticks([i for i in range(len(beta_betaT_range))],beta_betaT_range,rotation='vertical')\\nplt.legend(frameon=False,ncol=1)\\nplt.ylim([0,150])\\nplt.tight_layout()\\nax.spines['top'].set_visible(False)\\nax.spines['right'].set_visible(False)\\nax.spines['bottom'].set_visible(False)\\nax.spines['left'].set_visible(True)\\n\\nfigname = '../figs/CL_CT_legend.pdf'\\nplt.savefig(figname)\\nplt.show()\\n\""
      ]
     },
     "execution_count": 11,
     "metadata": {},
     "output_type": "execute_result"
    }
   ],
   "source": [
    "# legend\n",
    "'''\n",
    "fig,ax = plt.subplots(1,1,figsize=(2.95,2.5286))\n",
    "plt.plot(np.sum(CL_list,axis=1)[0],'o-',label='$|C_1|$',color='orange',markersize=10)\n",
    "plt.plot(np.sum(CT_list,axis=1)[0],'v-',label='$|C_2|$',color='#ac19d2',markersize=10)\n",
    "#plt.plot(np.sum(CL_list,axis=1)/np.sum(CT_list,axis=1),'o',label='CL/CT')\n",
    "plt.xlabel(r'($\\beta_|$,$\\beta_{\\Delta}$)')\n",
    "#plt.ylabel('$|C|$')\n",
    "plt.xticks([i for i in range(len(beta_betaT_range))],beta_betaT_range,rotation='vertical')\n",
    "plt.legend(frameon=False,ncol=1)\n",
    "plt.ylim([0,150])\n",
    "plt.tight_layout()\n",
    "ax.spines['top'].set_visible(False)\n",
    "ax.spines['right'].set_visible(False)\n",
    "ax.spines['bottom'].set_visible(False)\n",
    "ax.spines['left'].set_visible(True)\n",
    "\n",
    "figname = '../figs/CL_CT_legend.pdf'\n",
    "plt.savefig(figname)\n",
    "plt.show()\n",
    "'''"
   ]
  },
  {
   "cell_type": "code",
   "execution_count": 12,
   "metadata": {},
   "outputs": [
    {
     "data": {
      "text/plain": [
       "Text(0.5, 0, '($\\\\beta_|$,$\\\\beta_{\\\\Delta}$)')"
      ]
     },
     "execution_count": 12,
     "metadata": {},
     "output_type": "execute_result"
    },
    {
     "data": {
      "image/png": "[encoded data removed]",
      "text/plain": [
       "<Figure size 324x288 with 1 Axes>"
      ]
     },
     "metadata": {},
     "output_type": "display_data"
    }
   ],
   "source": [
    "fig,ax = plt.subplots(1,1,figsize=(4.5,4))\n",
    "plt.plot(np.sum(CL_list,axis=1)/np.sum(CT_list,axis=1),'o')\n",
    "plt.xticks([i for i in range(len(beta_betaT_range))],beta_betaT_range,rotation='vertical')\n",
    "plt.xlabel(r'($\\beta_|$,$\\beta_{\\Delta}$)')\n"
   ]
  },
  {
   "cell_type": "code",
   "execution_count": 13,
   "metadata": {},
   "outputs": [
    {
     "data": {
      "text/plain": [
       "array([7.69318034, 6.86932381, 6.79615113, 6.3524622 , 5.81926275,\n",
       "       5.3368632 , 5.05600315])"
      ]
     },
     "execution_count": 13,
     "metadata": {},
     "output_type": "execute_result"
    }
   ],
   "source": [
    "np.sum(CL_list,axis=1)/np.sum(CT_list,axis=1)"
   ]
  },
  {
   "cell_type": "code",
   "execution_count": 14,
   "metadata": {},
   "outputs": [],
   "source": [
    "S = np.full((len(beta_betaT_range),len(beta_betaT_range)),0.0)\n",
    "for i in range(len(beta_betaT_range)-1):\n",
    "    for j in range(i+1,len(beta_betaT_range)):\n",
    "        S[i,j] = cos_sim(C_list[i],C_list[j])"
   ]
  },
  {
   "cell_type": "code",
   "execution_count": 15,
   "metadata": {},
   "outputs": [],
   "source": [
    "figname = '../figs/cos_sim_%s_mu_%.2f'%(dataset,mu)"
   ]
  },
  {
   "cell_type": "code",
   "execution_count": 16,
   "metadata": {},
   "outputs": [
    {
     "name": "stdout",
     "output_type": "stream",
     "text": [
      "0.9186081175611109 0.9911296969962261\n",
      "../figs/cos_sim_workplace_mu_0.10.pdf\n"
     ]
    },
    {
     "data": {
      "image/png": "[encoded data removed]",
      "text/plain": [
       "<Figure size 324x288 with 2 Axes>"
      ]
     },
     "metadata": {},
     "output_type": "display_data"
    }
   ],
   "source": [
    "plot_sim(S, mu, beta_betaT_range, ax_label=r'($\\beta_|$,$\\beta_{\\Delta}$)', save=True, figname=figname,\n",
    "         scale='independent',min_scale = minValue_dataset,max_scale = maxValue_dataset)"
   ]
  },
  {
   "cell_type": "code",
   "execution_count": 17,
   "metadata": {},
   "outputs": [
    {
     "name": "stdout",
     "output_type": "stream",
     "text": [
      "0.8918053167997326 0.9911296969962261\n",
      "../figs/cos_sim_workplace_mu_0.10_colorscale.pdf\n"
     ]
    },
    {
     "data": {
      "image/png": "[encoded data removed]",
      "text/plain": [
       "<Figure size 324x288 with 2 Axes>"
      ]
     },
     "metadata": {},
     "output_type": "display_data"
    }
   ],
   "source": [
    "plot_sim(S, mu, beta_betaT_range, ax_label=r'($\\beta_|$,$\\beta_{\\Delta}$)', save=True, figname=figname,\n",
    "         scale='fixed',min_scale = minValue_dataset,max_scale = maxValue_dataset)"
   ]
  },
  {
   "cell_type": "code",
   "execution_count": null,
   "metadata": {},
   "outputs": [],
   "source": []
  },
  {
   "cell_type": "code",
   "execution_count": null,
   "metadata": {},
   "outputs": [],
   "source": []
  }
 ],
 "metadata": {
  "kernelspec": {
   "display_name": "Python 3",
   "language": "python",
   "name": "python3"
  },
  "language_info": {
   "codemirror_mode": {
    "name": "ipython",
    "version": 3
   },
   "file_extension": ".py",
   "mimetype": "text/x-python",
   "name": "python",
   "nbconvert_exporter": "python",
   "pygments_lexer": "ipython3",
   "version": "3.7.0"
  }
 },
 "nbformat": 4,
 "nbformat_minor": 2
}
