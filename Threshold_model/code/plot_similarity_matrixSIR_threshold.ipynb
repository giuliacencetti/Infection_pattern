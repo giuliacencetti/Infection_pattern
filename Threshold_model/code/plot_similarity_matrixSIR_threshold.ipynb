{
 "cells": [
  {
   "cell_type": "code",
   "execution_count": 1,
   "metadata": {},
   "outputs": [],
   "source": [
    "import numpy as np\n",
    "import seaborn as sns\n",
    "import matplotlib.pyplot as plt\n",
    "import csv\n",
    "import networkx as nx\n",
    "import pickle\n",
    "\n",
    "import sys\n",
    "sys.path.insert(1, '../../')\n",
    "from utils import *"
   ]
  },
  {
   "cell_type": "code",
   "execution_count": 2,
   "metadata": {},
   "outputs": [],
   "source": [
    "dataset = 'pr_school'"
   ]
  },
  {
   "cell_type": "code",
   "execution_count": 3,
   "metadata": {},
   "outputs": [],
   "source": [
    "weighted = True"
   ]
  },
  {
   "cell_type": "code",
   "execution_count": 4,
   "metadata": {},
   "outputs": [],
   "source": [
    "thresholds = [0.04, 0.06, 0.08, 0.10, 0.12, 0.14, 0.16, 0.18, 0.20, 0.22]\n",
    "if dataset == 'pr_school':\n",
    "    thresholds = [0.02, 0.04, 0.06, 0.08, 0.10, 0.12, 0.14, 0.16]\n",
    "\n",
    "mu = 0.1"
   ]
  },
  {
   "cell_type": "code",
   "execution_count": null,
   "metadata": {},
   "outputs": [],
   "source": [
    "plt.rcParams.update({'font.size': 15})"
   ]
  },
  {
   "cell_type": "markdown",
   "metadata": {},
   "source": [
    "## Generate similarity matrix:"
   ]
  },
  {
   "cell_type": "code",
   "execution_count": 5,
   "metadata": {},
   "outputs": [],
   "source": [
    "def load_C_mean(filename):\n",
    "    with open(filename, 'r') as csvfile:\n",
    "        spamreader = csv.reader(csvfile, delimiter=',', quotechar='|')\n",
    "        for row in spamreader:\n",
    "            C = np.array([float(i) for i in row])\n",
    "    return C"
   ]
  },
  {
   "cell_type": "code",
   "execution_count": 6,
   "metadata": {},
   "outputs": [],
   "source": [
    "# cosine similarity between vectors\n",
    "def similarity(v1,v2):\n",
    "    \n",
    "    return np.sum(v1*v2) / (np.sqrt((np.sum(v1*v1))*np.sum(v2*v2)))"
   ]
  },
  {
   "cell_type": "code",
   "execution_count": 7,
   "metadata": {},
   "outputs": [],
   "source": [
    "def similarity_matrix(mu, thresholds,weighted):\n",
    "    \n",
    "    # load weights\n",
    "    C_list = []\n",
    "\n",
    "    for th in thresholds:\n",
    "        if mu > 0:\n",
    "            filename = \"results/inf_treeSIR/C_mean_weighted_%s_th_%.2f_mu_%.3f.csv\"%(dataset,th,mu)\n",
    "        else:\n",
    "            filename = \"results/inf_treeSI/C_mean_weighted_%s_th_%.2f.csv\"%(dataset,th)\n",
    "        \n",
    "        C = load_C_mean(filename)\n",
    "        C_list.append(C)\n",
    "\n",
    "\n",
    "    # compute similarity\n",
    "    sim = np.full((len(thresholds),len(thresholds)),0.0)\n",
    "    for i in range(len(thresholds)-1):\n",
    "        for j in range(i+1,len(thresholds)):\n",
    "            sim[i,j] = similarity(C_list[i],C_list[j])\n",
    "\n",
    "   \n",
    "            \n",
    "    return sim, C_list"
   ]
  },
  {
   "cell_type": "code",
   "execution_count": 15,
   "metadata": {},
   "outputs": [],
   "source": [
    "if dataset == 'pr_school':\n",
    "    minValue_dataset = 0.6906763827664567\n",
    "    maxValue_dataset = 0.9712661863066689\n",
    "elif dataset == 'hospital':\n",
    "    minValue_dataset = 0.5859676185492886\n",
    "    maxValue_dataset = 0.9725345554627652\n",
    "elif dataset == 'workplace':\n",
    "    minValue_dataset = 0.6640920326980589\n",
    "    maxValue_dataset = 0.9812107449339817\n",
    "elif dataset == 'high_school':\n",
    "    minValue_dataset = 0.4273770824044987 \n",
    "    maxValue_dataset = 0.940444458075442\n",
    "elif dataset == 'conference':\n",
    "    minValue_dataset = 0.41928424527832536 \n",
    "    maxValue_dataset = 0.9706776648953375"
   ]
  },
  {
   "cell_type": "code",
   "execution_count": 10,
   "metadata": {},
   "outputs": [],
   "source": [
    "S, C_list = similarity_matrix(mu, thresholds,weighted)"
   ]
  },
  {
   "cell_type": "code",
   "execution_count": 11,
   "metadata": {},
   "outputs": [
    {
     "data": {
      "text/plain": [
       "array([[0.        , 0.9751149 , 0.9472587 , 0.92469375, 0.90047275,\n",
       "        0.87795729, 0.85171062, 0.80359985, 0.74954997, 0.66889485],\n",
       "       [0.        , 0.        , 0.97414329, 0.94944363, 0.92327644,\n",
       "        0.90231808, 0.876767  , 0.8263655 , 0.76605611, 0.67931373],\n",
       "       [0.        , 0.        , 0.        , 0.97516636, 0.94404215,\n",
       "        0.92763457, 0.90468572, 0.85760863, 0.79476685, 0.69700996],\n",
       "       [0.        , 0.        , 0.        , 0.        , 0.97819808,\n",
       "        0.96274608, 0.93767678, 0.89069119, 0.82418598, 0.72040793],\n",
       "       [0.        , 0.        , 0.        , 0.        , 0.        ,\n",
       "        0.98121074, 0.9509962 , 0.90444879, 0.83577836, 0.74234501],\n",
       "       [0.        , 0.        , 0.        , 0.        , 0.        ,\n",
       "        0.        , 0.97571235, 0.93870225, 0.8751961 , 0.77667314],\n",
       "       [0.        , 0.        , 0.        , 0.        , 0.        ,\n",
       "        0.        , 0.        , 0.97155162, 0.90955237, 0.81478292],\n",
       "       [0.        , 0.        , 0.        , 0.        , 0.        ,\n",
       "        0.        , 0.        , 0.        , 0.9641633 , 0.87498638],\n",
       "       [0.        , 0.        , 0.        , 0.        , 0.        ,\n",
       "        0.        , 0.        , 0.        , 0.        , 0.93618317],\n",
       "       [0.        , 0.        , 0.        , 0.        , 0.        ,\n",
       "        0.        , 0.        , 0.        , 0.        , 0.        ]])"
      ]
     },
     "execution_count": 11,
     "metadata": {},
     "output_type": "execute_result"
    }
   ],
   "source": [
    "S"
   ]
  },
  {
   "cell_type": "code",
   "execution_count": 12,
   "metadata": {},
   "outputs": [],
   "source": [
    "\n"
   ]
  },
  {
   "cell_type": "code",
   "execution_count": null,
   "metadata": {},
   "outputs": [],
   "source": [
    "figname = '../figs/cos_sim_%s_mu_%.2f.pdf'%(dataset,mu)"
   ]
  },
  {
   "cell_type": "code",
   "execution_count": 13,
   "metadata": {},
   "outputs": [
    {
     "name": "stdout",
     "output_type": "stream",
     "text": [
      "0.6688948469289505 0.9812107449339817\n",
      "../figs/SIR_weighted_sim_workplace_mu_0.10.pdf\n"
     ]
    },
    {
     "data": {
      "image/png": "[encoded data removed]",
      "text/plain": [
       "<Figure size 324x288 with 2 Axes>"
      ]
     },
     "metadata": {},
     "output_type": "display_data"
    }
   ],
   "source": [
    "plot_sim(S, mu, thresholds, ax_label=r'$\\theta$', save=True, figname=figname,\n",
    "         scale='independent',min_scale = minValue_dataset,max_scale = maxValue_dataset)"
   ]
  },
  {
   "cell_type": "code",
   "execution_count": 16,
   "metadata": {},
   "outputs": [
    {
     "name": "stdout",
     "output_type": "stream",
     "text": [
      "0.6640920326980589 0.9812107449339817\n",
      "../figs/SIR_weighted_sim_workplace_mu_0.10_colorscale.pdf\n"
     ]
    },
    {
     "data": {
      "image/png": "[encoded data removed]",
      "text/plain": [
       "<Figure size 324x288 with 2 Axes>"
      ]
     },
     "metadata": {},
     "output_type": "display_data"
    }
   ],
   "source": [
    "plot_sim(S, mu, thresholds, ax_label=r'$\\theta$', save=True, figname=figname,\n",
    "         scale='fixed',min_scale = minValue_dataset,max_scale = maxValue_dataset)"
   ]
  }
 ],
 "metadata": {
  "kernelspec": {
   "display_name": "Python 3",
   "language": "python",
   "name": "python3"
  },
  "language_info": {
   "codemirror_mode": {
    "name": "ipython",
    "version": 3
   },
   "file_extension": ".py",
   "mimetype": "text/x-python",
   "name": "python",
   "nbconvert_exporter": "python",
   "pygments_lexer": "ipython3",
   "version": "3.7.0"
  }
 },
 "nbformat": 4,
 "nbformat_minor": 4
}
