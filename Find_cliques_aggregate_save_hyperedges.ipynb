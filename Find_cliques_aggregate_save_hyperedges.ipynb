{
 "cells": [
  {
   "cell_type": "code",
   "execution_count": 12,
   "metadata": {},
   "outputs": [],
   "source": [
    "import networkx as nx\n",
    "import matplotlib.pyplot as plt\n",
    "import numpy as np\n",
    "import matplotlib.mlab as mlab\n",
    "from collections import Counter\n",
    "import pickle\n",
    "import itertools"
   ]
  },
  {
   "cell_type": "markdown",
   "metadata": {},
   "source": [
    "Choose the dataset"
   ]
  },
  {
   "cell_type": "code",
   "execution_count": null,
   "metadata": {},
   "outputs": [],
   "source": [
    "#dataset = 'hospital'\n",
    "#dataset = 'high_school'\n",
    "#dataset = 'conference'\n",
    "#dataset = 'workplace'\n",
    "dataset = 'pr_school'"
   ]
  },
  {
   "cell_type": "markdown",
   "metadata": {},
   "source": [
    "filename is the path to the datsset, like \"data/primaryschool.csv\""
   ]
  },
  {
   "cell_type": "code",
   "execution_count": 13,
   "metadata": {},
   "outputs": [],
   "source": [
    "time_list = []\n",
    "person1_list = []\n",
    "person2_list = []\n",
    "for line in open(filename):\n",
    "    csv_row = line.split()\n",
    "    time_list.append(int(csv_row[0]))\n",
    "    person1_list.append(int(csv_row[1]))\n",
    "    person2_list.append(int(csv_row[2]))"
   ]
  },
  {
   "cell_type": "markdown",
   "metadata": {},
   "source": [
    "Reassign nodes identities such that they start from 0 and go up to N:"
   ]
  },
  {
   "cell_type": "code",
   "execution_count": null,
   "metadata": {},
   "outputs": [],
   "source": [
    "nodes = np.unique(person1_list+person2_list)\n",
    "nodes"
   ]
  },
  {
   "cell_type": "code",
   "execution_count": null,
   "metadata": {},
   "outputs": [],
   "source": [
    "new_nodes = np.arange(len(nodes))\n",
    "new_nodes"
   ]
  },
  {
   "cell_type": "code",
   "execution_count": null,
   "metadata": {},
   "outputs": [],
   "source": [
    "conversion = {}\n",
    "for i in range(len(nodes)):\n",
    "    conversion[nodes[i]] = new_nodes[i]"
   ]
  },
  {
   "cell_type": "code",
   "execution_count": null,
   "metadata": {},
   "outputs": [],
   "source": [
    "new_person1_list = []\n",
    "for node in person1_list:\n",
    "    new_person1_list.append(conversion[node])\n",
    "    \n",
    "new_person2_list = []\n",
    "for node in person2_list:\n",
    "    new_person2_list.append(conversion[node])"
   ]
  },
  {
   "cell_type": "markdown",
   "metadata": {},
   "source": [
    "Find interactions at every time:"
   ]
  },
  {
   "cell_type": "code",
   "execution_count": 15,
   "metadata": {},
   "outputs": [],
   "source": [
    "def interaction_network_at_given_time(instant):\n",
    "    edge_list = []\n",
    "    for t in range(len(time_list)):\n",
    "        if time_list[t] == instant:\n",
    "            edge_list.append([new_person1_list[t],new_person2_list[t]])\n",
    "    G=nx.Graph()\n",
    "    G.add_edges_from(edge_list)\n",
    "    return G"
   ]
  },
  {
   "cell_type": "code",
   "execution_count": 16,
   "metadata": {},
   "outputs": [],
   "source": [
    "Dpairwise = {}\n",
    "D2 = {}\n",
    "D3 = {}\n",
    "D4 = {}\n",
    "D5 = {}\n",
    "\n",
    "time = 0\n",
    "while time < max(time_list):\n",
    "    G0 = interaction_network_at_given_time(time)\n",
    "    cliques = list(nx.find_cliques(G0))\n",
    "\n",
    "    for clique in cliques:\n",
    "        clique = list(np.sort(clique))\n",
    "        size = len(clique)\n",
    "        if size == 2:\n",
    "            if tuple(clique) in D2:\n",
    "                D2[tuple(clique)] += 1\n",
    "            else:\n",
    "                D2[tuple(clique)] = 1\n",
    "        elif size == 3:\n",
    "            if tuple(clique) in D3:\n",
    "                D3[tuple(clique)] += 1\n",
    "            else:\n",
    "                D3[tuple(clique)] = 1\n",
    "        elif size == 4:\n",
    "            if tuple(clique) in D4:\n",
    "                D4[tuple(clique)] += 1\n",
    "            else:\n",
    "                D4[tuple(clique)] = 1\n",
    "        elif size == 5:\n",
    "            if tuple(clique) in D5:\n",
    "                D5[tuple(clique)] += 1\n",
    "            else:\n",
    "                D5[tuple(clique)] = 1\n",
    "        elif size > 5:\n",
    "            print(clique)\n",
    "            \n",
    "    pairwise_links = list(G0.edges)\n",
    "    for edge in pairwise_links:\n",
    "        edge = list(np.sort(edge))\n",
    "        if tuple(edge) in Dpairwise:\n",
    "            Dpairwise[tuple(edge)] += 1\n",
    "        else:\n",
    "            Dpairwise[tuple(edge)] = 1\n",
    "            \n",
    "    time += 20"
   ]
  },
  {
   "cell_type": "markdown",
   "metadata": {},
   "source": [
    "Normalize pairwise:"
   ]
  },
  {
   "cell_type": "code",
   "execution_count": null,
   "metadata": {},
   "outputs": [],
   "source": [
    "Dpairwise_n = {}\n",
    "for key in Dpairwise:\n",
    "    Dpairwise_n[key] = Dpairwise[key]/max(Dpairwise.values())"
   ]
  },
  {
   "cell_type": "markdown",
   "metadata": {},
   "source": [
    "Save all pairwise:"
   ]
  },
  {
   "cell_type": "code",
   "execution_count": 18,
   "metadata": {},
   "outputs": [],
   "source": [
    "dict_name = 'pairwise/%s_strength_edgelist_pairwise_sorted_norm.pkl'%dataset\n",
    "with open(dict_name, 'wb') as f:\n",
    "    pickle.dump(Dpairwise_n, f)"
   ]
  },
  {
   "cell_type": "markdown",
   "metadata": {},
   "source": [
    "I build another dictionary which includes all higher orders interactions as triangles:"
   ]
  },
  {
   "cell_type": "code",
   "execution_count": 19,
   "metadata": {},
   "outputs": [],
   "source": [
    "D3ho = D3.copy()"
   ]
  },
  {
   "cell_type": "code",
   "execution_count": 20,
   "metadata": {},
   "outputs": [],
   "source": [
    "for clique in D4.keys():\n",
    "    for triplet in itertools.combinations(clique,3): #all possible triplets in clique\n",
    "        triplet = list(np.sort(triplet))\n",
    "        if tuple(triplet) in D3ho:\n",
    "            D3ho[tuple(triplet)] += 1\n",
    "        else:\n",
    "            D3ho[tuple(triplet)] = 1\n",
    "\n",
    "for clique in D5.keys():\n",
    "    for triplet in itertools.combinations(clique,3): #all possible triplets in clique\n",
    "        triplet = list(np.sort(triplet))\n",
    "        if tuple(triplet) in D3ho:\n",
    "            D3ho[tuple(triplet)] += 1\n",
    "        else:\n",
    "            D3ho[tuple(triplet)] = 1\n"
   ]
  },
  {
   "cell_type": "markdown",
   "metadata": {},
   "source": [
    "Normalize second order:"
   ]
  },
  {
   "cell_type": "code",
   "execution_count": null,
   "metadata": {},
   "outputs": [],
   "source": [
    "D3ho_n = {}\n",
    "for key in D3ho:\n",
    "    D3ho_n[key] = D3ho[key]/max(Dpairwise.values())"
   ]
  },
  {
   "cell_type": "markdown",
   "metadata": {},
   "source": [
    "Save second order:"
   ]
  },
  {
   "cell_type": "code",
   "execution_count": 21,
   "metadata": {},
   "outputs": [],
   "source": [
    "dict_name = 'only_triangles/%s_strength_edgelist3_sorted_norm.pkl'%dataset\n",
    "with open(dict_name, 'wb') as f:\n",
    "    pickle.dump(D3ho, f)"
   ]
  },
  {
   "cell_type": "code",
   "execution_count": null,
   "metadata": {},
   "outputs": [],
   "source": []
  }
 ],
 "metadata": {
  "kernelspec": {
   "display_name": "Python 3",
   "language": "python",
   "name": "python3"
  },
  "language_info": {
   "codemirror_mode": {
    "name": "ipython",
    "version": 3
   },
   "file_extension": ".py",
   "mimetype": "text/x-python",
   "name": "python",
   "nbconvert_exporter": "python",
   "pygments_lexer": "ipython3",
   "version": "3.7.0"
  }
 },
 "nbformat": 4,
 "nbformat_minor": 2
}
