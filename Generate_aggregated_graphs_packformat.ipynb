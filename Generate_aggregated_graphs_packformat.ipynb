{
 "cells": [
  {
   "cell_type": "code",
   "execution_count": 3,
   "metadata": {},
   "outputs": [],
   "source": [
    "import networkx as nx\n",
    "import matplotlib.pyplot as plt\n",
    "import numpy as np\n",
    "import matplotlib.mlab as mlab\n",
    "from collections import Counter\n",
    "import pickle\n",
    "import itertools"
   ]
  },
  {
   "cell_type": "markdown",
   "metadata": {},
   "source": [
    "Choose the dataset"
   ]
  },
  {
   "cell_type": "code",
   "execution_count": 4,
   "metadata": {},
   "outputs": [],
   "source": [
    "#dataset = 'hospital'\n",
    "#dataset = 'high_school'\n",
    "#dataset = 'conference'\n",
    "dataset = 'workplace'\n",
    "#dataset = 'pr_school'"
   ]
  },
  {
   "cell_type": "markdown",
   "metadata": {},
   "source": [
    "filename is the path to the datsset, like \"data/primaryschool.csv\""
   ]
  },
  {
   "cell_type": "code",
   "execution_count": 58,
   "metadata": {},
   "outputs": [
    {
     "name": "stdout",
     "output_type": "stream",
     "text": [
      "conf.dat  cprepa.csv  hospital.dat  office.dat  school.csv\r\n"
     ]
    }
   ],
   "source": [
    "ls Datasets"
   ]
  },
  {
   "cell_type": "code",
   "execution_count": 88,
   "metadata": {},
   "outputs": [],
   "source": [
    "filename = './Datasets/school.csv'"
   ]
  },
  {
   "cell_type": "code",
   "execution_count": 89,
   "metadata": {},
   "outputs": [],
   "source": [
    "person1_list = []\n",
    "person2_list = []\n",
    "for line in open(filename):\n",
    "    csv_row = line.split()\n",
    "    person1_list.append(int(csv_row[1]))\n",
    "    person2_list.append(int(csv_row[2]))"
   ]
  },
  {
   "cell_type": "markdown",
   "metadata": {},
   "source": [
    "Reassign nodes identities such that they start from 0 and go up to N:"
   ]
  },
  {
   "cell_type": "code",
   "execution_count": 90,
   "metadata": {},
   "outputs": [
    {
     "data": {
      "text/plain": [
       "array([1426, 1427, 1428, 1429, 1430, 1431, 1434, 1435, 1437, 1439, 1441,\n",
       "       1443, 1451, 1452, 1453, 1457, 1458, 1459, 1461, 1465, 1468, 1471,\n",
       "       1475, 1477, 1479, 1480, 1482, 1483, 1486, 1489, 1493, 1495, 1498,\n",
       "       1500, 1501, 1502, 1503, 1504, 1511, 1516, 1519, 1520, 1521, 1522,\n",
       "       1524, 1525, 1528, 1532, 1533, 1538, 1539, 1545, 1546, 1548, 1549,\n",
       "       1551, 1552, 1555, 1558, 1560, 1562, 1563, 1564, 1567, 1570, 1572,\n",
       "       1574, 1578, 1579, 1580, 1585, 1592, 1594, 1601, 1603, 1604, 1606,\n",
       "       1609, 1613, 1616, 1617, 1618, 1625, 1628, 1630, 1632, 1637, 1641,\n",
       "       1643, 1647, 1648, 1649, 1650, 1653, 1656, 1661, 1663, 1664, 1665,\n",
       "       1666, 1668, 1670, 1673, 1674, 1675, 1680, 1681, 1682, 1684, 1685,\n",
       "       1687, 1688, 1695, 1696, 1697, 1698, 1700, 1702, 1704, 1705, 1706,\n",
       "       1707, 1708, 1709, 1710, 1711, 1712, 1713, 1714, 1715, 1718, 1719,\n",
       "       1720, 1722, 1723, 1727, 1730, 1731, 1732, 1735, 1737, 1738, 1739,\n",
       "       1741, 1743, 1744, 1745, 1746, 1748, 1749, 1750, 1751, 1752, 1753,\n",
       "       1757, 1759, 1760, 1761, 1763, 1764, 1765, 1766, 1767, 1768, 1770,\n",
       "       1772, 1774, 1775, 1778, 1779, 1780, 1782, 1783, 1787, 1789, 1790,\n",
       "       1792, 1795, 1796, 1797, 1798, 1799, 1800, 1801, 1802, 1803, 1805,\n",
       "       1807, 1809, 1815, 1818, 1819, 1820, 1821, 1822, 1824, 1831, 1833,\n",
       "       1835, 1836, 1837, 1838, 1843, 1847, 1851, 1852, 1854, 1855, 1857,\n",
       "       1858, 1859, 1861, 1863, 1865, 1866, 1872, 1877, 1880, 1883, 1885,\n",
       "       1887, 1888, 1889, 1890, 1892, 1895, 1897, 1898, 1902, 1906, 1907,\n",
       "       1908, 1909, 1910, 1911, 1912, 1913, 1916, 1917, 1919, 1920, 1922])"
      ]
     },
     "execution_count": 90,
     "metadata": {},
     "output_type": "execute_result"
    }
   ],
   "source": [
    "nodes = np.unique(person1_list+person2_list)\n",
    "nodes"
   ]
  },
  {
   "cell_type": "code",
   "execution_count": 91,
   "metadata": {},
   "outputs": [
    {
     "data": {
      "text/plain": [
       "array([  0,   1,   2,   3,   4,   5,   6,   7,   8,   9,  10,  11,  12,\n",
       "        13,  14,  15,  16,  17,  18,  19,  20,  21,  22,  23,  24,  25,\n",
       "        26,  27,  28,  29,  30,  31,  32,  33,  34,  35,  36,  37,  38,\n",
       "        39,  40,  41,  42,  43,  44,  45,  46,  47,  48,  49,  50,  51,\n",
       "        52,  53,  54,  55,  56,  57,  58,  59,  60,  61,  62,  63,  64,\n",
       "        65,  66,  67,  68,  69,  70,  71,  72,  73,  74,  75,  76,  77,\n",
       "        78,  79,  80,  81,  82,  83,  84,  85,  86,  87,  88,  89,  90,\n",
       "        91,  92,  93,  94,  95,  96,  97,  98,  99, 100, 101, 102, 103,\n",
       "       104, 105, 106, 107, 108, 109, 110, 111, 112, 113, 114, 115, 116,\n",
       "       117, 118, 119, 120, 121, 122, 123, 124, 125, 126, 127, 128, 129,\n",
       "       130, 131, 132, 133, 134, 135, 136, 137, 138, 139, 140, 141, 142,\n",
       "       143, 144, 145, 146, 147, 148, 149, 150, 151, 152, 153, 154, 155,\n",
       "       156, 157, 158, 159, 160, 161, 162, 163, 164, 165, 166, 167, 168,\n",
       "       169, 170, 171, 172, 173, 174, 175, 176, 177, 178, 179, 180, 181,\n",
       "       182, 183, 184, 185, 186, 187, 188, 189, 190, 191, 192, 193, 194,\n",
       "       195, 196, 197, 198, 199, 200, 201, 202, 203, 204, 205, 206, 207,\n",
       "       208, 209, 210, 211, 212, 213, 214, 215, 216, 217, 218, 219, 220,\n",
       "       221, 222, 223, 224, 225, 226, 227, 228, 229, 230, 231, 232, 233,\n",
       "       234, 235, 236, 237, 238, 239, 240, 241])"
      ]
     },
     "execution_count": 91,
     "metadata": {},
     "output_type": "execute_result"
    }
   ],
   "source": [
    "new_nodes = np.arange(len(nodes))\n",
    "new_nodes"
   ]
  },
  {
   "cell_type": "code",
   "execution_count": 92,
   "metadata": {},
   "outputs": [],
   "source": [
    "conversion = {}\n",
    "for i in range(len(nodes)):\n",
    "    conversion[nodes[i]] = new_nodes[i]"
   ]
  },
  {
   "cell_type": "code",
   "execution_count": 93,
   "metadata": {},
   "outputs": [],
   "source": [
    "new_person1_list = []\n",
    "for node in person1_list:\n",
    "    new_person1_list.append(conversion[node])\n",
    "    \n",
    "new_person2_list = []\n",
    "for node in person2_list:\n",
    "    new_person2_list.append(conversion[node])"
   ]
  },
  {
   "cell_type": "code",
   "execution_count": 94,
   "metadata": {},
   "outputs": [],
   "source": [
    "Dpairwise = {}\n",
    "for n in range(len(new_person1_list)):\n",
    "    edge = [new_person1_list[n],new_person2_list[n]]\n",
    "    if tuple(edge) in Dpairwise:\n",
    "        Dpairwise[tuple(edge)] += 1\n",
    "    else:\n",
    "        Dpairwise[tuple(edge)] = 1 "
   ]
  },
  {
   "cell_type": "markdown",
   "metadata": {},
   "source": [
    "Normalize pairwise:"
   ]
  },
  {
   "cell_type": "code",
   "execution_count": 95,
   "metadata": {},
   "outputs": [
    {
     "name": "stdout",
     "output_type": "stream",
     "text": [
      "764\n"
     ]
    }
   ],
   "source": [
    "print(max(Dpairwise.values()))"
   ]
  },
  {
   "cell_type": "code",
   "execution_count": 96,
   "metadata": {},
   "outputs": [
    {
     "data": {
      "text/html": [
       "<div>\n",
       "<style scoped>\n",
       "    .dataframe tbody tr th:only-of-type {\n",
       "        vertical-align: middle;\n",
       "    }\n",
       "\n",
       "    .dataframe tbody tr th {\n",
       "        vertical-align: top;\n",
       "    }\n",
       "\n",
       "    .dataframe thead th {\n",
       "        text-align: right;\n",
       "    }\n",
       "</style>\n",
       "<table border=\"1\" class=\"dataframe\">\n",
       "  <thead>\n",
       "    <tr style=\"text-align: right;\">\n",
       "      <th></th>\n",
       "      <th>new index</th>\n",
       "      <th>class</th>\n",
       "      <th>strength</th>\n",
       "    </tr>\n",
       "  </thead>\n",
       "  <tbody>\n",
       "    <tr>\n",
       "      <th>0</th>\n",
       "      <td>0</td>\n",
       "      <td>x</td>\n",
       "      <td>0.000768</td>\n",
       "    </tr>\n",
       "    <tr>\n",
       "      <th>1</th>\n",
       "      <td>1</td>\n",
       "      <td>x</td>\n",
       "      <td>0.347158</td>\n",
       "    </tr>\n",
       "    <tr>\n",
       "      <th>2</th>\n",
       "      <td>2</td>\n",
       "      <td>x</td>\n",
       "      <td>0.291091</td>\n",
       "    </tr>\n",
       "    <tr>\n",
       "      <th>3</th>\n",
       "      <td>3</td>\n",
       "      <td>x</td>\n",
       "      <td>0.541475</td>\n",
       "    </tr>\n",
       "    <tr>\n",
       "      <th>4</th>\n",
       "      <td>4</td>\n",
       "      <td>x</td>\n",
       "      <td>0.877880</td>\n",
       "    </tr>\n",
       "    <tr>\n",
       "      <th>...</th>\n",
       "      <td>...</td>\n",
       "      <td>...</td>\n",
       "      <td>...</td>\n",
       "    </tr>\n",
       "    <tr>\n",
       "      <th>212</th>\n",
       "      <td>212</td>\n",
       "      <td>x</td>\n",
       "      <td>0.366359</td>\n",
       "    </tr>\n",
       "    <tr>\n",
       "      <th>213</th>\n",
       "      <td>213</td>\n",
       "      <td>x</td>\n",
       "      <td>1.020737</td>\n",
       "    </tr>\n",
       "    <tr>\n",
       "      <th>214</th>\n",
       "      <td>214</td>\n",
       "      <td>x</td>\n",
       "      <td>0.365591</td>\n",
       "    </tr>\n",
       "    <tr>\n",
       "      <th>215</th>\n",
       "      <td>215</td>\n",
       "      <td>x</td>\n",
       "      <td>1.040707</td>\n",
       "    </tr>\n",
       "    <tr>\n",
       "      <th>216</th>\n",
       "      <td>216</td>\n",
       "      <td>x</td>\n",
       "      <td>0.571429</td>\n",
       "    </tr>\n",
       "  </tbody>\n",
       "</table>\n",
       "<p>217 rows × 3 columns</p>\n",
       "</div>"
      ],
      "text/plain": [
       "     new index class  strength\n",
       "0            0     x  0.000768\n",
       "1            1     x  0.347158\n",
       "2            2     x  0.291091\n",
       "3            3     x  0.541475\n",
       "4            4     x  0.877880\n",
       "..         ...   ...       ...\n",
       "212        212     x  0.366359\n",
       "213        213     x  1.020737\n",
       "214        214     x  0.365591\n",
       "215        215     x  1.040707\n",
       "216        216     x  0.571429\n",
       "\n",
       "[217 rows x 3 columns]"
      ]
     },
     "execution_count": 96,
     "metadata": {},
     "output_type": "execute_result"
    }
   ],
   "source": [
    "meta"
   ]
  },
  {
   "cell_type": "code",
   "execution_count": 16,
   "metadata": {},
   "outputs": [],
   "source": [
    "Dpairwise_n = {}\n",
    "for key in Dpairwise:\n",
    "    Dpairwise_n[key] = Dpairwise[key]/max(Dpairwise.values())"
   ]
  },
  {
   "cell_type": "markdown",
   "metadata": {},
   "source": [
    "# Format for simple contagion"
   ]
  },
  {
   "cell_type": "code",
   "execution_count": 35,
   "metadata": {},
   "outputs": [],
   "source": [
    "import pandas as pd\n",
    "import json\n",
    "import gzip"
   ]
  },
  {
   "cell_type": "code",
   "execution_count": 51,
   "metadata": {},
   "outputs": [],
   "source": [
    "network_data = {'type':'daily'}\n",
    "G = [(int(u),int(v),float(w) )  for (u,v),w in Dpairwise_n.items()]\n",
    "network_data['graphs'] = [ G ]\n",
    "def get_strength(G,u):\n",
    "    s = 0\n",
    "    for x,y,w in G:\n",
    "        if u==x or u==y:\n",
    "            s += w\n",
    "    return s        \n",
    "meta =  pd.DataFrame( [(u, 'x', get_strength(G,u)) for u in new_nodes], columns= ('new index', 'class', 'strength') )\n",
    "network_data['metadata'] = meta.to_json()"
   ]
  },
  {
   "cell_type": "code",
   "execution_count": 52,
   "metadata": {},
   "outputs": [],
   "source": [
    "js = json.dumps( network_data , separators=(',', ':') )\n",
    "with gzip.open('office.json.gzip', 'w') as fout:\n",
    "    json_bytes = js.encode('utf-8')\n",
    "    fout.write(json_bytes)"
   ]
  },
  {
   "cell_type": "markdown",
   "metadata": {},
   "source": [
    "Save all pairwise:"
   ]
  },
  {
   "cell_type": "code",
   "execution_count": 18,
   "metadata": {},
   "outputs": [],
   "source": [
    "dict_name = 'pairwise/%s_strength_edgelist_pairwise_sorted_norm.pkl'%dataset\n",
    "with open(dict_name, 'wb') as f:\n",
    "    pickle.dump(Dpairwise_n, f)"
   ]
  },
  {
   "cell_type": "code",
   "execution_count": null,
   "metadata": {},
   "outputs": [],
   "source": []
  }
 ],
 "metadata": {
  "kernelspec": {
   "display_name": "Python 3 (ipykernel)",
   "language": "python",
   "name": "python3"
  },
  "language_info": {
   "codemirror_mode": {
    "name": "ipython",
    "version": 3
   },
   "file_extension": ".py",
   "mimetype": "text/x-python",
   "name": "python",
   "nbconvert_exporter": "python",
   "pygments_lexer": "ipython3",
   "version": "3.9.12"
  }
 },
 "nbformat": 4,
 "nbformat_minor": 2
}
