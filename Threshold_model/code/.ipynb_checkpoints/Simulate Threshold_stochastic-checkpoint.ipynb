{
 "cells": [
  {
   "cell_type": "code",
   "execution_count": null,
   "metadata": {},
   "outputs": [],
   "source": [
    "import numpy as np\n",
    "import Threshold_strength_responsibility_model_functions as TM\n",
    "from tqdm.notebook import tqdm\n",
    "import seaborn as sns\n",
    "import matplotlib.pyplot as plt\n",
    "import csv\n",
    "import pickle\n",
    "import networkx as nx\n",
    "import random\n",
    "import os\n",
    "\n",
    "%load_ext autoreload\n",
    "%autoreload 2"
   ]
  },
  {
   "cell_type": "code",
   "execution_count": null,
   "metadata": {},
   "outputs": [],
   "source": [
    "dataset = 'pr_school'\n",
    "\n",
    "with open('../../data/pairwise/' + dataset + '_strength_edgelist_pairwise_sorted_norm.pkl', 'rb') as f:\n",
    "    s_edgelist = pickle.load(f)"
   ]
  },
  {
   "cell_type": "code",
   "execution_count": null,
   "metadata": {},
   "outputs": [],
   "source": [
    "G = nx.Graph()\n",
    "for edge in list(s_edgelist.keys()):\n",
    "    G.add_weighted_edges_from([tuple((edge[0],edge[1],s_edgelist[edge]))])\n",
    "nb_nodes = len(list(G.nodes))"
   ]
  },
  {
   "cell_type": "code",
   "execution_count": null,
   "metadata": {},
   "outputs": [],
   "source": [
    "thresholds = [0.04, 0.06, 0.08, 0.10, 0.12, 0.14, 0.16, 0.18, 0.20, 0.22]\n",
    "if dataset == 'pr_school':\n",
    "    thresholds = [0.02, 0.04, 0.06, 0.08, 0.10, 0.12, 0.14, 0.16]\n",
    "\n",
    "mu = 0.1"
   ]
  },
  {
   "cell_type": "code",
   "execution_count": null,
   "metadata": {},
   "outputs": [],
   "source": [
    "times = 10000"
   ]
  },
  {
   "cell_type": "markdown",
   "metadata": {},
   "source": [
    "### Simulate"
   ]
  },
  {
   "cell_type": "code",
   "execution_count": null,
   "metadata": {},
   "outputs": [],
   "source": [
    "def save_on_csv(filename, variable_list, writing_operation):\n",
    "    with open(filename, writing_operation) as csvfile:\n",
    "        writer = csv.writer(csvfile)\n",
    "        try:\n",
    "            [writer.writerow(s) for s in variable_list]\n",
    "        except:\n",
    "            writer.writerow(variable_list)"
   ]
  },
  {
   "cell_type": "code",
   "execution_count": null,
   "metadata": {},
   "outputs": [],
   "source": [
    "folder = 'results/inf_treeSIR/'\n",
    "if not os.path.exists(folder):\n",
    "    os.makedirs(folder)"
   ]
  },
  {
   "cell_type": "code",
   "execution_count": null,
   "metadata": {},
   "outputs": [],
   "source": [
    "tm = TM.Threeshold_strength_resp_model(s_edgelist)\n",
    "\n",
    "for threshold in thresholds:\n",
    "    nb_good_sim = 0\n",
    "    print('threshold',threshold)\n",
    "    C_list = np.full(len(s_edgelist)*2,0)\n",
    "    t_i = [[] for i in range(nb_nodes)]\n",
    "\n",
    "    for n in tqdm(range(times)):\n",
    "        pat0 = random.randint(0,nb_nodes-1) # choose seed (patient 0)\n",
    "        # initialize:\n",
    "        tm.initialize_time0(pat0)\n",
    "        # simulate:\n",
    "        C_dict, flag_inf, t_i = tm.simulate(threshold,mu,t_i)\n",
    "        C_list = C_list + np.array(list(C_dict.values()))\n",
    "        if flag_inf:\n",
    "            nb_good_sim += 1\n",
    "            if nb_good_sim == 2000:\n",
    "                break\n",
    "    print('nb_good_sim',nb_good_sim)\n",
    "        \n",
    "             \n",
    "    # save infection pattern:\n",
    "    C_list = C_list/nb_nodes\n",
    "    file_name = folder + \"C_mean_weighted_%s_th_%.2f_mu_%.3f.csv\"%(dataset,threshold,mu)\n",
    "   \n",
    "    save_on_csv(file_name,C_list,'w')"
   ]
  },
  {
   "cell_type": "code",
   "execution_count": null,
   "metadata": {},
   "outputs": [],
   "source": []
  }
 ],
 "metadata": {
  "kernelspec": {
   "display_name": "Python 3",
   "language": "python",
   "name": "python3"
  },
  "language_info": {
   "codemirror_mode": {
    "name": "ipython",
    "version": 3
   },
   "file_extension": ".py",
   "mimetype": "text/x-python",
   "name": "python",
   "nbconvert_exporter": "python",
   "pygments_lexer": "ipython3",
   "version": "3.7.0"
  }
 },
 "nbformat": 4,
 "nbformat_minor": 2
}
