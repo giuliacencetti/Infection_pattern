{
 "cells": [
  {
   "cell_type": "code",
   "execution_count": 24,
   "metadata": {},
   "outputs": [],
   "source": [
    "import numpy as np\n",
    "import seaborn as sns\n",
    "import matplotlib.pyplot as plt\n",
    "import csv\n",
    "import networkx as nx\n",
    "import pickle\n",
    "\n",
    "import sys\n",
    "sys.path.insert(1, '../')\n",
    "from utils import *"
   ]
  },
  {
   "cell_type": "code",
   "execution_count": 3,
   "metadata": {},
   "outputs": [],
   "source": [
    "plt.rcParams.update({'font.size': 13})"
   ]
  },
  {
   "cell_type": "markdown",
   "metadata": {},
   "source": [
    "## Functions:"
   ]
  },
  {
   "cell_type": "code",
   "execution_count": 4,
   "metadata": {},
   "outputs": [],
   "source": [
    "def load_C_mean(filename):\n",
    "    with open(filename, 'r') as csvfile:\n",
    "        spamreader = csv.reader(csvfile, delimiter=',', quotechar='|')\n",
    "        for row in spamreader:\n",
    "            C = np.array([float(i) for i in row])\n",
    "    return C"
   ]
  },
  {
   "cell_type": "code",
   "execution_count": 5,
   "metadata": {},
   "outputs": [],
   "source": [
    "# cosine similarity between vectors\n",
    "def similarity(v1,v2):\n",
    "    \n",
    "    return np.sum(v1*v2) / (np.sqrt((np.sum(v1*v1))*np.sum(v2*v2)))"
   ]
  },
  {
   "cell_type": "code",
   "execution_count": 6,
   "metadata": {},
   "outputs": [],
   "source": [
    "dataset = 'hospital'\n",
    "#dataset = 'high_school'\n",
    "#dataset = 'conference'\n",
    "#dataset = 'workplace'"
   ]
  },
  {
   "cell_type": "code",
   "execution_count": null,
   "metadata": {},
   "outputs": [],
   "source": []
  },
  {
   "cell_type": "code",
   "execution_count": 7,
   "metadata": {},
   "outputs": [],
   "source": [
    "weighted = True"
   ]
  },
  {
   "cell_type": "code",
   "execution_count": 8,
   "metadata": {},
   "outputs": [
    {
     "data": {
      "text/plain": [
       "1"
      ]
     },
     "execution_count": 8,
     "metadata": {},
     "output_type": "execute_result"
    }
   ],
   "source": [
    "seed_size = 1\n",
    "seed_size"
   ]
  },
  {
   "cell_type": "markdown",
   "metadata": {},
   "source": [
    "# Comparison matrices"
   ]
  },
  {
   "cell_type": "code",
   "execution_count": 9,
   "metadata": {},
   "outputs": [],
   "source": [
    "mu = 0.1\n",
    "if dataset == 'hospital':\n",
    "    beta_betaT_range = [(0.6,0.8),\n",
    "                        (0.2,0.8),\n",
    "                        (0.4,7.5),\n",
    "                        (0.3,5),\n",
    "                        (0.15,5),\n",
    "                        (0.3,10),\n",
    "                        (0.1,10),\n",
    "                        (0.06,10),\n",
    "                        (0.05,15),\n",
    "                        (0.05,19)]\n",
    "    a_inf = 0.6\n",
    "    a_sup = 0.7\n",
    "#elif dataset == 'high_school':\n",
    "    \n",
    "#elif dataset == 'conference':\n",
    "    \n",
    "#elif dataset == 'workplace':\n",
    "    "
   ]
  },
  {
   "cell_type": "markdown",
   "metadata": {},
   "source": [
    "Load all simplicial results"
   ]
  },
  {
   "cell_type": "code",
   "execution_count": 11,
   "metadata": {},
   "outputs": [],
   "source": [
    "C_list_simplicial = []\n",
    "for (beta,betaT) in beta_betaT_range:\n",
    "    filenameL = \"../Simplicial_model/code/results/inf_treeSIR_all/a_%.1f_%.1f_final/CL_weighted_%s_beta_%.3f_betaT_%.3f_mu_%.3f.csv\"%(a_inf,a_sup,dataset,beta,betaT,mu)\n",
    "    filenameT = \"../Simplicial_model/code/results/inf_treeSIR_all/a_%.1f_%.1f_final/CT_weighted_%s_beta_%.3f_betaT_%.3f_mu_%.3f.csv\"%(a_inf,a_sup,dataset,beta,betaT,mu)\n",
    "    CL = load_C_mean(filenameL)\n",
    "    CT = load_C_mean(filenameT)\n",
    "    C_list_simplicial.append(CL+CT)"
   ]
  },
  {
   "cell_type": "code",
   "execution_count": 12,
   "metadata": {},
   "outputs": [
    {
     "data": {
      "text/plain": [
       "10"
      ]
     },
     "execution_count": 12,
     "metadata": {},
     "output_type": "execute_result"
    }
   ],
   "source": [
    "len(C_list_simplicial)"
   ]
  },
  {
   "cell_type": "markdown",
   "metadata": {},
   "source": [
    "Load all threshold results"
   ]
  },
  {
   "cell_type": "code",
   "execution_count": 17,
   "metadata": {},
   "outputs": [],
   "source": [
    "thresholds = [0.04, 0.06, 0.08, 0.10, 0.12, 0.14, 0.16, 0.18, 0.20, 0.22]"
   ]
  },
  {
   "cell_type": "code",
   "execution_count": 18,
   "metadata": {},
   "outputs": [],
   "source": [
    "C_list_thresh = []\n",
    "for theta in thresholds:\n",
    "    filename = \"../Threshold_model/code/results/inf_treeSIR/C_mean_weighted_%s_th_%.2f_mu_%.3f.csv\"%(dataset,theta,mu)\n",
    "    C = load_C_mean(filename)\n",
    "    C_list_thresh.append(C)"
   ]
  },
  {
   "cell_type": "code",
   "execution_count": 19,
   "metadata": {},
   "outputs": [
    {
     "data": {
      "text/plain": [
       "10"
      ]
     },
     "execution_count": 19,
     "metadata": {},
     "output_type": "execute_result"
    }
   ],
   "source": [
    "len(C_list_thresh)"
   ]
  },
  {
   "cell_type": "code",
   "execution_count": 20,
   "metadata": {},
   "outputs": [
    {
     "data": {
      "text/plain": [
       "'../Threshold_model/code/results/inf_treeSIR/C_mean_weighted_hospital_th_0.22_mu_0.100.csv'"
      ]
     },
     "execution_count": 20,
     "metadata": {},
     "output_type": "execute_result"
    }
   ],
   "source": [
    "filename"
   ]
  },
  {
   "cell_type": "markdown",
   "metadata": {},
   "source": [
    "Compute similarity and put in matrix sim$\\\\$ (each row is a different $\\theta$, each column a different $\\beta_|$)"
   ]
  },
  {
   "cell_type": "code",
   "execution_count": 22,
   "metadata": {},
   "outputs": [],
   "source": [
    "sim = np.full((len(thresholds),len(beta_betaT_range)),0.0)\n",
    "for i in range(len(thresholds)):\n",
    "    for j in range(len(beta_betaT_range)):            \n",
    "        sim[i,j] = similarity(C_list_thresh[i],C_list_simplicial[j])\n",
    "        #print('riga',i,'col',j,'theta',thresholds[i],'beta',beta_range[j])"
   ]
  },
  {
   "cell_type": "code",
   "execution_count": 23,
   "metadata": {},
   "outputs": [
    {
     "data": {
      "text/plain": [
       "(10, 10)"
      ]
     },
     "execution_count": 23,
     "metadata": {},
     "output_type": "execute_result"
    }
   ],
   "source": [
    "len(sim), len(sim[0])"
   ]
  },
  {
   "cell_type": "code",
   "execution_count": 25,
   "metadata": {},
   "outputs": [
    {
     "name": "stdout",
     "output_type": "stream",
     "text": [
      "0.2816763139029196 0.4144704322093552\n"
     ]
    },
    {
     "data": {
      "image/png": "[encoded data removed]",
      "text/plain": [
       "<Figure size 324x288 with 2 Axes>"
      ]
     },
     "metadata": {},
     "output_type": "display_data"
    }
   ],
   "source": [
    "plot_sim_different_axes(sim, \n",
    "                        beta_betaT_range, \n",
    "                        thresholds, \n",
    "                        r'($\\beta_{|}$,$\\beta_{\\Delta}$)', \n",
    "                        r'$\\theta$',\n",
    "                        'Simplicial vs. threshold\\n' +'Infection pattern sim.\\n'+'%.1f<a<%.1f'%(a_inf,a_sup),\n",
    "                        'figs/sim_simplicial_threshold_%s_mu_%.3f_a_%.1f_%.1f.pdf'%(dataset,mu,a_inf,a_sup),\n",
    "                        save=True)"
   ]
  },
  {
   "cell_type": "code",
   "execution_count": null,
   "metadata": {},
   "outputs": [],
   "source": []
  }
 ],
 "metadata": {
  "kernelspec": {
   "display_name": "Python 3",
   "language": "python",
   "name": "python3"
  },
  "language_info": {
   "codemirror_mode": {
    "name": "ipython",
    "version": 3
   },
   "file_extension": ".py",
   "mimetype": "text/x-python",
   "name": "python",
   "nbconvert_exporter": "python",
   "pygments_lexer": "ipython3",
   "version": "3.7.0"
  }
 },
 "nbformat": 4,
 "nbformat_minor": 2
}
