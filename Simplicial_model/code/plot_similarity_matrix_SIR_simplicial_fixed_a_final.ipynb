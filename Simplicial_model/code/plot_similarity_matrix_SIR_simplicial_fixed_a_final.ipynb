{
 "cells": [
  {
   "cell_type": "code",
   "execution_count": 1,
   "metadata": {},
   "outputs": [],
   "source": [
    "import numpy as np\n",
    "import seaborn as sns\n",
    "import matplotlib.pyplot as plt\n",
    "import csv\n",
    "import pickle\n",
    "import sys\n",
    "sys.path.insert(1, '../../')\n",
    "from utils import *\n"
   ]
  },
  {
   "cell_type": "code",
   "execution_count": 2,
   "metadata": {},
   "outputs": [],
   "source": [
    "plt.rcParams.update({'font.size': 13})"
   ]
  },
  {
   "cell_type": "markdown",
   "metadata": {},
   "source": [
    "## Functions:"
   ]
  },
  {
   "cell_type": "markdown",
   "metadata": {},
   "source": [
    "## Parameters"
   ]
  },
  {
   "cell_type": "code",
   "execution_count": 3,
   "metadata": {},
   "outputs": [],
   "source": [
    "dataset = 'pr_school'"
   ]
  },
  {
   "cell_type": "code",
   "execution_count": 4,
   "metadata": {},
   "outputs": [],
   "source": [
    "weighted = True"
   ]
  },
  {
   "cell_type": "code",
   "execution_count": 5,
   "metadata": {},
   "outputs": [],
   "source": [
    "mu = 0.1"
   ]
  },
  {
   "cell_type": "code",
   "execution_count": 6,
   "metadata": {},
   "outputs": [],
   "source": [
    "import os\n",
    "folder = '../figs'\n",
    "if not os.path.exists(folder):\n",
    "    os.makedirs(folder)"
   ]
  },
  {
   "cell_type": "code",
   "execution_count": 7,
   "metadata": {},
   "outputs": [],
   "source": [
    "if dataset == 'hospital':\n",
    "    beta_betaT_range = [(0.6,0.8),\n",
    "                        (0.2,0.8),\n",
    "                        (0.3,5),\n",
    "                        (0.4,7.5),\n",
    "                        (0.15,5),\n",
    "                        (0.3,10),\n",
    "                        (0.1,10),\n",
    "                        (0.06,10),\n",
    "                        (0.05,15),\n",
    "                        (0.05,19)]\n",
    "    a_inf = 0.6\n",
    "    a_sup = 0.7\n",
    "elif dataset == 'high_school':\n",
    "    beta_betaT_range = [(0.7,5),(0.9,5),(0.7,7),(1,7)]\n",
    "    a_inf = 0.6\n",
    "    a_sup = 0.7\n",
    "elif dataset == 'workplace':\n",
    "    a_inf = 0.3\n",
    "    a_sup = 0.4\n",
    "    beta_betaT_range = [(0.25,6.5),\n",
    "                        (0.25,7),\n",
    "                        (0.2,7),\n",
    "                        (0.2,7.3)]\n",
    "    \n",
    "elif dataset == 'conference':\n",
    "    beta_betaT_range = [(0.4,12)]\n",
    "    a_inf = 0.4\n",
    "    a_sup = 0.5\n",
    "elif dataset == 'pr_school':\n",
    "    a_inf = 0.6\n",
    "    a_sup = 0.7\n",
    "    beta_betaT_range = [(0.07,7),\n",
    "                        (0.1,7),\n",
    "                        (0.1,5),\n",
    "                        (0.2,7),\n",
    "                        (0.15,5),\n",
    "                        (0.2,5),\n",
    "                        (0.2,3),\n",
    "                        (0.2,1)]"
   ]
  },
  {
   "cell_type": "code",
   "execution_count": 8,
   "metadata": {},
   "outputs": [],
   "source": [
    "CL_list = []\n",
    "CT_list = []\n",
    "C_list = []\n",
    "for (beta,betaT) in beta_betaT_range:\n",
    "    file_nameL = \"results/inf_treeSIR_a_fixed/a_%.1f_%.1f_final/CL_weighted_%s_beta_%.3f_betaT_%.3f_mu_%.3f.csv\"%(a_inf,a_sup,dataset,beta,betaT,mu)\n",
    "    CL_list_tmp = load_C_list(file_nameL)\n",
    "    CL_mean = np.mean(CL_list_tmp,axis=0)\n",
    "    CL_list.append(CL_mean)\n",
    "    file_nameT = \"results/inf_treeSIR_a_fixed/a_%.1f_%.1f_final/CT_weighted_%s_beta_%.3f_betaT_%.3f_mu_%.3f.csv\"%(a_inf,a_sup,dataset,beta,betaT,mu)\n",
    "    CT_list_tmp = load_C_list(file_nameT)\n",
    "    CT_mean = np.mean(CT_list_tmp,axis=0)\n",
    "    CT_list.append(CT_mean)\n",
    "    C_list.append(CL_mean+CT_mean)"
   ]
  },
  {
   "cell_type": "code",
   "execution_count": 9,
   "metadata": {},
   "outputs": [
    {
     "data": {
      "text/plain": [
       "(69.83527108396663, 92.16472891603335)"
      ]
     },
     "execution_count": 9,
     "metadata": {},
     "output_type": "execute_result"
    }
   ],
   "source": [
    "np.sum(CL_mean), np.sum(CT_mean)"
   ]
  },
  {
   "cell_type": "code",
   "execution_count": 10,
   "metadata": {},
   "outputs": [
    {
     "data": {
      "image/png": "[encoded data removed]",
      "text/plain": [
       "<Figure size 216x182.059 with 1 Axes>"
      ]
     },
     "metadata": {},
     "output_type": "display_data"
    }
   ],
   "source": [
    "fig,ax = plt.subplots(1,1,figsize=(3,2.5286))\n",
    "plt.plot(np.sum(CL_list,axis=1),'o-',label='$|C_1|$',color='orange',markersize=10)\n",
    "plt.plot(np.sum(CT_list,axis=1),'v-',label='$|C_2|$',color='#ac19d2',markersize=10)\n",
    "plt.xlabel(r'($\\beta_|$,$\\beta_{\\Delta}$)')\n",
    "#plt.ylabel('$|C|$')\n",
    "plt.xticks([i for i in range(len(beta_betaT_range))],beta_betaT_range,rotation='vertical')\n",
    "if dataset == 'pr_school':\n",
    "    plt.ylim([0,200])\n",
    "elif dataset == 'hospital':\n",
    "    plt.ylim([-5,55])\n",
    "ax.spines['top'].set_visible(False)\n",
    "ax.spines['right'].set_visible(False)\n",
    "ax.spines['bottom'].set_visible(False)\n",
    "ax.spines['left'].set_visible(True)\n",
    "plt.tight_layout()\n",
    "figname = '../figs/CL_CT_mean_weighted_%s_mu_%.2f_a_%.1f_%.1f.pdf'%(dataset,mu,a_inf,a_sup)\n",
    "plt.savefig(figname)\n",
    "plt.show()"
   ]
  },
  {
   "cell_type": "code",
   "execution_count": 11,
   "metadata": {},
   "outputs": [],
   "source": [
    "S = np.full((len(beta_betaT_range),len(beta_betaT_range)),0.0)\n",
    "for i in range(len(beta_betaT_range)-1):\n",
    "    for j in range(i+1,len(beta_betaT_range)):\n",
    "        S[i,j] = cos_sim(C_list[i],C_list[j])"
   ]
  },
  {
   "cell_type": "code",
   "execution_count": 12,
   "metadata": {},
   "outputs": [],
   "source": [
    "figname = '../figs/cos_sim_%s_mu_%.2f_a_%.1f_%.1f'%(dataset,mu,a_inf,a_sup)"
   ]
  },
  {
   "cell_type": "code",
   "execution_count": 13,
   "metadata": {},
   "outputs": [
    {
     "name": "stdout",
     "output_type": "stream",
     "text": [
      "../figs/cos_sim_pr_school_mu_0.10_a_0.6_0.7.pdf\n"
     ]
    },
    {
     "data": {
      "image/png": "[encoded data removed]",
      "text/plain": [
       "<Figure size 324x288 with 2 Axes>"
      ]
     },
     "metadata": {},
     "output_type": "display_data"
    }
   ],
   "source": [
    "plot_sim(S, mu, beta_betaT_range, ax_label=r'($\\beta_|$,$\\beta_{\\Delta}$)', save=True, figname=figname)"
   ]
  },
  {
   "cell_type": "code",
   "execution_count": 14,
   "metadata": {},
   "outputs": [
    {
     "name": "stdout",
     "output_type": "stream",
     "text": [
      "../figs/cos_sim_pr_school_mu_0.10_a_0.6_0.7.pdf\n"
     ]
    },
    {
     "data": {
      "image/png": "[encoded data removed]",
      "text/plain": [
       "<Figure size 324x288 with 2 Axes>"
      ]
     },
     "metadata": {},
     "output_type": "display_data"
    }
   ],
   "source": [
    "plot_sim(S, mu, beta_betaT_range, ax_label=r'($\\beta_|$,$\\beta_{\\Delta}$)', save=True, figname=figname)"
   ]
  },
  {
   "cell_type": "code",
   "execution_count": null,
   "metadata": {},
   "outputs": [],
   "source": []
  },
  {
   "cell_type": "code",
   "execution_count": null,
   "metadata": {},
   "outputs": [],
   "source": []
  },
  {
   "cell_type": "code",
   "execution_count": null,
   "metadata": {},
   "outputs": [],
   "source": []
  }
 ],
 "metadata": {
  "kernelspec": {
   "display_name": "Python 3",
   "language": "python",
   "name": "python3"
  },
  "language_info": {
   "codemirror_mode": {
    "name": "ipython",
    "version": 3
   },
   "file_extension": ".py",
   "mimetype": "text/x-python",
   "name": "python",
   "nbconvert_exporter": "python",
   "pygments_lexer": "ipython3",
   "version": "3.7.0"
  }
 },
 "nbformat": 4,
 "nbformat_minor": 2
}
