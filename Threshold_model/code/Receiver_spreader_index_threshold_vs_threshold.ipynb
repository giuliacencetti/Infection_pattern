{
 "cells": [
  {
   "cell_type": "code",
   "execution_count": 1,
   "metadata": {},
   "outputs": [],
   "source": [
    "import numpy as np\n",
    "import seaborn as sns\n",
    "import matplotlib.pyplot as plt\n",
    "import csv\n",
    "#import networkx as nx\n",
    "import pickle\n",
    "from scipy import stats\n",
    "\n",
    "import sys\n",
    "sys.path.insert(1, '../../')\n",
    "from utils import *"
   ]
  },
  {
   "cell_type": "code",
   "execution_count": 27,
   "metadata": {},
   "outputs": [],
   "source": [
    "plt.rcParams.update({'font.size': 13})"
   ]
  },
  {
   "cell_type": "code",
   "execution_count": 2,
   "metadata": {},
   "outputs": [],
   "source": [
    "#dataset = 'hospital'\n",
    "#dataset = 'high_school'\n",
    "#dataset = 'conference'\n",
    "#dataset = 'workplace'\n",
    "dataset = 'pr_school'"
   ]
  },
  {
   "cell_type": "code",
   "execution_count": 3,
   "metadata": {},
   "outputs": [],
   "source": [
    "weighted = True"
   ]
  },
  {
   "cell_type": "code",
   "execution_count": 4,
   "metadata": {},
   "outputs": [],
   "source": [
    "thresholds = [0.04, 0.06, 0.08, 0.10, 0.12, 0.14, 0.16, 0.18, 0.20, 0.22]\n",
    "if dataset == 'pr_school':\n",
    "    thresholds = [0.02, 0.04, 0.06, 0.08, 0.10, 0.12, 0.14, 0.16]\n",
    "mu = 0.1"
   ]
  },
  {
   "cell_type": "markdown",
   "metadata": {},
   "source": [
    "# Load C and obtain r and s:"
   ]
  },
  {
   "cell_type": "markdown",
   "metadata": {},
   "source": [
    "C is an array of weights, I need to put it in a matrix shape to compute r and s"
   ]
  },
  {
   "cell_type": "code",
   "execution_count": 5,
   "metadata": {},
   "outputs": [],
   "source": [
    "def obtain_r_s_indices(C,edgelist):\n",
    "    # put C in dict:\n",
    "    C_dict = {}\n",
    "    n = 0\n",
    "    for edge in edgelist:\n",
    "        C_dict[tuple(edge)] = C[n]\n",
    "        C_dict[tuple(edge[::-1])] = C[n+1]\n",
    "        n += 2\n",
    "    # verify:\n",
    "    if list(C_dict.values()) != list(C):\n",
    "        print('error')\n",
    "    nb_nodes = max(np.unique(list(C_dict.keys()))) + 1\n",
    "    # put C_dict in matrix:\n",
    "    C_mat = np.zeros((nb_nodes,nb_nodes))\n",
    "    for link in C_dict:\n",
    "        C_mat[link[0],link[1]] = C_dict[link]\n",
    "\n",
    "    # receiver index:\n",
    "    r = C_mat.sum(axis=0) # somma di ogni colonna\n",
    "    # spreader index:\n",
    "    s = C_mat.sum(axis=1) # somma di ogni riga\n",
    "\n",
    "    return r, s"
   ]
  },
  {
   "cell_type": "code",
   "execution_count": 6,
   "metadata": {},
   "outputs": [],
   "source": [
    "with open('../../data/pairwise/' + dataset + '_strength_edgelist_pairwise_sorted.pkl', 'rb') as f:\n",
    "    edgelist = pickle.load(f)"
   ]
  },
  {
   "cell_type": "code",
   "execution_count": 7,
   "metadata": {},
   "outputs": [],
   "source": [
    "r_list = []\n",
    "s_list = []\n",
    "for th in thresholds:\n",
    "    if mu > 0:\n",
    "        filename = \"results/inf_treeSIR/C_mean_weighted_%s_th_%.2f_mu_%.3f.csv\"%(dataset,th,mu)\n",
    "    else:\n",
    "        filename = \"results/inf_treeSI/C_mean_weighted_%s_th_%.2f.csv\"%(dataset,th)\n",
    "\n",
    "    C = load_C_mean(filename)\n",
    "    # verify:\n",
    "    if 2*len(edgelist) != len(C):\n",
    "        print('errore')\n",
    "    r, s = obtain_r_s_indices(C,edgelist)\n",
    "    r_list.append(r)\n",
    "    s_list.append(s)\n",
    "    "
   ]
  },
  {
   "cell_type": "code",
   "execution_count": 8,
   "metadata": {},
   "outputs": [],
   "source": [
    "#r_list[0]"
   ]
  },
  {
   "cell_type": "markdown",
   "metadata": {},
   "source": [
    "# Cosine similarity"
   ]
  },
  {
   "cell_type": "markdown",
   "metadata": {},
   "source": [
    "### Receiver index"
   ]
  },
  {
   "cell_type": "code",
   "execution_count": 9,
   "metadata": {},
   "outputs": [],
   "source": [
    "sim_r = np.full((len(thresholds),len(thresholds)),0.0)\n",
    "for i in range(len(thresholds)-1):\n",
    "    for j in range(i+1,len(thresholds)):\n",
    "        sim_r[i,j] = cos_sim(r_list[i],r_list[j] )"
   ]
  },
  {
   "cell_type": "code",
   "execution_count": 28,
   "metadata": {},
   "outputs": [
    {
     "name": "stdout",
     "output_type": "stream",
     "text": [
      "0.9860206967837584 0.9999973344275498\n",
      "../figs/cos_sim_receiver_pr_school_mu_0.10.pdf.pdf\n"
     ]
    },
    {
     "data": {
      "image/png": "[encoded data removed]",
      "text/plain": [
       "<Figure size 324x288 with 2 Axes>"
      ]
     },
     "metadata": {},
     "output_type": "display_data"
    }
   ],
   "source": [
    "title='$r_i$ cosine sim.'\n",
    "figname = '../figs/receiver_cos_sim_%s_mu_%.2f.pdf'%(dataset,mu)\n",
    "\n",
    "plot_sim(sim_r, \n",
    "         mu, \n",
    "         thresholds,\n",
    "         r'$\\theta$',\n",
    "         save=True, \n",
    "         figname=figname, \n",
    "         scale='independent',\n",
    "         min_scale=0, \n",
    "         max_scale=1)"
   ]
  },
  {
   "cell_type": "markdown",
   "metadata": {},
   "source": [
    "### Spreader index"
   ]
  },
  {
   "cell_type": "code",
   "execution_count": 29,
   "metadata": {},
   "outputs": [],
   "source": [
    "sim_s = np.full((len(thresholds),len(thresholds)),0.0)\n",
    "for i in range(len(thresholds)-1):\n",
    "    for j in range(i+1,len(thresholds)):\n",
    "        sim_s[i,j] = cos_sim(s_list[i],s_list[j] )"
   ]
  },
  {
   "cell_type": "code",
   "execution_count": 30,
   "metadata": {},
   "outputs": [
    {
     "name": "stdout",
     "output_type": "stream",
     "text": [
      "0.8607311831932849 0.9886897643514253\n",
      "../figs/cos_sim_spreader_pr_school_mu_0.10.pdf.pdf\n"
     ]
    },
    {
     "data": {
      "image/png": "[encoded data removed]",
      "text/plain": [
       "<Figure size 324x288 with 2 Axes>"
      ]
     },
     "metadata": {},
     "output_type": "display_data"
    }
   ],
   "source": [
    "title='$s_i$ cosine sim.'\n",
    "figname = '../figs/spreader_cos_sim_%s_mu_%.2f.pdf'%(dataset,mu)\n",
    "\n",
    "plot_sim(sim_s, \n",
    "         mu, \n",
    "         thresholds,\n",
    "         r'$\\theta$',\n",
    "         save=True, \n",
    "         figname=figname, \n",
    "         scale='independent',\n",
    "         min_scale=0, \n",
    "         max_scale=1)"
   ]
  },
  {
   "cell_type": "markdown",
   "metadata": {},
   "source": [
    "# Ranking correlation"
   ]
  },
  {
   "cell_type": "markdown",
   "metadata": {},
   "source": [
    "### Receiver index"
   ]
  },
  {
   "cell_type": "code",
   "execution_count": 31,
   "metadata": {},
   "outputs": [],
   "source": [
    "corr_r = np.full((len(thresholds),len(thresholds)),0.0)\n",
    "for i in range(len(thresholds)-1):\n",
    "    for j in range(i+1,len(thresholds)):\n",
    "        corr_r[i,j] = stats.spearmanr(np.array(r_list[i]),np.array(r_list[j])).correlation"
   ]
  },
  {
   "cell_type": "code",
   "execution_count": 32,
   "metadata": {},
   "outputs": [
    {
     "name": "stdout",
     "output_type": "stream",
     "text": [
      "-0.07479264914583042 0.9211588058337927\n",
      "../figs/rank_corr_receiver_pr_school_mu_0.10.pdf.pdf\n"
     ]
    },
    {
     "data": {
      "image/png": "[encoded data removed]",
      "text/plain": [
       "<Figure size 324x288 with 2 Axes>"
      ]
     },
     "metadata": {},
     "output_type": "display_data"
    }
   ],
   "source": [
    "title='$r_i$ ranking corr.'\n",
    "figname = '../figs/receiver_rank_corr_%s_mu_%.2f.pdf'%(dataset,mu)\n",
    "\n",
    "plot_sim(corr_r, \n",
    "         mu, \n",
    "         thresholds,\n",
    "         r'$\\theta$',\n",
    "         save=True, \n",
    "         figname=figname, \n",
    "         scale='independent',\n",
    "         min_scale=0, \n",
    "         max_scale=1)"
   ]
  },
  {
   "cell_type": "markdown",
   "metadata": {},
   "source": [
    "### Spreader index"
   ]
  },
  {
   "cell_type": "code",
   "execution_count": 33,
   "metadata": {},
   "outputs": [],
   "source": [
    "corr_s = np.full((len(thresholds),len(thresholds)),0.0)\n",
    "for i in range(len(thresholds)-1):\n",
    "    for j in range(i+1,len(thresholds)):\n",
    "        corr_s[i,j] = stats.spearmanr(np.array(s_list[i]),np.array(s_list[j])).correlation"
   ]
  },
  {
   "cell_type": "code",
   "execution_count": 34,
   "metadata": {},
   "outputs": [
    {
     "name": "stdout",
     "output_type": "stream",
     "text": [
      "0.744549734742115 0.9765651823994587\n",
      "../figs/rank_corr_spreader_pr_school_mu_0.10.pdf.pdf\n"
     ]
    },
    {
     "data": {
      "image/png": "[encoded data removed]",
      "text/plain": [
       "<Figure size 324x288 with 2 Axes>"
      ]
     },
     "metadata": {},
     "output_type": "display_data"
    }
   ],
   "source": [
    "title='$s_i$ ranking corr.'\n",
    "figname = '../figs/spreader_rank_corr_%s_mu_%.2f.pdf'%(dataset,mu)\n",
    "\n",
    "plot_sim(corr_s, \n",
    "         mu, \n",
    "         thresholds,\n",
    "         r'$\\theta$',\n",
    "         save=True, \n",
    "         figname=figname, \n",
    "         scale='independent',\n",
    "         min_scale=0, \n",
    "         max_scale=1)"
   ]
  },
  {
   "cell_type": "markdown",
   "metadata": {},
   "source": [
    "# Receiver vs. spreader"
   ]
  },
  {
   "cell_type": "code",
   "execution_count": 36,
   "metadata": {},
   "outputs": [
    {
     "data": {
      "image/png": "[encoded data removed]",
      "text/plain": [
       "<Figure size 288x288 with 1 Axes>"
      ]
     },
     "metadata": {},
     "output_type": "display_data"
    }
   ],
   "source": [
    "fig, ax = plt.subplots(nrows = 1, ncols = 1,figsize=(4,4))\n",
    "\n",
    "colors = plt.cm.plasma(np.linspace(0,1,len(thresholds)))\n",
    "for i in range(len(thresholds)):\n",
    "    plt.plot(np.array(s_list[i]),\n",
    "             np.array(r_list[i]),\n",
    "             'o',\n",
    "             c=colors[i],\n",
    "             label=r'%.2f'%thresholds[i])\n",
    "plt.xlabel('Spreader index')\n",
    "plt.ylabel('Receiver index')\n",
    "plt.tight_layout()\n",
    "plt.legend(title=r'$\\theta$')\n",
    "plt.savefig('../figs/r_s_threshold_%s.pdf'%(dataset))\n",
    "#plt.savefig('../figs/legend.pdf')\n",
    "plt.show()"
   ]
  },
  {
   "cell_type": "code",
   "execution_count": null,
   "metadata": {},
   "outputs": [],
   "source": []
  }
 ],
 "metadata": {
  "kernelspec": {
   "display_name": "Python 3",
   "language": "python",
   "name": "python3"
  },
  "language_info": {
   "codemirror_mode": {
    "name": "ipython",
    "version": 3
   },
   "file_extension": ".py",
   "mimetype": "text/x-python",
   "name": "python",
   "nbconvert_exporter": "python",
   "pygments_lexer": "ipython3",
   "version": "3.7.0"
  }
 },
 "nbformat": 4,
 "nbformat_minor": 2
}
