{
 "cells": [
  {
   "cell_type": "code",
   "execution_count": 1,
   "metadata": {},
   "outputs": [],
   "source": [
    "import numpy as np\n",
    "import seaborn as sns\n",
    "import matplotlib.pyplot as plt\n",
    "import csv\n",
    "import pickle\n",
    "import sys\n",
    "\n",
    "sys.path.insert(1, '../../')\n",
    "from utils import *"
   ]
  },
  {
   "cell_type": "code",
   "execution_count": 2,
   "metadata": {},
   "outputs": [],
   "source": [
    "plt.rcParams.update({'font.size': 13})"
   ]
  },
  {
   "cell_type": "code",
   "execution_count": null,
   "metadata": {},
   "outputs": [],
   "source": [
    "import os\n",
    "folder = '../figs'\n",
    "if not os.path.exists(folder):\n",
    "    os.makedirs(folder)"
   ]
  },
  {
   "cell_type": "markdown",
   "metadata": {},
   "source": [
    "## Parameters"
   ]
  },
  {
   "cell_type": "code",
   "execution_count": 3,
   "metadata": {},
   "outputs": [],
   "source": [
    "dataset = 'pr_school'"
   ]
  },
  {
   "cell_type": "code",
   "execution_count": 4,
   "metadata": {},
   "outputs": [],
   "source": [
    "weighted = True"
   ]
  },
  {
   "cell_type": "code",
   "execution_count": 5,
   "metadata": {},
   "outputs": [],
   "source": [
    "mu = 0.1"
   ]
  },
  {
   "cell_type": "code",
   "execution_count": 6,
   "metadata": {},
   "outputs": [],
   "source": [
    "if dataset == 'hospital':    \n",
    "    beta_betaT_range = [(0.6,0.8),\n",
    "                        (0.2,0.8),\n",
    "                        (0.3,5),\n",
    "                        (0.4,7.5),\n",
    "                        (0.15,5),\n",
    "                        (0.3,10),\n",
    "                        (0.1,10),\n",
    "                        (0.06,10),\n",
    "                        (0.05,15),\n",
    "                        (0.05,19)]\n",
    "elif dataset == 'workplace': \n",
    "    beta_betaT_range = [(0.5,7),\n",
    "                        (0.4,7.3),\n",
    "                        (0.3,6.5),\n",
    "                        (0.25,6.5),\n",
    "                        (0.25,7),\n",
    "                        (0.2,7),\n",
    "                        (0.2,7.3)]\n",
    "elif dataset == 'conference':\n",
    "    beta_betaT_range = [(1,12),\n",
    "                        (0.9,12),\n",
    "                        (0.8,12),\n",
    "                        (0.7,12),\n",
    "                        (0.6,12),\n",
    "                        (0.5,12),\n",
    "                        (0.4,12)]\n",
    "\n",
    "if dataset == 'pr_school':\n",
    "    beta_betaT_range = [(0.07,7),\n",
    "                        #(0.08,7),\n",
    "                        (0.1,7),\n",
    "                        #(0.11,6),\n",
    "                        (0.1,5),\n",
    "                        (0.2,7),\n",
    "                        (0.15,5),\n",
    "                        #(0.14,5),\n",
    "                        (0.2,5),\n",
    "                        #(0.17,4),\n",
    "                        (0.2,3),\n",
    "                        #(0.23,2),\n",
    "                        (0.2,1),\n",
    "                        #(0.26,1)\n",
    "                        ]"
   ]
  },
  {
   "cell_type": "code",
   "execution_count": 8,
   "metadata": {},
   "outputs": [],
   "source": [
    "CL_list = []\n",
    "CT_list = []\n",
    "C_list = []\n",
    "for (beta,betaT) in beta_betaT_range:\n",
    "    filename = \"results/inf_treeSIR/CL_mean_weighted_%s_beta_%.3f_betaT_%.3f_mu_%.2f_init_1.csv\"%(dataset,beta,betaT,mu)\n",
    "    CL = load_C_mean(filename)\n",
    "    CL_list.append(CL)\n",
    "    filename = \"results/inf_treeSIR/CT_mean_weighted_%s_beta_%.3f_betaT_%.3f_mu_%.2f_init_1.csv\"%(dataset,beta,betaT,mu)\n",
    "    CT = load_C_mean(filename)\n",
    "    CT_list.append(CT)\n",
    "    C_list.append(CL+CT)"
   ]
  },
  {
   "cell_type": "code",
   "execution_count": 9,
   "metadata": {},
   "outputs": [
    {
     "data": {
      "text/plain": [
       "(172.48356526777843, 26.516434732221587)"
      ]
     },
     "execution_count": 9,
     "metadata": {},
     "output_type": "execute_result"
    }
   ],
   "source": [
    "np.sum(CL),np.sum(CT)"
   ]
  },
  {
   "cell_type": "code",
   "execution_count": 10,
   "metadata": {},
   "outputs": [
    {
     "name": "stdout",
     "output_type": "stream",
     "text": [
      "../figs/CL_CT_mean_weighted_pr_school_mu_0.10.pdf\n"
     ]
    },
    {
     "data": {
      "image/png": "[encoded data removed]",
      "text/plain": [
       "<Figure size 212.4x182.059 with 1 Axes>"
      ]
     },
     "metadata": {},
     "output_type": "display_data"
    }
   ],
   "source": [
    "fig,ax = plt.subplots(1,1,figsize=(2.95,2.5286))\n",
    "plt.plot(np.sum(CL_list,axis=1),'o-',label='$|C_1|$',color='orange',markersize=10)\n",
    "plt.plot(np.sum(CT_list,axis=1),'v-',label='$|C_2|$',color='#ac19d2',markersize=10)\n",
    "#plt.plot(np.sum(CL_list,axis=1)/np.sum(CT_list,axis=1),'o',label='CL/CT')\n",
    "plt.xlabel(r'($\\beta_|$,$\\beta_{\\Delta}$)')\n",
    "#plt.ylabel('$|C|$')\n",
    "plt.xticks([i for i in range(len(beta_betaT_range))],beta_betaT_range,rotation='vertical')\n",
    "if dataset== 'pr_school':\n",
    "    plt.ylim([-5,150])\n",
    "elif dataset == 'hospital':\n",
    "    plt.ylim([-5,45])\n",
    "elif dataset == 'conference':\n",
    "    plt.ylim([10,120])\n",
    "elif dataset == 'workplace':\n",
    "    plt.ylim([-5,100])\n",
    "plt.tight_layout()\n",
    "ax.spines['top'].set_visible(False)\n",
    "ax.spines['right'].set_visible(False)\n",
    "ax.spines['bottom'].set_visible(False)\n",
    "ax.spines['left'].set_visible(True)\n",
    "\n",
    "figname = '../figs/CL_CT_mean_weighted_%s_mu_%.2f.pdf'%(dataset,mu)\n",
    "print(figname)\n",
    "plt.savefig(figname)\n",
    "plt.show()"
   ]
  },
  {
   "cell_type": "code",
   "execution_count": 11,
   "metadata": {},
   "outputs": [
    {
     "name": "stderr",
     "output_type": "stream",
     "text": [
      "/Library/Frameworks/Python.framework/Versions/3.7/lib/python3.7/site-packages/ipykernel_launcher.py:2: RuntimeWarning: invalid value encountered in true_divide\n",
      "  \n"
     ]
    },
    {
     "data": {
      "text/plain": [
       "Text(0.5, 0, '($\\\\beta_|$,$\\\\beta_{\\\\Delta}$)')"
      ]
     },
     "execution_count": 11,
     "metadata": {},
     "output_type": "execute_result"
    },
    {
     "data": {
      "image/png": "[encoded data removed]",
      "text/plain": [
       "<Figure size 324x288 with 1 Axes>"
      ]
     },
     "metadata": {},
     "output_type": "display_data"
    }
   ],
   "source": [
    "fig,ax = plt.subplots(1,1,figsize=(4.5,4))\n",
    "plt.plot(np.sum(CL_list,axis=1)/np.sum(CT_list,axis=1),'o')\n",
    "plt.xticks([i for i in range(len(beta_betaT_range))],beta_betaT_range,rotation='vertical')\n",
    "plt.xlabel(r'($\\beta_|$,$\\beta_{\\Delta}$)')\n"
   ]
  },
  {
   "cell_type": "code",
   "execution_count": 12,
   "metadata": {},
   "outputs": [
    {
     "name": "stderr",
     "output_type": "stream",
     "text": [
      "../../utils.py:27: RuntimeWarning: invalid value encountered in double_scalars\n",
      "  return np.sum(v1*v2) / (np.sqrt((np.sum(v1*v1))*np.sum(v2*v2)))\n"
     ]
    }
   ],
   "source": [
    "S = np.full((len(beta_betaT_range),len(beta_betaT_range)),0.0)\n",
    "for i in range(len(beta_betaT_range)-1):\n",
    "    for j in range(i+1,len(beta_betaT_range)):\n",
    "        S[i,j] = cos_sim(C_list[i],C_list[j])"
   ]
  },
  {
   "cell_type": "code",
   "execution_count": 13,
   "metadata": {},
   "outputs": [],
   "source": [
    "figname = '../figs/cos_sim_%s_mu_%.2f'%(dataset,mu)"
   ]
  },
  {
   "cell_type": "code",
   "execution_count": 14,
   "metadata": {},
   "outputs": [
    {
     "name": "stdout",
     "output_type": "stream",
     "text": [
      "0.1583053531635836 0.45656264451003553\n",
      "../figs/cos_sim_pr_school_mu_0.10.pdf\n"
     ]
    },
    {
     "data": {
      "image/png": "[encoded data removed]",
      "text/plain": [
       "<Figure size 324x288 with 2 Axes>"
      ]
     },
     "metadata": {},
     "output_type": "display_data"
    }
   ],
   "source": [
    "plot_sim(S, mu, beta_betaT_range, ax_label=r'($\\beta_|$,$\\beta_{\\Delta}$)', save=True, figname=figname)"
   ]
  },
  {
   "cell_type": "code",
   "execution_count": 15,
   "metadata": {},
   "outputs": [
    {
     "name": "stdout",
     "output_type": "stream",
     "text": [
      "0.8708926301573268 0.9930384288788436\n",
      "../figs/cos_sim_pr_school_mu_0.10_colorscale.pdf\n"
     ]
    },
    {
     "data": {
      "image/png": "[encoded data removed]",
      "text/plain": [
       "<Figure size 324x288 with 2 Axes>"
      ]
     },
     "metadata": {},
     "output_type": "display_data"
    }
   ],
   "source": [
    "plot_sim(S, mu, beta_betaT_range, ax_label=r'($\\beta_|$,$\\beta_{\\Delta}$)', save=True, figname=figname)"
   ]
  },
  {
   "cell_type": "code",
   "execution_count": null,
   "metadata": {},
   "outputs": [],
   "source": []
  },
  {
   "cell_type": "code",
   "execution_count": null,
   "metadata": {},
   "outputs": [],
   "source": []
  }
 ],
 "metadata": {
  "kernelspec": {
   "display_name": "Python 3",
   "language": "python",
   "name": "python3"
  },
  "language_info": {
   "codemirror_mode": {
    "name": "ipython",
    "version": 3
   },
   "file_extension": ".py",
   "mimetype": "text/x-python",
   "name": "python",
   "nbconvert_exporter": "python",
   "pygments_lexer": "ipython3",
   "version": "3.7.0"
  }
 },
 "nbformat": 4,
 "nbformat_minor": 2
}
